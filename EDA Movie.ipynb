{
 "cells": [
  {
   "cell_type": "markdown",
   "metadata": {},
   "source": [
    "# EDA Movie\n",
    "\n",
    "## Project\n",
    "Several sites allow you to post a comment or opinion about a product, place, or event. Think of Facebook, Instagram, Youtube, or Reddit. However, on not all of these sites, you can see at a glance how many of these comments are written with a positive or negative mindset. \n",
    "\n",
    "For many people or companies, it is useful to know what percentage of the reactions are positive or negative. You can't always tell this by looking at a Like system. The main question you should be able to answer with the help of this project is; Is a piece of text positive or negative?\n",
    "\n",
    "## Movie Dataset\n",
    "\n",
    "This is a dataset with a lot of reviews about movies. It comes from kaggle.\n",
    "  \n",
    "source: https://www.kaggle.com/nltkdata/movie-review\n",
    "\n",
    "## Document goal\n",
    "In this paper, I want to gain more insight into the Movie dataset. And estimate if it is useful for achieving my project goal. "
   ]
  },
  {
   "cell_type": "markdown",
   "metadata": {},
   "source": [
    "First We will start with importing libraries"
   ]
  },
  {
   "cell_type": "code",
   "execution_count": 1,
   "metadata": {},
   "outputs": [],
   "source": [
    "import pandas as pd\n",
    "import numpy as np\n",
    "import matplotlib.pyplot as plt\n",
    "from matplotlib.pyplot import figure\n",
    "\n",
    "#set decimal point\n",
    "pd.options.display.float_format = \"{:.5f}\".format"
   ]
  },
  {
   "cell_type": "markdown",
   "metadata": {},
   "source": [
    "Let's start by loading the data set "
   ]
  },
  {
   "cell_type": "code",
   "execution_count": 2,
   "metadata": {},
   "outputs": [],
   "source": [
    "df = pd.read_csv('data/raw/movie_review.csv')"
   ]
  },
  {
   "cell_type": "markdown",
   "metadata": {},
   "source": [
    "Now that we have a data frame let's start looking at the data "
   ]
  },
  {
   "cell_type": "code",
   "execution_count": 3,
   "metadata": {},
   "outputs": [
    {
     "data": {
      "text/html": [
       "<div>\n",
       "<style scoped>\n",
       "    .dataframe tbody tr th:only-of-type {\n",
       "        vertical-align: middle;\n",
       "    }\n",
       "\n",
       "    .dataframe tbody tr th {\n",
       "        vertical-align: top;\n",
       "    }\n",
       "\n",
       "    .dataframe thead th {\n",
       "        text-align: right;\n",
       "    }\n",
       "</style>\n",
       "<table border=\"1\" class=\"dataframe\">\n",
       "  <thead>\n",
       "    <tr style=\"text-align: right;\">\n",
       "      <th></th>\n",
       "      <th>fold_id</th>\n",
       "      <th>cv_tag</th>\n",
       "      <th>html_id</th>\n",
       "      <th>sent_id</th>\n",
       "      <th>text</th>\n",
       "      <th>tag</th>\n",
       "    </tr>\n",
       "  </thead>\n",
       "  <tbody>\n",
       "    <tr>\n",
       "      <th>0</th>\n",
       "      <td>0</td>\n",
       "      <td>cv000</td>\n",
       "      <td>29590</td>\n",
       "      <td>0</td>\n",
       "      <td>films adapted from comic books have had plenty...</td>\n",
       "      <td>pos</td>\n",
       "    </tr>\n",
       "    <tr>\n",
       "      <th>1</th>\n",
       "      <td>0</td>\n",
       "      <td>cv000</td>\n",
       "      <td>29590</td>\n",
       "      <td>1</td>\n",
       "      <td>for starters , it was created by alan moore ( ...</td>\n",
       "      <td>pos</td>\n",
       "    </tr>\n",
       "    <tr>\n",
       "      <th>2</th>\n",
       "      <td>0</td>\n",
       "      <td>cv000</td>\n",
       "      <td>29590</td>\n",
       "      <td>2</td>\n",
       "      <td>to say moore and campbell thoroughly researche...</td>\n",
       "      <td>pos</td>\n",
       "    </tr>\n",
       "    <tr>\n",
       "      <th>3</th>\n",
       "      <td>0</td>\n",
       "      <td>cv000</td>\n",
       "      <td>29590</td>\n",
       "      <td>3</td>\n",
       "      <td>the book ( or \" graphic novel , \" if you will ...</td>\n",
       "      <td>pos</td>\n",
       "    </tr>\n",
       "    <tr>\n",
       "      <th>4</th>\n",
       "      <td>0</td>\n",
       "      <td>cv000</td>\n",
       "      <td>29590</td>\n",
       "      <td>4</td>\n",
       "      <td>in other words , don't dismiss this film becau...</td>\n",
       "      <td>pos</td>\n",
       "    </tr>\n",
       "    <tr>\n",
       "      <th>...</th>\n",
       "      <td>...</td>\n",
       "      <td>...</td>\n",
       "      <td>...</td>\n",
       "      <td>...</td>\n",
       "      <td>...</td>\n",
       "      <td>...</td>\n",
       "    </tr>\n",
       "    <tr>\n",
       "      <th>64715</th>\n",
       "      <td>9</td>\n",
       "      <td>cv999</td>\n",
       "      <td>14636</td>\n",
       "      <td>20</td>\n",
       "      <td>that lack of inspiration can be traced back to...</td>\n",
       "      <td>neg</td>\n",
       "    </tr>\n",
       "    <tr>\n",
       "      <th>64716</th>\n",
       "      <td>9</td>\n",
       "      <td>cv999</td>\n",
       "      <td>14636</td>\n",
       "      <td>21</td>\n",
       "      <td>like too many of the skits on the current inca...</td>\n",
       "      <td>neg</td>\n",
       "    </tr>\n",
       "    <tr>\n",
       "      <th>64717</th>\n",
       "      <td>9</td>\n",
       "      <td>cv999</td>\n",
       "      <td>14636</td>\n",
       "      <td>22</td>\n",
       "      <td>after watching one of the \" roxbury \" skits on...</td>\n",
       "      <td>neg</td>\n",
       "    </tr>\n",
       "    <tr>\n",
       "      <th>64718</th>\n",
       "      <td>9</td>\n",
       "      <td>cv999</td>\n",
       "      <td>14636</td>\n",
       "      <td>23</td>\n",
       "      <td>bump unsuspecting women , and . . . that's all .</td>\n",
       "      <td>neg</td>\n",
       "    </tr>\n",
       "    <tr>\n",
       "      <th>64719</th>\n",
       "      <td>9</td>\n",
       "      <td>cv999</td>\n",
       "      <td>14636</td>\n",
       "      <td>24</td>\n",
       "      <td>after watching _a_night_at_the_roxbury_ , you'...</td>\n",
       "      <td>neg</td>\n",
       "    </tr>\n",
       "  </tbody>\n",
       "</table>\n",
       "<p>64720 rows × 6 columns</p>\n",
       "</div>"
      ],
      "text/plain": [
       "       fold_id cv_tag  html_id  sent_id  \\\n",
       "0            0  cv000    29590        0   \n",
       "1            0  cv000    29590        1   \n",
       "2            0  cv000    29590        2   \n",
       "3            0  cv000    29590        3   \n",
       "4            0  cv000    29590        4   \n",
       "...        ...    ...      ...      ...   \n",
       "64715        9  cv999    14636       20   \n",
       "64716        9  cv999    14636       21   \n",
       "64717        9  cv999    14636       22   \n",
       "64718        9  cv999    14636       23   \n",
       "64719        9  cv999    14636       24   \n",
       "\n",
       "                                                    text  tag  \n",
       "0      films adapted from comic books have had plenty...  pos  \n",
       "1      for starters , it was created by alan moore ( ...  pos  \n",
       "2      to say moore and campbell thoroughly researche...  pos  \n",
       "3      the book ( or \" graphic novel , \" if you will ...  pos  \n",
       "4      in other words , don't dismiss this film becau...  pos  \n",
       "...                                                  ...  ...  \n",
       "64715  that lack of inspiration can be traced back to...  neg  \n",
       "64716  like too many of the skits on the current inca...  neg  \n",
       "64717  after watching one of the \" roxbury \" skits on...  neg  \n",
       "64718   bump unsuspecting women , and . . . that's all .  neg  \n",
       "64719  after watching _a_night_at_the_roxbury_ , you'...  neg  \n",
       "\n",
       "[64720 rows x 6 columns]"
      ]
     },
     "execution_count": 3,
     "metadata": {},
     "output_type": "execute_result"
    }
   ],
   "source": [
    "df"
   ]
  },
  {
   "cell_type": "markdown",
   "metadata": {},
   "source": [
    "### Data ledger\n",
    "Where is our data comming from?  \n",
    "\n",
    "|  |   |\n",
    "| :- | :- |\n",
    "| **Concerning fact** | Movie review Data |\n",
    "| **Source** | https://www.kaggle.com/nltkdata/movie-review |\n",
    "| **Origin of the data** | Kaggele, created by Bo Pang and Lillian Lee  |\n",
    "| **rate of refreshing** | NaN |\n",
    "| **date of the data** | June, 2004 |\n",
    "| **Period the data concerns** | ? |\n",
    "| **Size of data** | __Size__: Approx. 8.72 MB, __Rows__: 64720, __Columns__: 6 |"
   ]
  },
  {
   "cell_type": "markdown",
   "metadata": {},
   "source": [
    "The datasource does not have a legend telling what each column means. So we have to fill this in ourselves. But before we do that let's see if we are missing any data."
   ]
  },
  {
   "cell_type": "code",
   "execution_count": 4,
   "metadata": {},
   "outputs": [
    {
     "data": {
      "text/plain": [
       "fold_id    0\n",
       "cv_tag     0\n",
       "html_id    0\n",
       "sent_id    0\n",
       "text       0\n",
       "tag        0\n",
       "dtype: int64"
      ]
     },
     "execution_count": 4,
     "metadata": {},
     "output_type": "execute_result"
    }
   ],
   "source": [
    "df.isnull().sum()"
   ]
  },
  {
   "cell_type": "markdown",
   "metadata": {},
   "source": [
    "It's nice that we don't miss any data! To guess what each column means we need to look a little more into the data."
   ]
  },
  {
   "cell_type": "code",
   "execution_count": 5,
   "metadata": {},
   "outputs": [
    {
     "data": {
      "text/html": [
       "<div>\n",
       "<style scoped>\n",
       "    .dataframe tbody tr th:only-of-type {\n",
       "        vertical-align: middle;\n",
       "    }\n",
       "\n",
       "    .dataframe tbody tr th {\n",
       "        vertical-align: top;\n",
       "    }\n",
       "\n",
       "    .dataframe thead th {\n",
       "        text-align: right;\n",
       "    }\n",
       "</style>\n",
       "<table border=\"1\" class=\"dataframe\">\n",
       "  <thead>\n",
       "    <tr style=\"text-align: right;\">\n",
       "      <th></th>\n",
       "      <th>fold_id</th>\n",
       "      <th>cv_tag</th>\n",
       "      <th>html_id</th>\n",
       "      <th>sent_id</th>\n",
       "      <th>text</th>\n",
       "      <th>tag</th>\n",
       "    </tr>\n",
       "  </thead>\n",
       "  <tbody>\n",
       "    <tr>\n",
       "      <th>count</th>\n",
       "      <td>64720.00000</td>\n",
       "      <td>64720</td>\n",
       "      <td>64720.00000</td>\n",
       "      <td>64720.00000</td>\n",
       "      <td>64720</td>\n",
       "      <td>64720</td>\n",
       "    </tr>\n",
       "    <tr>\n",
       "      <th>unique</th>\n",
       "      <td>nan</td>\n",
       "      <td>1000</td>\n",
       "      <td>nan</td>\n",
       "      <td>nan</td>\n",
       "      <td>63652</td>\n",
       "      <td>2</td>\n",
       "    </tr>\n",
       "    <tr>\n",
       "      <th>top</th>\n",
       "      <td>nan</td>\n",
       "      <td>cv256</td>\n",
       "      <td>nan</td>\n",
       "      <td>nan</td>\n",
       "      <td>.</td>\n",
       "      <td>pos</td>\n",
       "    </tr>\n",
       "    <tr>\n",
       "      <th>freq</th>\n",
       "      <td>nan</td>\n",
       "      <td>166</td>\n",
       "      <td>nan</td>\n",
       "      <td>nan</td>\n",
       "      <td>123</td>\n",
       "      <td>32937</td>\n",
       "    </tr>\n",
       "    <tr>\n",
       "      <th>mean</th>\n",
       "      <td>4.54938</td>\n",
       "      <td>NaN</td>\n",
       "      <td>16074.09737</td>\n",
       "      <td>18.98118</td>\n",
       "      <td>NaN</td>\n",
       "      <td>NaN</td>\n",
       "    </tr>\n",
       "    <tr>\n",
       "      <th>std</th>\n",
       "      <td>2.85318</td>\n",
       "      <td>NaN</td>\n",
       "      <td>7175.28252</td>\n",
       "      <td>15.08369</td>\n",
       "      <td>NaN</td>\n",
       "      <td>NaN</td>\n",
       "    </tr>\n",
       "    <tr>\n",
       "      <th>min</th>\n",
       "      <td>0.00000</td>\n",
       "      <td>NaN</td>\n",
       "      <td>42.00000</td>\n",
       "      <td>0.00000</td>\n",
       "      <td>NaN</td>\n",
       "      <td>NaN</td>\n",
       "    </tr>\n",
       "    <tr>\n",
       "      <th>25%</th>\n",
       "      <td>2.00000</td>\n",
       "      <td>NaN</td>\n",
       "      <td>10613.00000</td>\n",
       "      <td>8.00000</td>\n",
       "      <td>NaN</td>\n",
       "      <td>NaN</td>\n",
       "    </tr>\n",
       "    <tr>\n",
       "      <th>50%</th>\n",
       "      <td>5.00000</td>\n",
       "      <td>NaN</td>\n",
       "      <td>15091.00000</td>\n",
       "      <td>16.00000</td>\n",
       "      <td>NaN</td>\n",
       "      <td>NaN</td>\n",
       "    </tr>\n",
       "    <tr>\n",
       "      <th>75%</th>\n",
       "      <td>7.00000</td>\n",
       "      <td>NaN</td>\n",
       "      <td>21865.00000</td>\n",
       "      <td>27.00000</td>\n",
       "      <td>NaN</td>\n",
       "      <td>NaN</td>\n",
       "    </tr>\n",
       "    <tr>\n",
       "      <th>max</th>\n",
       "      <td>9.00000</td>\n",
       "      <td>NaN</td>\n",
       "      <td>29867.00000</td>\n",
       "      <td>111.00000</td>\n",
       "      <td>NaN</td>\n",
       "      <td>NaN</td>\n",
       "    </tr>\n",
       "  </tbody>\n",
       "</table>\n",
       "</div>"
      ],
      "text/plain": [
       "           fold_id cv_tag     html_id     sent_id   text    tag\n",
       "count  64720.00000  64720 64720.00000 64720.00000  64720  64720\n",
       "unique         nan   1000         nan         nan  63652      2\n",
       "top            nan  cv256         nan         nan      .    pos\n",
       "freq           nan    166         nan         nan    123  32937\n",
       "mean       4.54938    NaN 16074.09737    18.98118    NaN    NaN\n",
       "std        2.85318    NaN  7175.28252    15.08369    NaN    NaN\n",
       "min        0.00000    NaN    42.00000     0.00000    NaN    NaN\n",
       "25%        2.00000    NaN 10613.00000     8.00000    NaN    NaN\n",
       "50%        5.00000    NaN 15091.00000    16.00000    NaN    NaN\n",
       "75%        7.00000    NaN 21865.00000    27.00000    NaN    NaN\n",
       "max        9.00000    NaN 29867.00000   111.00000    NaN    NaN"
      ]
     },
     "execution_count": 5,
     "metadata": {},
     "output_type": "execute_result"
    }
   ],
   "source": [
    "df.describe(include=\"all\")"
   ]
  },
  {
   "cell_type": "markdown",
   "metadata": {},
   "source": [
    "### Text and tag\n",
    "This doesn't say a whole lot yet. However, we do already know that `text` is the review text. And that `tag` has only 2 unique values: `pos` and `neg`. This probably stands for **positive** and **negative** review. This is what we are interested in! But let's also look at the other columns"
   ]
  },
  {
   "cell_type": "markdown",
   "metadata": {},
   "source": [
    "### Fold Id\n",
    "`Fold_id` will likely to be a subgrouping. To confirm this we look at how many unique values there are. "
   ]
  },
  {
   "cell_type": "code",
   "execution_count": 6,
   "metadata": {},
   "outputs": [
    {
     "data": {
      "text/plain": [
       "array([0, 1, 2, 3, 4, 5, 6, 7, 8, 9], dtype=int64)"
      ]
     },
     "execution_count": 6,
     "metadata": {},
     "output_type": "execute_result"
    }
   ],
   "source": [
    "df.fold_id.unique()"
   ]
  },
  {
   "cell_type": "markdown",
   "metadata": {},
   "source": [
    "Now let's see how the distribution is"
   ]
  },
  {
   "cell_type": "code",
   "execution_count": 7,
   "metadata": {},
   "outputs": [
    {
     "data": {
      "image/png": "[encoded data removed]",
      "text/plain": [
       "<Figure size 432x288 with 1 Axes>"
      ]
     },
     "metadata": {},
     "output_type": "display_data"
    }
   ],
   "source": [
    "fig, ax = plt.subplots()\n",
    "df['fold_id'].value_counts().plot(ax=ax, kind='pie')\n",
    "plt.show()"
   ]
  },
  {
   "cell_type": "markdown",
   "metadata": {},
   "source": [
    "I am confident in assuming that this is a subgrouping id. "
   ]
  },
  {
   "cell_type": "markdown",
   "metadata": {},
   "source": [
    "### CV tag\n",
    "I can't imagine what this means. Probably it's also a kind of grouping let's see what kind of different values there are."
   ]
  },
  {
   "cell_type": "code",
   "execution_count": 8,
   "metadata": {
    "scrolled": false
   },
   "outputs": [
    {
     "data": {
      "text/plain": [
       "array(['cv000', 'cv001', 'cv002', 'cv003', 'cv004', 'cv005', 'cv006',\n",
       "       'cv007', 'cv008', 'cv009', 'cv010', 'cv011', 'cv012', 'cv013',\n",
       "       'cv014', 'cv015', 'cv016', 'cv017', 'cv018', 'cv019', 'cv020',\n",
       "       'cv021', 'cv022', 'cv023', 'cv024', 'cv025', 'cv026', 'cv027',\n",
       "       'cv028', 'cv029', 'cv030', 'cv031', 'cv032', 'cv033', 'cv034',\n",
       "       'cv035', 'cv036', 'cv037', 'cv038', 'cv039', 'cv040', 'cv041',\n",
       "       'cv042', 'cv043', 'cv044', 'cv045', 'cv046', 'cv047', 'cv048',\n",
       "       'cv049', 'cv050', 'cv051', 'cv052', 'cv053', 'cv054', 'cv055',\n",
       "       'cv056', 'cv057', 'cv058', 'cv059', 'cv060', 'cv061', 'cv062',\n",
       "       'cv063', 'cv064', 'cv065', 'cv066', 'cv067', 'cv068', 'cv069',\n",
       "       'cv070', 'cv071', 'cv072', 'cv073', 'cv074', 'cv075', 'cv076',\n",
       "       'cv077', 'cv078', 'cv079', 'cv080', 'cv081', 'cv082', 'cv083',\n",
       "       'cv084', 'cv085', 'cv086', 'cv087', 'cv088', 'cv089', 'cv090',\n",
       "       'cv091', 'cv092', 'cv093', 'cv094', 'cv095', 'cv096', 'cv097',\n",
       "       'cv098', 'cv099', 'cv100', 'cv101', 'cv102', 'cv103', 'cv104',\n",
       "       'cv105', 'cv106', 'cv107', 'cv108', 'cv109', 'cv110', 'cv111',\n",
       "       'cv112', 'cv113', 'cv114', 'cv115', 'cv116', 'cv117', 'cv118',\n",
       "       'cv119', 'cv120', 'cv121', 'cv122', 'cv123', 'cv124', 'cv125',\n",
       "       'cv126', 'cv127', 'cv128', 'cv129', 'cv130', 'cv131', 'cv132',\n",
       "       'cv133', 'cv134', 'cv135', 'cv136', 'cv137', 'cv138', 'cv139',\n",
       "       'cv140', 'cv141', 'cv142', 'cv143', 'cv144', 'cv145', 'cv146',\n",
       "       'cv147', 'cv148', 'cv149', 'cv150', 'cv151', 'cv152', 'cv153',\n",
       "       'cv154', 'cv155', 'cv156', 'cv157', 'cv158', 'cv159', 'cv160',\n",
       "       'cv161', 'cv162', 'cv163', 'cv164', 'cv165', 'cv166', 'cv167',\n",
       "       'cv168', 'cv169', 'cv170', 'cv171', 'cv172', 'cv173', 'cv174',\n",
       "       'cv175', 'cv176', 'cv177', 'cv178', 'cv179', 'cv180', 'cv181',\n",
       "       'cv182', 'cv183', 'cv184', 'cv185', 'cv186', 'cv187', 'cv188',\n",
       "       'cv189', 'cv190', 'cv191', 'cv192', 'cv193', 'cv194', 'cv195',\n",
       "       'cv196', 'cv197', 'cv198', 'cv199', 'cv200', 'cv201', 'cv202',\n",
       "       'cv203', 'cv204', 'cv205', 'cv206', 'cv207', 'cv208', 'cv209',\n",
       "       'cv210', 'cv211', 'cv212', 'cv213', 'cv214', 'cv215', 'cv216',\n",
       "       'cv217', 'cv218', 'cv219', 'cv220', 'cv221', 'cv222', 'cv223',\n",
       "       'cv224', 'cv225', 'cv226', 'cv227', 'cv228', 'cv229', 'cv230',\n",
       "       'cv231', 'cv232', 'cv233', 'cv234', 'cv235', 'cv236', 'cv237',\n",
       "       'cv238', 'cv239', 'cv240', 'cv241', 'cv242', 'cv243', 'cv244',\n",
       "       'cv245', 'cv246', 'cv247', 'cv248', 'cv249', 'cv250', 'cv251',\n",
       "       'cv252', 'cv253', 'cv254', 'cv255', 'cv256', 'cv257', 'cv258',\n",
       "       'cv259', 'cv260', 'cv261', 'cv262', 'cv263', 'cv264', 'cv265',\n",
       "       'cv266', 'cv267', 'cv268', 'cv269', 'cv270', 'cv271', 'cv272',\n",
       "       'cv273', 'cv274', 'cv275', 'cv276', 'cv277', 'cv278', 'cv279',\n",
       "       'cv280', 'cv281', 'cv282', 'cv283', 'cv284', 'cv285', 'cv286',\n",
       "       'cv287', 'cv288', 'cv289', 'cv290', 'cv291', 'cv292', 'cv293',\n",
       "       'cv294', 'cv295', 'cv296', 'cv297', 'cv298', 'cv299', 'cv300',\n",
       "       'cv301', 'cv302', 'cv303', 'cv304', 'cv305', 'cv306', 'cv307',\n",
       "       'cv308', 'cv309', 'cv310', 'cv311', 'cv312', 'cv313', 'cv314',\n",
       "       'cv315', 'cv316', 'cv317', 'cv318', 'cv319', 'cv320', 'cv321',\n",
       "       'cv322', 'cv323', 'cv324', 'cv325', 'cv326', 'cv327', 'cv328',\n",
       "       'cv329', 'cv330', 'cv331', 'cv332', 'cv333', 'cv334', 'cv335',\n",
       "       'cv336', 'cv337', 'cv338', 'cv339', 'cv340', 'cv341', 'cv342',\n",
       "       'cv343', 'cv344', 'cv345', 'cv346', 'cv347', 'cv348', 'cv349',\n",
       "       'cv350', 'cv351', 'cv352', 'cv353', 'cv354', 'cv355', 'cv356',\n",
       "       'cv357', 'cv358', 'cv359', 'cv360', 'cv361', 'cv362', 'cv363',\n",
       "       'cv364', 'cv365', 'cv366', 'cv367', 'cv368', 'cv369', 'cv370',\n",
       "       'cv371', 'cv372', 'cv373', 'cv374', 'cv375', 'cv376', 'cv377',\n",
       "       'cv378', 'cv379', 'cv380', 'cv381', 'cv382', 'cv383', 'cv384',\n",
       "       'cv385', 'cv386', 'cv387', 'cv388', 'cv389', 'cv390', 'cv391',\n",
       "       'cv392', 'cv393', 'cv394', 'cv395', 'cv396', 'cv397', 'cv398',\n",
       "       'cv399', 'cv400', 'cv401', 'cv402', 'cv403', 'cv404', 'cv405',\n",
       "       'cv406', 'cv407', 'cv408', 'cv409', 'cv410', 'cv411', 'cv412',\n",
       "       'cv413', 'cv414', 'cv415', 'cv416', 'cv417', 'cv418', 'cv419',\n",
       "       'cv420', 'cv421', 'cv422', 'cv423', 'cv424', 'cv425', 'cv426',\n",
       "       'cv427', 'cv428', 'cv429', 'cv430', 'cv431', 'cv432', 'cv433',\n",
       "       'cv434', 'cv435', 'cv436', 'cv437', 'cv438', 'cv439', 'cv440',\n",
       "       'cv441', 'cv442', 'cv443', 'cv444', 'cv445', 'cv446', 'cv447',\n",
       "       'cv448', 'cv449', 'cv450', 'cv451', 'cv452', 'cv453', 'cv454',\n",
       "       'cv455', 'cv456', 'cv457', 'cv458', 'cv459', 'cv460', 'cv461',\n",
       "       'cv462', 'cv463', 'cv464', 'cv465', 'cv466', 'cv467', 'cv468',\n",
       "       'cv469', 'cv470', 'cv471', 'cv472', 'cv473', 'cv474', 'cv475',\n",
       "       'cv476', 'cv477', 'cv478', 'cv479', 'cv480', 'cv481', 'cv482',\n",
       "       'cv483', 'cv484', 'cv485', 'cv486', 'cv487', 'cv488', 'cv489',\n",
       "       'cv490', 'cv491', 'cv492', 'cv493', 'cv494', 'cv495', 'cv496',\n",
       "       'cv497', 'cv498', 'cv499', 'cv500', 'cv501', 'cv502', 'cv503',\n",
       "       'cv504', 'cv505', 'cv506', 'cv507', 'cv508', 'cv509', 'cv510',\n",
       "       'cv511', 'cv512', 'cv513', 'cv514', 'cv515', 'cv516', 'cv517',\n",
       "       'cv518', 'cv519', 'cv520', 'cv521', 'cv522', 'cv523', 'cv524',\n",
       "       'cv525', 'cv526', 'cv527', 'cv528', 'cv529', 'cv530', 'cv531',\n",
       "       'cv532', 'cv533', 'cv534', 'cv535', 'cv536', 'cv537', 'cv538',\n",
       "       'cv539', 'cv540', 'cv541', 'cv542', 'cv543', 'cv544', 'cv545',\n",
       "       'cv546', 'cv547', 'cv548', 'cv549', 'cv550', 'cv551', 'cv552',\n",
       "       'cv553', 'cv554', 'cv555', 'cv556', 'cv557', 'cv558', 'cv559',\n",
       "       'cv560', 'cv561', 'cv562', 'cv563', 'cv564', 'cv565', 'cv566',\n",
       "       'cv567', 'cv568', 'cv569', 'cv570', 'cv571', 'cv572', 'cv573',\n",
       "       'cv574', 'cv575', 'cv576', 'cv577', 'cv578', 'cv579', 'cv580',\n",
       "       'cv581', 'cv582', 'cv583', 'cv584', 'cv585', 'cv586', 'cv587',\n",
       "       'cv588', 'cv589', 'cv590', 'cv591', 'cv592', 'cv593', 'cv594',\n",
       "       'cv595', 'cv596', 'cv597', 'cv598', 'cv599', 'cv600', 'cv601',\n",
       "       'cv602', 'cv603', 'cv604', 'cv605', 'cv606', 'cv607', 'cv608',\n",
       "       'cv609', 'cv610', 'cv611', 'cv612', 'cv613', 'cv614', 'cv615',\n",
       "       'cv616', 'cv617', 'cv618', 'cv619', 'cv620', 'cv621', 'cv622',\n",
       "       'cv623', 'cv624', 'cv625', 'cv626', 'cv627', 'cv628', 'cv629',\n",
       "       'cv630', 'cv631', 'cv632', 'cv633', 'cv634', 'cv635', 'cv636',\n",
       "       'cv637', 'cv638', 'cv639', 'cv640', 'cv641', 'cv642', 'cv643',\n",
       "       'cv644', 'cv645', 'cv646', 'cv647', 'cv648', 'cv649', 'cv650',\n",
       "       'cv651', 'cv652', 'cv653', 'cv654', 'cv655', 'cv656', 'cv657',\n",
       "       'cv658', 'cv659', 'cv660', 'cv661', 'cv662', 'cv663', 'cv664',\n",
       "       'cv665', 'cv666', 'cv667', 'cv668', 'cv669', 'cv670', 'cv671',\n",
       "       'cv672', 'cv673', 'cv674', 'cv675', 'cv676', 'cv677', 'cv678',\n",
       "       'cv679', 'cv680', 'cv681', 'cv682', 'cv683', 'cv684', 'cv685',\n",
       "       'cv686', 'cv687', 'cv688', 'cv689', 'cv690', 'cv691', 'cv692',\n",
       "       'cv693', 'cv694', 'cv695', 'cv696', 'cv697', 'cv698', 'cv699',\n",
       "       'cv700', 'cv701', 'cv702', 'cv703', 'cv704', 'cv705', 'cv706',\n",
       "       'cv707', 'cv708', 'cv709', 'cv710', 'cv711', 'cv712', 'cv713',\n",
       "       'cv714', 'cv715', 'cv716', 'cv717', 'cv718', 'cv719', 'cv720',\n",
       "       'cv721', 'cv722', 'cv723', 'cv724', 'cv725', 'cv726', 'cv727',\n",
       "       'cv728', 'cv729', 'cv730', 'cv731', 'cv732', 'cv733', 'cv734',\n",
       "       'cv735', 'cv736', 'cv737', 'cv738', 'cv739', 'cv740', 'cv741',\n",
       "       'cv742', 'cv743', 'cv744', 'cv745', 'cv746', 'cv747', 'cv748',\n",
       "       'cv749', 'cv750', 'cv751', 'cv752', 'cv753', 'cv754', 'cv755',\n",
       "       'cv756', 'cv757', 'cv758', 'cv759', 'cv760', 'cv761', 'cv762',\n",
       "       'cv763', 'cv764', 'cv765', 'cv766', 'cv767', 'cv768', 'cv769',\n",
       "       'cv770', 'cv771', 'cv772', 'cv773', 'cv774', 'cv775', 'cv776',\n",
       "       'cv777', 'cv778', 'cv779', 'cv780', 'cv781', 'cv782', 'cv783',\n",
       "       'cv784', 'cv785', 'cv786', 'cv787', 'cv788', 'cv789', 'cv790',\n",
       "       'cv791', 'cv792', 'cv793', 'cv794', 'cv795', 'cv796', 'cv797',\n",
       "       'cv798', 'cv799', 'cv800', 'cv801', 'cv802', 'cv803', 'cv804',\n",
       "       'cv805', 'cv806', 'cv807', 'cv808', 'cv809', 'cv810', 'cv811',\n",
       "       'cv812', 'cv813', 'cv814', 'cv815', 'cv816', 'cv817', 'cv818',\n",
       "       'cv819', 'cv820', 'cv821', 'cv822', 'cv823', 'cv824', 'cv825',\n",
       "       'cv826', 'cv827', 'cv828', 'cv829', 'cv830', 'cv831', 'cv832',\n",
       "       'cv833', 'cv834', 'cv835', 'cv836', 'cv837', 'cv838', 'cv839',\n",
       "       'cv840', 'cv841', 'cv842', 'cv843', 'cv844', 'cv845', 'cv846',\n",
       "       'cv847', 'cv848', 'cv849', 'cv850', 'cv851', 'cv852', 'cv853',\n",
       "       'cv854', 'cv855', 'cv856', 'cv857', 'cv858', 'cv859', 'cv860',\n",
       "       'cv861', 'cv862', 'cv863', 'cv864', 'cv865', 'cv866', 'cv867',\n",
       "       'cv868', 'cv869', 'cv870', 'cv871', 'cv872', 'cv873', 'cv874',\n",
       "       'cv875', 'cv876', 'cv877', 'cv878', 'cv879', 'cv880', 'cv881',\n",
       "       'cv882', 'cv883', 'cv884', 'cv885', 'cv886', 'cv887', 'cv888',\n",
       "       'cv889', 'cv890', 'cv891', 'cv892', 'cv893', 'cv894', 'cv895',\n",
       "       'cv896', 'cv897', 'cv898', 'cv899', 'cv900', 'cv901', 'cv902',\n",
       "       'cv903', 'cv904', 'cv905', 'cv906', 'cv907', 'cv908', 'cv909',\n",
       "       'cv910', 'cv911', 'cv912', 'cv913', 'cv914', 'cv915', 'cv916',\n",
       "       'cv917', 'cv918', 'cv919', 'cv920', 'cv921', 'cv922', 'cv923',\n",
       "       'cv924', 'cv925', 'cv926', 'cv927', 'cv928', 'cv929', 'cv930',\n",
       "       'cv931', 'cv932', 'cv933', 'cv934', 'cv935', 'cv936', 'cv937',\n",
       "       'cv938', 'cv939', 'cv940', 'cv941', 'cv942', 'cv943', 'cv944',\n",
       "       'cv945', 'cv946', 'cv947', 'cv948', 'cv949', 'cv950', 'cv951',\n",
       "       'cv952', 'cv953', 'cv954', 'cv955', 'cv956', 'cv957', 'cv958',\n",
       "       'cv959', 'cv960', 'cv961', 'cv962', 'cv963', 'cv964', 'cv965',\n",
       "       'cv966', 'cv967', 'cv968', 'cv969', 'cv970', 'cv971', 'cv972',\n",
       "       'cv973', 'cv974', 'cv975', 'cv976', 'cv977', 'cv978', 'cv979',\n",
       "       'cv980', 'cv981', 'cv982', 'cv983', 'cv984', 'cv985', 'cv986',\n",
       "       'cv987', 'cv988', 'cv989', 'cv990', 'cv991', 'cv992', 'cv993',\n",
       "       'cv994', 'cv995', 'cv996', 'cv997', 'cv998', 'cv999'], dtype=object)"
      ]
     },
     "execution_count": 8,
     "metadata": {},
     "output_type": "execute_result"
    }
   ],
   "source": [
    "df.cv_tag.unique()"
   ]
  },
  {
   "cell_type": "markdown",
   "metadata": {},
   "source": [
    "It's just a number from 0 to 999 with `cv` in front of it. Let's replace this with just the number. That way we can plot it easier. "
   ]
  },
  {
   "cell_type": "code",
   "execution_count": 9,
   "metadata": {},
   "outputs": [],
   "source": [
    "#clean out 'cv'\n",
    "df['cv_tag'] = df['cv_tag'].str.replace(\"cv\", \"\")\n",
    "#change to numeric type\n",
    "df['cv_tag'] = pd.to_numeric(df['cv_tag'])"
   ]
  },
  {
   "cell_type": "markdown",
   "metadata": {},
   "source": [
    "I still feel at this point that this is a grouping. Let's see how it looks in a graph."
   ]
  },
  {
   "cell_type": "code",
   "execution_count": 10,
   "metadata": {
    "scrolled": false
   },
   "outputs": [
    {
     "data": {
      "image/png": "[encoded data removed]",
      "text/plain": [
       "<Figure size 1080x360 with 1 Axes>"
      ]
     },
     "metadata": {
      "needs_background": "light"
     },
     "output_type": "display_data"
    }
   ],
   "source": [
    "fig, axs = plt.subplots()\n",
    "\n",
    "fig.set_figheight(5)\n",
    "fig.set_figwidth(15)\n",
    "\n",
    "df['cv_tag'].plot(ax=axs, kind='line')\n",
    "plt.show()"
   ]
  },
  {
   "cell_type": "markdown",
   "metadata": {},
   "source": [
    "It continues to add up over the length of the data. This happens twice. And there are also 2 types of tags positive and negative. This is probably related to each other. Perhaps a zoomed-in small piece will give more insight. \n"
   ]
  },
  {
   "cell_type": "code",
   "execution_count": 11,
   "metadata": {},
   "outputs": [
    {
     "data": {
      "image/png": "[encoded data removed]",
      "text/plain": [
       "<Figure size 1080x360 with 1 Axes>"
      ]
     },
     "metadata": {
      "needs_background": "light"
     },
     "output_type": "display_data"
    }
   ],
   "source": [
    "fig, axs = plt.subplots()\n",
    "\n",
    "fig.set_figheight(5)\n",
    "fig.set_figwidth(15)\n",
    "\n",
    "df['cv_tag'][:500].plot(ax=axs, kind='line')\n",
    "plt.show()"
   ]
  },
  {
   "cell_type": "markdown",
   "metadata": {},
   "source": [
    "The values seem to be divided into blocks. That's all I can see about it at the moment."
   ]
  },
  {
   "cell_type": "markdown",
   "metadata": {},
   "source": [
    "### HTML id\n",
    "Html is a language in which websites are created. But whether this is related to this dataset? Let's start by looking at what different values there are."
   ]
  },
  {
   "cell_type": "code",
   "execution_count": 12,
   "metadata": {
    "scrolled": true
   },
   "outputs": [
    {
     "name": "stdout",
     "output_type": "stream",
     "text": [
      "[42, 49, 50, 57, 74, 150, 984, 1198, 1250, 1381, 1576, 1730, 1754, 1841, 1941, 1989, 2029, 2053, 2068, 2107, 2145, 2230, 2253, 2269, 2287, 2389, 2396, 2450, 2556, 2618, 2666, 2673, 2693, 2695, 2856, 2877, 2895, 2915, 2953, 3006, 3087, 3092, 3108, 3193, 3257, 3343, 3367, 3385, 3416, 3421, 3515, 3541, 3675, 3793, 3832, 3903, 3954, 3967, 3968, 3977, 4041, 4101, 4111, 4122, 4136, 4230, 4264, 4295, 4348, 4365, 4367, 4389, 4471, 4526, 4659, 4719, 4776, 4782, 4876, 4938, 4967, 4968, 4978, 4992, 5006, 5007, 5009, 5010, 5012, 5016, 5043, 5045, 5046, 5054, 5063, 5079, 5088, 5090, 5107, 5108, 5126, 5137, 5152, 5164, 5168, 5179, 5221, 5262, 5297, 5301, 5306, 5311, 5312, 5338, 5358, 5367, 5376, 5378, 5380, 5383, 5389, 5393, 5396, 5414, 5416, 5418, 5423, 5425, 5450, 5461, 5524, 5562, 5578, 5581, 5583, 5618, 5619, 5622, 5626, 5627, 5641, 5644, 5649, 5674, 5682, 5702, 5710, 5713, 5754, 5778, 5788, 5792, 5793, 5794, 5806, 5866, 5870, 5873, 5928, 5947, 5963, 5964, 5972, 6014, 6021, 6027, 6035, 6079, 6169, 6170, 6239, 6250, 6359, 6370, 6385, 6463, 6495, 6500, 6522, 6534, 6552, 6559, 6621, 6647, 6649, 6653, 6654, 6678, 6721, 6751, 6778, 6833, 6836, 6875, 6895, 6923, 6957, 6964, 6965, 6997, 7033, 7050, 7078, 7082, 7085, 7110, 7188, 7208, 7216, 7223, 7236, 7245, 7281, 7282, 7308, 7367, 7368, 7375, 7392, 7394, 7398, 7400, 7410, 7421, 7424, 7428, 7435, 7436, 7439, 7453, 7479, 7502, 7538, 7540, 7543, 7571, 7574, 7630, 7709, 7717, 7751, 7773, 7791, 7804, 7845, 7846, 7869, 7884, 7890, 7891, 7893, 7897, 7899, 7907, 7912, 7913, 7930, 7937, 7946, 7962, 7963, 7983, 7984, 8025, 8043, 8048, 8123, 8132, 8147, 8164, 8197, 8207, 8235, 8250, 8267, 8273, 8276, 8279, 8300, 8306, 8319, 8338, 8393, 8398, 8440, 8451, 8467, 8469, 8500, 8565, 8569, 8573, 8581, 8583, 8584, 8597, 8603, 8604, 8648, 8651, 8656, 8736, 8737, 8785, 8821, 8825, 8829, 8830, 8831, 8832, 8837, 8838, 8841, 8842, 8916, 8926, 8927, 8930, 8938, 8967, 8969, 8974, 8977, 9000, 9002, 9020, 9052, 9059, 9126, 9168, 9183, 9201, 9220, 9228, 9234, 9268, 9288, 9312, 9321, 9322, 9328, 9335, 9342, 9364, 9369, 9381, 9390, 9391, 9405, 9443, 9457, 9459, 9469, 9475, 9478, 9484, 9509, 9530, 9533, 9557, 9561, 9562, 9567, 9610, 9611, 9629, 9632, 9633, 9636, 9659, 9671, 9676, 9692, 9693, 9704, 9709, 9721, 9735, 9740, 9744, 9749, 9752, 9781, 9788, 9799, 9803, 9811, 9813, 9816, 9821, 9839, 9843, 9867, 9891, 9909, 9929, 9932, 9937, 9946, 9953, 9954, 9955, 9960, 9966, 9973, 9974, 9975, 10001, 10016, 10022, 10026, 10027, 10036, 10038, 10042, 10047, 10052, 10054, 10057, 10061, 10066, 10073, 10077, 10080, 10091, 10094, 10103, 10104, 10110, 10116, 10122, 10123, 10132, 10143, 10144, 10147, 10152, 10154, 10159, 10160, 10171, 10175, 10180, 10185, 10188, 10189, 10190, 10209, 10211, 10217, 10220, 10221, 10229, 10246, 10247, 10251, 10266, 10267, 10279, 10287, 10291, 10306, 10308, 10331, 10338, 10343, 10359, 10360, 10362, 10363, 10364, 10367, 10368, 10373, 10379, 10390, 10406, 10420, 10421, 10424, 10425, 10443, 10446, 10451, 10466, 10471, 10475, 10481, 10492, 10493, 10494, 10514, 10518, 10529, 10530, 10532, 10533, 10534, 10537, 10558, 10565, 10580, 10583, 10601, 10606, 10613, 10626, 10638, 10654, 10658, 10668, 10678, 10681, 10682, 10690, 10691, 10698, 10704, 10706, 10709, 10713, 10718, 10722, 10724, 10729, 10732, 10744, 10751, 10779, 10797, 10800, 10801, 10802, 10814, 10821, 10822, 10825, 10837, 10842, 10844, 10846, 10847, 10848, 10849, 10859, 10862, 10874, 10875, 10904, 10906, 10908, 10911, 10914, 10926, 10934, 10953, 10954, 10970, 10972, 10975, 10976, 10977, 10981, 10982, 10987, 11017, 11021, 11028, 11039, 11051, 11052, 11053, 11055, 11058, 11059, 11061, 11080, 11084, 11090, 11101, 11110, 11119, 11120, 11131, 11136, 11146, 11153, 11154, 11155, 11161, 11162, 11172, 11173, 11175, 11182, 11185, 11186, 11187, 11189, 11193, 11196, 11209, 11214, 11233, 11236, 11247, 11316, 11320, 11345, 11347, 11353, 11354, 11382, 11407, 11418, 11421, 11425, 11434, 11449, 11458, 11471, 11472, 11473, 11474, 11491, 11500, 11502, 11505, 11507, 11528, 11557, 11565, 11568, 11576, 11591, 11592, 11593, 11601, 11603, 11605, 11607, 11609, 11613, 11615, 11620, 11625, 11629, 11636, 11640, 11657, 11664, 11665, 11668, 11669, 11684, 11693, 11703, 11723, 11739, 11751, 11754, 11761, 11763, 11767, 11790, 11798, 11800, 11812, 11816, 11827, 11834, 11851, 11855, 11856, 11890, 11920, 11927, 11931, 11933, 11934, 11943, 11945, 11948, 11951, 11959, 11961, 11962, 11963, 11973, 11979, 11981, 11989, 12009, 12011, 12014, 12037, 12048, 12055, 12064, 12079, 12083, 12089, 12090, 12095, 12106, 12117, 12119, 12128, 12136, 12145, 12146, 12160, 12162, 12165, 12166, 12167, 12173, 12178, 12179, 12182, 12187, 12202, 12209, 12222, 12224, 12227, 12237, 12238, 12239, 12245, 12251, 12253, 12256, 12262, 12270, 12289, 12294, 12295, 12318, 12332, 12349, 12350, 12368, 12370, 12371, 12384, 12391, 12406, 12427, 12440, 12442, 12443, 12445, 12447, 12458, 12462, 12506, 12542, 12547, 12587, 12591, 12603, 12605, 12620, 12635, 12638, 12641, 12649, 12672, 12674, 12675, 12683, 12687, 12690, 12695, 12701, 12709, 12721, 12723, 12727, 12730, 12735, 12747, 12761, 12765, 12766, 12767, 12773, 12786, 12799, 12801, 12806, 12809, 12810, 12829, 12839, 12843, 12848, 12853, 12855, 12857, 12864, 12868, 12873, 12886, 12901, 12916, 12926, 12931, 12968, 12969, 12971, 12972, 12991, 12992, 13008, 13010, 13012, 13019, 13020, 13041, 13044, 13047, 13091, 13092, 13106, 13115, 13116, 13133, 13142, 13146, 13151, 13156, 13194, 13217, 13227, 13229, 13249, 13250, 13254, 13285, 13287, 13295, 13297, 13320, 13331, 13390, 13394, 13400, 13401, 13412, 13419, 13465, 13475, 13478, 13494, 13507, 13516, 13518, 13521, 13522, 13527, 13537, 13566, 13611, 13632, 13643, 13650, 13655, 13660, 13677, 13681, 13682, 13683, 13691, 13701, 13710, 13711, 13743, 13758, 13769, 13773, 13812, 13837, 13845, 13846, 13847, 13853, 13890, 13900, 13903, 13924, 13927, 13947, 13951, 13959, 13972, 13987, 13988, 14006, 14009, 14044, 14062, 14064, 14083, 14094, 14107, 14108, 14111, 14112, 14135, 14182, 14187, 14191, 14196, 14224, 14227, 14236, 14245, 14252, 14254, 14279, 14285, 14290, 14293, 14309, 14311, 14324, 14336, 14340, 14368, 14380, 14394, 14395, 14401, 14422, 14425, 14467, 14482, 14484, 14518, 14528, 14533, 14568, 14600, 14611, 14636, 14653, 14661, 14662, 14663, 14665, 14668, 14678, 14689, 14695, 14710, 14711, 14722, 14724, 14727, 14729, 14730, 14740, 14760, 14767, 14774, 14776, 14777, 14791, 14798, 14799, 14808, 14810, 14854, 14887, 14899, 14903, 14909, 14949, 14952, 14989, 14991, 15007, 15013, 15032, 15042, 15065, 15091, 15092, 15094, 15164, 15183, 15200, 15228, 15230, 15235, 15243, 15248, 15253, 15257, 15265, 15267, 15275, 15276, 15277, 15279, 15286, 15341, 15356, 15364, 15422, 15435, 15448, 15449, 15451, 15458, 15467, 15488, 15499, 15520, 15537, 15544, 15553, 15569, 15570, 15571, 15600, 15604, 15606, 15638, 15650, 15652, 15653, 15668, 15670, 15672, 15673, 15681, 15683, 15684, 15686, 15688, 15689, 15691, 15694, 15719, 15729, 15734, 15771, 15782, 15792, 15824, 15828, 15838, 15868, 15873, 15880, 15886, 15888, 15893, 15900, 15918, 15921, 15924, 15948, 15952, 15953, 15954, 15956, 15958, 15964, 15965, 15969, 15970, 15974, 15984, 15985, 16002, 16006, 16009, 16014, 16071, 16077, 16079, 16083, 16095, 16097, 16113, 16117, 16121, 16122, 16133, 16139, 16143, 16146, 16202, 16212, 16214, 16218, 16237, 16239, 16299, 16302, 16307, 16321, 16324, 16325, 16336, 16345, 16348, 16376, 16378, 16380, 16409, 16413, 16451, 16452, 16459, 16466, 16486, 16494, 16506, 16529, 16556, 16562, 16563, 16582, 16585, 16604, 16615, 16618, 16629, 16661, 16679, 16741, 16768, 16799, 16807, 16808, 16817, 16825, 16828, 16831, 16844, 16856, 16858, 16891, 16908, 16909, 16930, 16954, 16969, 16985, 16988, 17020, 17021, 17022, 17023, 17026, 17029, 17034, 17047, 17054, 17055, 17059, 17060, 17064, 17065, 17069, 17076, 17078, 17082, 17083, 17084, 17126, 17140, 17154, 17175, 17179, 17204, 17208, 17215, 17231, 17243, 17257, 17277, 17297, 17302, 17313, 17330, 17351, 17353, 17354, 17389, 17395, 17410, 17424, 17444, 17472, 17473, 17521, 17527, 17563, 17576, 17604, 17614, 17618, 17622, 17633, 17661, 17672, 17694, 17705, 17708, 17715, 17731, 17740, 17742, 17765, 17779, 17812, 17819, 17822, 17823, 17872, 17881, 17906, 17924, 17930, 17931, 17947, 17948, 17949, 17950, 17966, 17986, 17989, 17990, 17995, 17997, 18033, 18043, 18063, 18065, 18084, 18090, 18094, 18103, 18134, 18155, 18159, 18168, 18174, 18176, 18177, 18179, 18180, 18184, 18185, 18186, 18189, 18198, 18241, 18246, 18271, 18285, 18329, 18330, 18331, 18362, 18371, 18373, 18379, 18380, 18385, 18398, 18402, 18405, 18429, 18431, 18450, 18452, 18453, 18458, 18467, 18471, 18484, 18502, 18509, 18510, 18521, 18536, 18543, 18551, 18608, 18610, 18612, 18621, 18626, 18628, 18629, 18636, 18643, 18645, 18657, 18658, 18662, 18689, 18720, 18722, 18725, 18738, 18740, 18783, 18788, 18791, 18801, 18817, 18819, 18834, 18848, 18875, 18885, 18921, 18934, 18935, 18938, 18944, 18955, 18960, 18963, 18974, 18975, 18980, 18981, 18985, 18986, 18989, 19027, 19037, 19046, 19051, 19052, 19091, 19119, 19127, 19135, 19147, 19159, 19162, 19176, 19179, 19197, 19198, 19207, 19210, 19219, 19220, 19221, 19226, 19246, 19259, 19290, 19313, 19325, 19337, 19345, 19350, 19370, 19381, 19435, 19452, 19456, 19479, 19488, 19501, 19502, 19526, 19532, 19540, 19546, 19583, 19587, 19600, 19601, 19666, 19672, 19704, 19728, 19774, 19798, 19812, 19817, 19826, 19831, 19856, 19874, 19932, 19937, 19943, 19944, 19973, 20049, 20053, 20084, 20092, 20112, 20137, 20165, 20168, 20172, 20212, 20218, 20260, 20264, 20266, 20288, 20289, 20292, 20300, 20301, 20313, 20315, 20316, 20318, 20319, 20347, 20359, 20370, 20399, 20404, 20426, 20429, 20467, 20469, 20471, 20488, 20529, 20530, 20531, 20532, 20564, 20616, 20629, 20630, 20631, 20635, 20643, 20661, 20670, 20687, 20693, 20712, 20728, 20758, 20788, 20790, 20855, 20883, 20917, 20929, 20988, 21020, 21022, 21078, 21090, 21100, 21103, 21108, 21113, 21118, 21119, 21120, 21124, 21128, 21150, 21158, 21172, 21183, 21192, 21193, 21195, 21386, 21392, 21430, 21443, 21453, 21467, 21483, 21545, 21565, 21568, 21588, 21593, 21649, 21672, 21673, 21692, 21695, 21725, 21732, 21740, 21743, 21785, 21796, 21805, 21820, 21821, 21822, 21834, 21865, 21868, 21872, 21893, 21895, 21917, 21930, 21934, 21947, 21961, 21963, 21982, 21998, 22123, 22134, 22138, 22139, 22140, 22156, 22164, 22192, 22195, 22197, 22199, 22200, 22202, 22207, 22209, 22211, 22240, 22246, 22268, 22284, 22315, 22364, 22367, 22431, 22447, 22452, 22456, 22464, 22479, 22488, 22496, 22497, 22516, 22517, 22540, 22550, 22571, 22577, 22598, 22599, 22600, 22619, 22625, 22636, 22637, 22646, 22670, 22771, 22792, 22807, 22821, 22849, 22871, 22892, 22893, 22920, 22928, 22934, 22935, 22941, 22978, 22995, 23018, 23024, 23039, 23102, 23104, 23110, 23111, 23113, 23115, 23117, 23130, 23140, 23163, 23167, 23172, 23191, 23192, 23226, 23231, 23246, 23253, 23275, 23300, 23302, 23339, 23360, 23391, 23401, 23451, 23453, 23466, 23487, 23530, 23531, 23547, 23576, 23608, 23611, 23616, 23627, 23640, 23657, 23670, 23674, 23676, 23718, 23737, 23745, 23748, 23776, 23778, 23779, 23841, 23877, 23878, 23901, 23922, 23923, 23928, 24049, 24065, 24070, 24095, 24113, 24153, 24155, 24157, 24201, 24215, 24217, 24218, 24219, 24234, 24248, 24265, 24266, 24295, 24303, 24318, 24319, 24352, 24353, 24354, 24355, 24430, 24435, 24444, 24487, 24513, 24556, 24576, 24602, 24606, 24647, 24711, 24713, 24714, 24716, 24728, 24758, 24759, 24779, 24782, 24881, 24885, 24887, 24888, 24945, 24947, 24953, 24970, 24973, 24974, 24977, 25001, 25038, 25043, 25047, 25050, 25054, 25077, 25111, 25163, 25219, 25228, 25240, 25253, 25254, 25270, 25272, 25274, 25330, 25335, 25395, 25396, 25406, 25413, 25436, 25491, 25616, 25624, 25625, 25639, 25649, 25651, 25663, 25667, 25678, 25680, 25773, 25779, 25780, 25826, 25835, 25842, 25870, 25874, 25882, 25883, 25886, 25971, 26009, 26071, 26081, 26154, 26156, 26169, 26170, 26269, 26270, 26335, 26360, 26375, 26379, 26381, 26382, 26409, 26417, 26420, 26443, 26455, 26462, 26481, 26486, 26610, 26635, 26644, 26649, 26683, 26688, 26692, 26731, 26744, 26746, 26750, 26837, 26838, 26844, 26879, 26915, 26935, 26964, 26965, 26980, 27052, 27080, 27081, 27086, 27134, 27176, 27221, 27232, 27325, 27332, 27334, 27366, 27512, 27520, 27523, 27621, 27751, 27788, 27832, 27868, 27889, 27987, 27988, 28017, 28083, 28220, 28221, 28311, 28372, 28381, 28466, 28485, 28489, 28539, 28549, 28559, 28593, 28631, 28654, 28664, 28665, 28667, 28668, 28671, 28683, 28706, 28707, 28723, 28725, 28729, 28730, 28733, 28734, 28738, 28742, 28795, 28796, 28807, 28821, 28832, 28835, 28837, 28842, 28852, 28866, 28877, 28882, 28885, 28887, 28890, 28892, 28898, 28906, 28907, 28923, 28942, 28944, 28960, 28961, 28965, 28971, 28973, 28980, 28993, 28997, 29000, 29002, 29006, 29007, 29013, 29023, 29027, 29059, 29061, 29063, 29066, 29082, 29083, 29112, 29114, 29118, 29119, 29120, 29121, 29127, 29132, 29140, 29141, 29155, 29181, 29187, 29198, 29224, 29229, 29233, 29234, 29243, 29252, 29271, 29273, 29274, 29280, 29282, 29283, 29284, 29292, 29293, 29302, 29308, 29318, 29319, 29325, 29326, 29327, 29328, 29332, 29349, 29356, 29357, 29359, 29364, 29366, 29370, 29372, 29374, 29376, 29377, 29378, 29384, 29386, 29394, 29397, 29403, 29411, 29416, 29417, 29420, 29423, 29435, 29439, 29443, 29444, 29446, 29447, 29465, 29484, 29497, 29505, 29507, 29525, 29538, 29539, 29540, 29549, 29565, 29572, 29576, 29590, 29592, 29611, 29619, 29621, 29622, 29625, 29627, 29629, 29633, 29647, 29675, 29691, 29692, 29715, 29719, 29722, 29730, 29731, 29737, 29740, 29741, 29786, 29788, 29800, 29805, 29808, 29809, 29825, 29828, 29837, 29856, 29867]\n"
     ]
    }
   ],
   "source": [
    "print(sorted(df.html_id.unique()))"
   ]
  },
  {
   "cell_type": "markdown",
   "metadata": {},
   "source": [
    "There are very many different values. Maybe a histogram or a line diagram will give you more insight. "
   ]
  },
  {
   "cell_type": "code",
   "execution_count": 13,
   "metadata": {},
   "outputs": [
    {
     "data": {
      "image/png": "[encoded data removed]",
      "text/plain": [
       "<Figure size 1080x720 with 2 Axes>"
      ]
     },
     "metadata": {
      "needs_background": "light"
     },
     "output_type": "display_data"
    }
   ],
   "source": [
    "fig, axs = plt.subplots(2)\n",
    "\n",
    "fig.set_figheight(10)\n",
    "fig.set_figwidth(15)\n",
    "\n",
    "df['html_id'].plot(ax=axs[0], kind='hist',bins=30, title=\"histogram\")\n",
    "df['html_id'][:500].plot(ax=axs[1], kind='line', title= \"line first 500 samples\")\n",
    "plt.show()"
   ]
  },
  {
   "cell_type": "markdown",
   "metadata": {},
   "source": [
    "You can see that ids between 10,000 and 15,000, and just under 30,000 are more common than other ids. In the line graph, you can see that this data also appears to be divided into blocks, but so there is no smooth flow to be seen. Other than that, I can't get much information from this about what this column is about.   \n",
    "  \n",
    "I suspect that this dataset was scrapped from the web and that this column refers to an html element or something like that. I cannot confirm this."
   ]
  },
  {
   "cell_type": "markdown",
   "metadata": {},
   "source": [
    "### Sent id\n",
    "Sending can refer to many things. But if we keep the scraping scenario in mind, it might have to do with sending the scraped data. Let's also put this data into a histogram and into a line diagram. "
   ]
  },
  {
   "cell_type": "code",
   "execution_count": 14,
   "metadata": {},
   "outputs": [
    {
     "data": {
      "image/png": "[encoded data removed]",
      "text/plain": [
       "<Figure size 1080x720 with 2 Axes>"
      ]
     },
     "metadata": {
      "needs_background": "light"
     },
     "output_type": "display_data"
    }
   ],
   "source": [
    "fig, axs = plt.subplots(2)\n",
    "\n",
    "fig.set_figheight(10)\n",
    "fig.set_figwidth(15)\n",
    "\n",
    "df['sent_id'].plot(ax=axs[0], kind='hist',bins=30, title=\"histogram\")\n",
    "df['sent_id'][:500].plot(ax=axs[1], kind='line', title= \"line first 500 samples\")\n",
    "plt.show()"
   ]
  },
  {
   "cell_type": "markdown",
   "metadata": {},
   "source": [
    "The lower the number the more common it is. That is one conclusion we can draw from the histogram. This can also be explained if we look at the line diagram. It is always counted from zero upwards. Again, we see that the data seems to be divided into blocks. "
   ]
  },
  {
   "cell_type": "markdown",
   "metadata": {},
   "source": [
    "### Column information \n",
    "\n",
    "Note: This is an assumption, actual information is not available. \n",
    "\n",
    "|Column name|Description|Data Type|\n",
    "|---|---|---|\n",
    "| fold_id | part (fold) index of data | int | \n",
    "| cv_tag | ? | int | \n",
    "| html_id | id of the html element data was scraped from | int | \n",
    "| sent_id | id of the message sended with | int |\n",
    "| text | The text of the review | object |\n",
    "| tag | The sentiment tag (positive or negative) | object |"
   ]
  },
  {
   "cell_type": "markdown",
   "metadata": {},
   "source": [
    "### Data blocks\n",
    "To see if the data is distributed in the same blocks we are going to put the data in the same graph. For this we need to normalize the data. for this we create a function. "
   ]
  },
  {
   "cell_type": "code",
   "execution_count": 15,
   "metadata": {},
   "outputs": [],
   "source": [
    "def normalise(series):\n",
    "    mini = min(series)\n",
    "    maxi = max(series)\n",
    "    normalised = (series - mini) / (maxi - mini)\n",
    "    return normalised;"
   ]
  },
  {
   "cell_type": "code",
   "execution_count": 16,
   "metadata": {},
   "outputs": [
    {
     "data": {
      "image/png": "[encoded data removed]",
      "text/plain": [
       "<Figure size 432x288 with 1 Axes>"
      ]
     },
     "metadata": {
      "needs_background": "light"
     },
     "output_type": "display_data"
    }
   ],
   "source": [
    "fig, ax = plt.subplots()\n",
    "\n",
    "sent_id = df['sent_id'][:500]\n",
    "normalise(sent_id).plot(ax=ax, kind='line')\n",
    "\n",
    "cv_tag = df['cv_tag'][:500]\n",
    "normalise(cv_tag).plot(ax=ax, kind='line')\n",
    "\n",
    "html = df['html_id'][:500]\n",
    "normalise(html).plot(ax=ax, kind='line')\n",
    "\n",
    "plt.legend(bbox_to_anchor=(1.05, 1),loc='upper left')\n",
    "plt.show()"
   ]
  },
  {
   "cell_type": "markdown",
   "metadata": {},
   "source": [
    "The data is indeed divided into the same blocks. What this means I do not know. I assume this has something to do with scrapping. This data does not seem interesting for the project so let's look further into `tag` and `text`."
   ]
  },
  {
   "cell_type": "markdown",
   "metadata": {},
   "source": [
    "### Column information \n",
    "\n",
    "|Column name|Description|Data Type|\n",
    "|---|---|---|\n",
    "| overall | the overal score a product  | float | \n",
    "| vote | helpfull votes of review | float | \n",
    "| verified | reviewer verified state | bool | \n",
    "| reviewTime | date of the review | datetime |\n",
    "| reviewerID | The ID of the reviewer | object |\n",
    "| asin | The ID of the product | object |\n",
    "| reviewerName | The name of the reviewer | object |\n",
    "| summary | The summary of the review | object |\n",
    "| unixReviewTime | date of the review in unix format | int |\n",
    "| style | A summary of product specifications, e.g., \"Color\" or \"Size\" | object |\n",
    "| image | Images the reviewer uploaded after recieving the product | object |  \n",
    "\n",
    "\n"
   ]
  },
  {
   "cell_type": "markdown",
   "metadata": {},
   "source": [
    "## Tag and Text\n",
    "We are going to start by renaming the columns so that they are the same in each data frame"
   ]
  },
  {
   "cell_type": "code",
   "execution_count": 17,
   "metadata": {},
   "outputs": [
    {
     "data": {
      "text/html": [
       "<div>\n",
       "<style scoped>\n",
       "    .dataframe tbody tr th:only-of-type {\n",
       "        vertical-align: middle;\n",
       "    }\n",
       "\n",
       "    .dataframe tbody tr th {\n",
       "        vertical-align: top;\n",
       "    }\n",
       "\n",
       "    .dataframe thead th {\n",
       "        text-align: right;\n",
       "    }\n",
       "</style>\n",
       "<table border=\"1\" class=\"dataframe\">\n",
       "  <thead>\n",
       "    <tr style=\"text-align: right;\">\n",
       "      <th></th>\n",
       "      <th>reviewText</th>\n",
       "      <th>sentiment</th>\n",
       "    </tr>\n",
       "  </thead>\n",
       "  <tbody>\n",
       "    <tr>\n",
       "      <th>0</th>\n",
       "      <td>films adapted from comic books have had plenty...</td>\n",
       "      <td>pos</td>\n",
       "    </tr>\n",
       "    <tr>\n",
       "      <th>1</th>\n",
       "      <td>for starters , it was created by alan moore ( ...</td>\n",
       "      <td>pos</td>\n",
       "    </tr>\n",
       "    <tr>\n",
       "      <th>2</th>\n",
       "      <td>to say moore and campbell thoroughly researche...</td>\n",
       "      <td>pos</td>\n",
       "    </tr>\n",
       "    <tr>\n",
       "      <th>3</th>\n",
       "      <td>the book ( or \" graphic novel , \" if you will ...</td>\n",
       "      <td>pos</td>\n",
       "    </tr>\n",
       "    <tr>\n",
       "      <th>4</th>\n",
       "      <td>in other words , don't dismiss this film becau...</td>\n",
       "      <td>pos</td>\n",
       "    </tr>\n",
       "    <tr>\n",
       "      <th>...</th>\n",
       "      <td>...</td>\n",
       "      <td>...</td>\n",
       "    </tr>\n",
       "    <tr>\n",
       "      <th>64715</th>\n",
       "      <td>that lack of inspiration can be traced back to...</td>\n",
       "      <td>neg</td>\n",
       "    </tr>\n",
       "    <tr>\n",
       "      <th>64716</th>\n",
       "      <td>like too many of the skits on the current inca...</td>\n",
       "      <td>neg</td>\n",
       "    </tr>\n",
       "    <tr>\n",
       "      <th>64717</th>\n",
       "      <td>after watching one of the \" roxbury \" skits on...</td>\n",
       "      <td>neg</td>\n",
       "    </tr>\n",
       "    <tr>\n",
       "      <th>64718</th>\n",
       "      <td>bump unsuspecting women , and . . . that's all .</td>\n",
       "      <td>neg</td>\n",
       "    </tr>\n",
       "    <tr>\n",
       "      <th>64719</th>\n",
       "      <td>after watching _a_night_at_the_roxbury_ , you'...</td>\n",
       "      <td>neg</td>\n",
       "    </tr>\n",
       "  </tbody>\n",
       "</table>\n",
       "<p>64720 rows × 2 columns</p>\n",
       "</div>"
      ],
      "text/plain": [
       "                                              reviewText sentiment\n",
       "0      films adapted from comic books have had plenty...       pos\n",
       "1      for starters , it was created by alan moore ( ...       pos\n",
       "2      to say moore and campbell thoroughly researche...       pos\n",
       "3      the book ( or \" graphic novel , \" if you will ...       pos\n",
       "4      in other words , don't dismiss this film becau...       pos\n",
       "...                                                  ...       ...\n",
       "64715  that lack of inspiration can be traced back to...       neg\n",
       "64716  like too many of the skits on the current inca...       neg\n",
       "64717  after watching one of the \" roxbury \" skits on...       neg\n",
       "64718   bump unsuspecting women , and . . . that's all .       neg\n",
       "64719  after watching _a_night_at_the_roxbury_ , you'...       neg\n",
       "\n",
       "[64720 rows x 2 columns]"
      ]
     },
     "execution_count": 17,
     "metadata": {},
     "output_type": "execute_result"
    }
   ],
   "source": [
    "df = df.rename(columns = {'text': 'reviewText', 'tag': 'sentiment'}, inplace = False)\n",
    "df = df.filter(['reviewText' , 'sentiment'], axis=1)\n",
    "df"
   ]
  },
  {
   "cell_type": "markdown",
   "metadata": {},
   "source": [
    "The column names are now correct. But we change the values of sentiment so that they are the same in each file. "
   ]
  },
  {
   "cell_type": "code",
   "execution_count": 18,
   "metadata": {},
   "outputs": [
    {
     "data": {
      "text/html": [
       "<div>\n",
       "<style scoped>\n",
       "    .dataframe tbody tr th:only-of-type {\n",
       "        vertical-align: middle;\n",
       "    }\n",
       "\n",
       "    .dataframe tbody tr th {\n",
       "        vertical-align: top;\n",
       "    }\n",
       "\n",
       "    .dataframe thead th {\n",
       "        text-align: right;\n",
       "    }\n",
       "</style>\n",
       "<table border=\"1\" class=\"dataframe\">\n",
       "  <thead>\n",
       "    <tr style=\"text-align: right;\">\n",
       "      <th></th>\n",
       "      <th>reviewText</th>\n",
       "      <th>sentiment</th>\n",
       "    </tr>\n",
       "  </thead>\n",
       "  <tbody>\n",
       "    <tr>\n",
       "      <th>0</th>\n",
       "      <td>films adapted from comic books have had plenty...</td>\n",
       "      <td>POSITIVE</td>\n",
       "    </tr>\n",
       "    <tr>\n",
       "      <th>1</th>\n",
       "      <td>for starters , it was created by alan moore ( ...</td>\n",
       "      <td>POSITIVE</td>\n",
       "    </tr>\n",
       "    <tr>\n",
       "      <th>2</th>\n",
       "      <td>to say moore and campbell thoroughly researche...</td>\n",
       "      <td>POSITIVE</td>\n",
       "    </tr>\n",
       "    <tr>\n",
       "      <th>3</th>\n",
       "      <td>the book ( or \" graphic novel , \" if you will ...</td>\n",
       "      <td>POSITIVE</td>\n",
       "    </tr>\n",
       "    <tr>\n",
       "      <th>4</th>\n",
       "      <td>in other words , don't dismiss this film becau...</td>\n",
       "      <td>POSITIVE</td>\n",
       "    </tr>\n",
       "    <tr>\n",
       "      <th>...</th>\n",
       "      <td>...</td>\n",
       "      <td>...</td>\n",
       "    </tr>\n",
       "    <tr>\n",
       "      <th>64715</th>\n",
       "      <td>that lack of inspiration can be traced back to...</td>\n",
       "      <td>NEGATIVE</td>\n",
       "    </tr>\n",
       "    <tr>\n",
       "      <th>64716</th>\n",
       "      <td>like too many of the skits on the current inca...</td>\n",
       "      <td>NEGATIVE</td>\n",
       "    </tr>\n",
       "    <tr>\n",
       "      <th>64717</th>\n",
       "      <td>after watching one of the \" roxbury \" skits on...</td>\n",
       "      <td>NEGATIVE</td>\n",
       "    </tr>\n",
       "    <tr>\n",
       "      <th>64718</th>\n",
       "      <td>bump unsuspecting women , and . . . that's all .</td>\n",
       "      <td>NEGATIVE</td>\n",
       "    </tr>\n",
       "    <tr>\n",
       "      <th>64719</th>\n",
       "      <td>after watching _a_night_at_the_roxbury_ , you'...</td>\n",
       "      <td>NEGATIVE</td>\n",
       "    </tr>\n",
       "  </tbody>\n",
       "</table>\n",
       "<p>64720 rows × 2 columns</p>\n",
       "</div>"
      ],
      "text/plain": [
       "                                              reviewText sentiment\n",
       "0      films adapted from comic books have had plenty...  POSITIVE\n",
       "1      for starters , it was created by alan moore ( ...  POSITIVE\n",
       "2      to say moore and campbell thoroughly researche...  POSITIVE\n",
       "3      the book ( or \" graphic novel , \" if you will ...  POSITIVE\n",
       "4      in other words , don't dismiss this film becau...  POSITIVE\n",
       "...                                                  ...       ...\n",
       "64715  that lack of inspiration can be traced back to...  NEGATIVE\n",
       "64716  like too many of the skits on the current inca...  NEGATIVE\n",
       "64717  after watching one of the \" roxbury \" skits on...  NEGATIVE\n",
       "64718   bump unsuspecting women , and . . . that's all .  NEGATIVE\n",
       "64719  after watching _a_night_at_the_roxbury_ , you'...  NEGATIVE\n",
       "\n",
       "[64720 rows x 2 columns]"
      ]
     },
     "execution_count": 18,
     "metadata": {},
     "output_type": "execute_result"
    }
   ],
   "source": [
    "df['sentiment'] = df['sentiment'].replace('pos', 'POSITIVE')\n",
    "df['sentiment'] = df['sentiment'].replace('neg', 'NEGATIVE')\n",
    "df"
   ]
  },
  {
   "cell_type": "markdown",
   "metadata": {},
   "source": [
    "# Conclusion\n",
    "I now have a better understanding of the data in the dataset. I have filtered for what is useful and added a sentiment column. I feel confident that I can use this data in the next step. "
   ]
  },
  {
   "cell_type": "markdown",
   "metadata": {},
   "source": [
    "### Save DF\n",
    "We are done with filtering and exploring the data of this dataset. Now we save it so it can be used in another file."
   ]
  },
  {
   "cell_type": "code",
   "execution_count": 19,
   "metadata": {},
   "outputs": [],
   "source": [
    "#save dataframe as csv to use it in another file\n",
    "df.to_csv(r'data/filtered/movie_filtered.csv', index = False)"
   ]
  }
 ],
 "metadata": {
  "kernelspec": {
   "display_name": "Python 3",
   "language": "python",
   "name": "python3"
  },
  "language_info": {
   "codemirror_mode": {
    "name": "ipython",
    "version": 3
   },
   "file_extension": ".py",
   "mimetype": "text/x-python",
   "name": "python",
   "nbconvert_exporter": "python",
   "pygments_lexer": "ipython3",
   "version": "3.8.5"
  }
 },
 "nbformat": 4,
 "nbformat_minor": 4
}
