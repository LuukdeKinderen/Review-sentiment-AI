{
 "cells": [
  {
   "cell_type": "markdown",
   "metadata": {},
   "source": [
    "# Deployment\n",
    "## Project\n",
    "Several sites allow you to post a comment or opinion about a product, place, or event. Think of Facebook, Instagram, Youtube, or Reddit. However, on not all of these sites, you can see at a glance how many of these comments are written with a positive or negative mindset. \n",
    "\n",
    "For many people or companies, it is useful to know what percentage of the reactions are positive or negative. You can't always tell this by looking at a Like system. The main question you should be able to answer with the help of this project is; Is a piece of text positive or negative?\n",
    "## Document goal\n",
    "In this paper, we are going to use the previously created classifier and count vectorizer to complete the deployment phase. This will require the following steps:\n",
    "1. Import objects.\n",
    "2. Create a function that classifies a custom text\n",
    "3. Deploy to web."
   ]
  },
  {
   "cell_type": "markdown",
   "metadata": {},
   "source": [
    "### Import object\n",
    "To import objects we use pickle. "
   ]
  },
  {
   "cell_type": "code",
   "execution_count": 1,
   "metadata": {},
   "outputs": [],
   "source": [
    "import pickle"
   ]
  },
  {
   "cell_type": "code",
   "execution_count": 2,
   "metadata": {},
   "outputs": [],
   "source": [
    "with open('obj/vect.pkl', 'rb') as f:\n",
    "    vect = pickle.load(f)  \n",
    "with open('obj/clf.pkl', 'rb') as f:\n",
    "    clf = pickle.load(f)  "
   ]
  },
  {
   "cell_type": "markdown",
   "metadata": {},
   "source": [
    "### Create function "
   ]
  },
  {
   "cell_type": "code",
   "execution_count": 3,
   "metadata": {},
   "outputs": [],
   "source": [
    "def classify_custom_text(review):\n",
    "    #convert text to matrix\n",
    "    matrix = vect.transform([review])\n",
    "\n",
    "    #use matrix to make sentiment prediction\n",
    "    result = clf.predict(matrix.toarray())\n",
    "\n",
    "    #return result\n",
    "    return \"sentence: \" + review + '\\nprediction: ' + result[0] +'\\n'\n"
   ]
  },
  {
   "cell_type": "markdown",
   "metadata": {},
   "source": [
    "#### Test function"
   ]
  },
  {
   "cell_type": "code",
   "execution_count": 9,
   "metadata": {},
   "outputs": [
    {
     "name": "stdout",
     "output_type": "stream",
     "text": [
      "sentence: I do not like this at all!\n",
      "prediction: NEGATIVE\n",
      "\n",
      "sentence: this was the best day ever\n",
      "prediction: POSITIVE\n",
      "\n",
      "sentence: I do not agree with this person\n",
      "prediction: NEGATIVE\n",
      "\n",
      "sentence: places like this make me anxious\n",
      "prediction: NEGATIVE\n",
      "\n",
      "sentence: This funhouse was the best experience ever\n",
      "prediction: POSITIVE\n",
      "\n"
     ]
    }
   ],
   "source": [
    "sentences= [\n",
    "    \"I do not like this at all!\",\n",
    "    \"this was the best day ever\",\n",
    "    \"I do not agree with this person\",\n",
    "    \"places like this make me anxious\",\n",
    "    \"This funhouse was the best experience ever\"\n",
    "]\n",
    "\n",
    "for sentence in sentences:\n",
    "    print(classify_custom_text(sentence))\n",
    "    "
   ]
  },
  {
   "cell_type": "markdown",
   "metadata": {},
   "source": [
    "The function seems to work great!\n",
    "### Deploy\n",
    "To make the function public to everyone we use anvil. Anvil is a drag and drop UI creation tool. Any button or text field you can link to a python function. \n",
    "\n",
    "With anvil you can also make a websocket connection to another (in this case local) server. For this you need a connection string, also called an uplink. \n",
    "\n",
    "step 1: Read uplink from file"
   ]
  },
  {
   "cell_type": "code",
   "execution_count": 4,
   "metadata": {},
   "outputs": [],
   "source": [
    "anvil_uplink = open(\"anvil-uplink.txt\", \"r\").read()"
   ]
  },
  {
   "cell_type": "markdown",
   "metadata": {},
   "source": [
    "step 2: Connect via websockets to remote anvil server."
   ]
  },
  {
   "cell_type": "code",
   "execution_count": 5,
   "metadata": {},
   "outputs": [
    {
     "name": "stdout",
     "output_type": "stream",
     "text": [
      "Connecting to wss://anvil.works/uplink\n",
      "Anvil websocket open\n",
      "Connected to \"Default environment (dev)\" as SERVER\n"
     ]
    }
   ],
   "source": [
    "import anvil.server\n",
    "anvil.server.connect(anvil_uplink)"
   ]
  },
  {
   "cell_type": "markdown",
   "metadata": {},
   "source": [
    "step 3: Create callable to use in on anvil side"
   ]
  },
  {
   "cell_type": "code",
   "execution_count": 6,
   "metadata": {},
   "outputs": [],
   "source": [
    "@anvil.server.callable\n",
    "def classify_text(text):\n",
    "    return classify_custom_text(text)"
   ]
  },
  {
   "cell_type": "markdown",
   "metadata": {},
   "source": [
    "step 4: Use callable on anvil side (screenshot from anvil) \n",
    "![anvil_code](img/anvil_code.png)\n",
    "\n",
    "# Conclusion\n",
    "We have converted the model into a working function and the function can be used via a UI (as long as this notebook is running somewhere). Now we can use go to [this](https://qpdm4eyb7yuprave.anvil.app/7HNS5VZHULNXXQM7BRX5RC63) website and test our model\n",
    "![anvil_result](img/anvil_result.png)"
   ]
  }
 ],
 "metadata": {
  "kernelspec": {
   "display_name": "Python 3",
   "language": "python",
   "name": "python3"
  },
  "language_info": {
   "codemirror_mode": {
    "name": "ipython",
    "version": 3
   },
   "file_extension": ".py",
   "mimetype": "text/x-python",
   "name": "python",
   "nbconvert_exporter": "python",
   "pygments_lexer": "ipython3",
   "version": "3.8.5"
  }
 },
 "nbformat": 4,
 "nbformat_minor": 4
}
