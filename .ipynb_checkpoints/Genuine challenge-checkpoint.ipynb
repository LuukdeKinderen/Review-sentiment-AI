{
 "cells": [
  {
   "cell_type": "markdown",
   "metadata": {},
   "source": [
    "# Positive / negative text classifier\n",
    "Several sites allow you to post a comment or opinion about a product, place, or event. Think of Facebook, Instagram, Youtube, or Reddit. However, on not all of these sites, you can see at a glance how many of these comments are written with a positive or negative mindset. \n",
    "\n",
    "For many people or companies, it is useful to know what percentage of the reactions are positive or negative. You can't always tell this by looking at a Like system. The main question you should be able to answer with the help of this project is; Is a piece of text positive or negative?\n"
   ]
  },
  {
   "cell_type": "markdown",
   "metadata": {},
   "source": [
    "First We will start with importing libraries and doing some styling"
   ]
  },
  {
   "cell_type": "code",
   "execution_count": 1,
   "metadata": {},
   "outputs": [],
   "source": [
    "import pandas as pd\n",
    "import numpy as np\n",
    "import matplotlib.pyplot as plt\n",
    "from matplotlib.pyplot import figure\n",
    "\n",
    "#set decimal point\n",
    "pd.options.display.float_format = \"{:.3f}\".format"
   ]
  },
  {
   "cell_type": "code",
   "execution_count": 2,
   "metadata": {},
   "outputs": [
    {
     "data": {
      "text/html": [
       "<style>\n",
       "table {float:left}\n",
       "</style>\n"
      ],
      "text/plain": [
       "<IPython.core.display.HTML object>"
      ]
     },
     "metadata": {},
     "output_type": "display_data"
    }
   ],
   "source": [
    "%%html\n",
    "<style>\n",
    "table {float:left}\n",
    "</style>"
   ]
  },
  {
   "cell_type": "markdown",
   "metadata": {},
   "source": [
    "In order to classify whether text is positive or negative, we first need a bunch of text that is labled as positive or negative. \n",
    "\n",
    "A review consists of text and a rating (Think a thumbs up or a 5 star rating).  We can use this review to determine if the text is positive or negative.\n",
    "\n",
    "To classify text as positive or negative we have chosen to use reviews."
   ]
  },
  {
   "cell_type": "markdown",
   "metadata": {},
   "source": [
    "# Getting dataframes\n",
    "I chose 3 different datasets from different sources. That way the training input is way more diverse. "
   ]
  },
  {
   "cell_type": "markdown",
   "metadata": {},
   "source": [
    "For one dataset I need to use these funcions that I coppied from the source"
   ]
  },
  {
   "cell_type": "code",
   "execution_count": 3,
   "metadata": {},
   "outputs": [],
   "source": [
    "#import libraries\n",
    "import gzip\n",
    "import json\n",
    "\n",
    "#functions copied from source\n",
    "def parse(path):\n",
    "  g = gzip.open(path, 'rb')\n",
    "  for l in g:\n",
    "    yield json.loads(l)\n",
    "\n",
    "def getDF(path):\n",
    "  i = 0\n",
    "  df = {}\n",
    "  for d in parse(path):\n",
    "    df[i] = d\n",
    "    i += 1\n",
    "  return pd.DataFrame.from_dict(df, orient='index')\n",
    "\n",
    "#use functions to create dataframe\n",
    "df = getDF('data/Toys_and_Games_5.json.gz')\n",
    "#save dataframe as csv so that it is easier to load afterwards\n",
    "df.to_csv(r'data/Toys_and_Games_5.csv', index = False)"
   ]
  },
  {
   "cell_type": "markdown",
   "metadata": {},
   "source": [
    "Load in 3 different review datasets"
   ]
  },
  {
   "cell_type": "code",
   "execution_count": 4,
   "metadata": {},
   "outputs": [
    {
     "name": "stderr",
     "output_type": "stream",
     "text": [
      "C:\\Users\\Luukd\\anaconda3\\lib\\site-packages\\IPython\\core\\interactiveshell.py:3146: DtypeWarning: Columns (1) have mixed types.Specify dtype option on import or set low_memory=False.\n",
      "  has_raised = await self.run_ast_nodes(code_ast.body, cell_name,\n"
     ]
    }
   ],
   "source": [
    "df_amazon = pd.read_csv('data/Toys_and_Games_5.csv')\n",
    "df_hotel = pd.read_csv('data/Hotel_Reviews.csv')\n",
    "df_movie = pd.read_csv('data/movie_review.csv')"
   ]
  },
  {
   "cell_type": "markdown",
   "metadata": {},
   "source": [
    "# Exploratory Data Analysis\n",
    "## Amazon"
   ]
  },
  {
   "cell_type": "code",
   "execution_count": 5,
   "metadata": {},
   "outputs": [
    {
     "data": {
      "text/html": [
       "<div>\n",
       "<style scoped>\n",
       "    .dataframe tbody tr th:only-of-type {\n",
       "        vertical-align: middle;\n",
       "    }\n",
       "\n",
       "    .dataframe tbody tr th {\n",
       "        vertical-align: top;\n",
       "    }\n",
       "\n",
       "    .dataframe thead th {\n",
       "        text-align: right;\n",
       "    }\n",
       "</style>\n",
       "<table border=\"1\" class=\"dataframe\">\n",
       "  <thead>\n",
       "    <tr style=\"text-align: right;\">\n",
       "      <th></th>\n",
       "      <th>overall</th>\n",
       "      <th>vote</th>\n",
       "      <th>verified</th>\n",
       "      <th>reviewTime</th>\n",
       "      <th>reviewerID</th>\n",
       "      <th>asin</th>\n",
       "      <th>style</th>\n",
       "      <th>reviewerName</th>\n",
       "      <th>reviewText</th>\n",
       "      <th>summary</th>\n",
       "      <th>unixReviewTime</th>\n",
       "      <th>image</th>\n",
       "    </tr>\n",
       "  </thead>\n",
       "  <tbody>\n",
       "    <tr>\n",
       "      <th>0</th>\n",
       "      <td>5.000</td>\n",
       "      <td>3</td>\n",
       "      <td>True</td>\n",
       "      <td>10 6, 2013</td>\n",
       "      <td>A2LSCFZM2FBZK7</td>\n",
       "      <td>0486427706</td>\n",
       "      <td>{'Format:': ' Paperback'}</td>\n",
       "      <td>Ginger</td>\n",
       "      <td>The stained glass pages are pretty cool. And i...</td>\n",
       "      <td>Nice book</td>\n",
       "      <td>1381017600</td>\n",
       "      <td>NaN</td>\n",
       "    </tr>\n",
       "    <tr>\n",
       "      <th>1</th>\n",
       "      <td>5.000</td>\n",
       "      <td>9</td>\n",
       "      <td>True</td>\n",
       "      <td>08 9, 2013</td>\n",
       "      <td>A3IXP5VS847GE5</td>\n",
       "      <td>0486427706</td>\n",
       "      <td>{'Format:': ' Paperback'}</td>\n",
       "      <td>Dragonflies &amp;amp; Autumn Leaves</td>\n",
       "      <td>My 11 y.o. loved this...and so do I (you know ...</td>\n",
       "      <td>Great pictures</td>\n",
       "      <td>1376006400</td>\n",
       "      <td>NaN</td>\n",
       "    </tr>\n",
       "    <tr>\n",
       "      <th>2</th>\n",
       "      <td>5.000</td>\n",
       "      <td>NaN</td>\n",
       "      <td>True</td>\n",
       "      <td>04 5, 2016</td>\n",
       "      <td>A1274GG1EB2JLJ</td>\n",
       "      <td>0486427706</td>\n",
       "      <td>{'Format:': ' Paperback'}</td>\n",
       "      <td>barbara ann</td>\n",
       "      <td>The pictures are great , I've done one and gav...</td>\n",
       "      <td>The pictures are great, I've done one and gave...</td>\n",
       "      <td>1459814400</td>\n",
       "      <td>NaN</td>\n",
       "    </tr>\n",
       "    <tr>\n",
       "      <th>3</th>\n",
       "      <td>5.000</td>\n",
       "      <td>3</td>\n",
       "      <td>True</td>\n",
       "      <td>02 13, 2016</td>\n",
       "      <td>A30X5EGBYAZQQK</td>\n",
       "      <td>0486427706</td>\n",
       "      <td>{'Format:': ' Paperback'}</td>\n",
       "      <td>Samantha</td>\n",
       "      <td>I absolutely love this book! Its translucent p...</td>\n",
       "      <td>So beautiful!</td>\n",
       "      <td>1455321600</td>\n",
       "      <td>NaN</td>\n",
       "    </tr>\n",
       "    <tr>\n",
       "      <th>4</th>\n",
       "      <td>5.000</td>\n",
       "      <td>NaN</td>\n",
       "      <td>True</td>\n",
       "      <td>12 10, 2015</td>\n",
       "      <td>A3U6UNXLAUY6ZV</td>\n",
       "      <td>0486427706</td>\n",
       "      <td>{'Format:': ' Paperback'}</td>\n",
       "      <td>CP in Texas</td>\n",
       "      <td>I love it!</td>\n",
       "      <td>Five Stars</td>\n",
       "      <td>1449705600</td>\n",
       "      <td>NaN</td>\n",
       "    </tr>\n",
       "  </tbody>\n",
       "</table>\n",
       "</div>"
      ],
      "text/plain": [
       "   overall vote  verified   reviewTime      reviewerID        asin  \\\n",
       "0    5.000    3      True   10 6, 2013  A2LSCFZM2FBZK7  0486427706   \n",
       "1    5.000    9      True   08 9, 2013  A3IXP5VS847GE5  0486427706   \n",
       "2    5.000  NaN      True   04 5, 2016  A1274GG1EB2JLJ  0486427706   \n",
       "3    5.000    3      True  02 13, 2016  A30X5EGBYAZQQK  0486427706   \n",
       "4    5.000  NaN      True  12 10, 2015  A3U6UNXLAUY6ZV  0486427706   \n",
       "\n",
       "                       style                     reviewerName  \\\n",
       "0  {'Format:': ' Paperback'}                           Ginger   \n",
       "1  {'Format:': ' Paperback'}  Dragonflies &amp; Autumn Leaves   \n",
       "2  {'Format:': ' Paperback'}                      barbara ann   \n",
       "3  {'Format:': ' Paperback'}                         Samantha   \n",
       "4  {'Format:': ' Paperback'}                      CP in Texas   \n",
       "\n",
       "                                          reviewText  \\\n",
       "0  The stained glass pages are pretty cool. And i...   \n",
       "1  My 11 y.o. loved this...and so do I (you know ...   \n",
       "2  The pictures are great , I've done one and gav...   \n",
       "3  I absolutely love this book! Its translucent p...   \n",
       "4                                         I love it!   \n",
       "\n",
       "                                             summary  unixReviewTime image  \n",
       "0                                          Nice book      1381017600   NaN  \n",
       "1                                     Great pictures      1376006400   NaN  \n",
       "2  The pictures are great, I've done one and gave...      1459814400   NaN  \n",
       "3                                      So beautiful!      1455321600   NaN  \n",
       "4                                         Five Stars      1449705600   NaN  "
      ]
     },
     "execution_count": 5,
     "metadata": {},
     "output_type": "execute_result"
    }
   ],
   "source": [
    "df_amazon.head()"
   ]
  },
  {
   "cell_type": "markdown",
   "metadata": {},
   "source": [
    "I have almost 2 million rows, this really is a large dataset!"
   ]
  },
  {
   "cell_type": "code",
   "execution_count": 6,
   "metadata": {},
   "outputs": [
    {
     "data": {
      "text/plain": [
       "(1828971, 12)"
      ]
     },
     "execution_count": 6,
     "metadata": {},
     "output_type": "execute_result"
    }
   ],
   "source": [
    "df_amazon.shape"
   ]
  },
  {
   "cell_type": "code",
   "execution_count": 7,
   "metadata": {
    "scrolled": true
   },
   "outputs": [
    {
     "name": "stdout",
     "output_type": "stream",
     "text": [
      "<class 'pandas.core.frame.DataFrame'>\n",
      "RangeIndex: 1828971 entries, 0 to 1828970\n",
      "Data columns (total 12 columns):\n",
      " #   Column          Dtype  \n",
      "---  ------          -----  \n",
      " 0   overall         float64\n",
      " 1   vote            object \n",
      " 2   verified        bool   \n",
      " 3   reviewTime      object \n",
      " 4   reviewerID      object \n",
      " 5   asin            object \n",
      " 6   style           object \n",
      " 7   reviewerName    object \n",
      " 8   reviewText      object \n",
      " 9   summary         object \n",
      " 10  unixReviewTime  int64  \n",
      " 11  image           object \n",
      "dtypes: bool(1), float64(1), int64(1), object(9)\n",
      "memory usage: 155.2+ MB\n"
     ]
    }
   ],
   "source": [
    "df_amazon.info()"
   ]
  },
  {
   "cell_type": "markdown",
   "metadata": {},
   "source": [
    "### Data cleaning\n",
    "some columns are not of the type indicated in the source. We are going to modify this.  \n",
    "  \n",
    "Vote is of type `object`, according to the dataset page this really should be a numeric type. After looking into it I found out some values are writen as `1,000` in stead of `1000` So lets remove all the comma's `,` and make it numeric.  \n",
    "  \n",
    "Additionally, currently there are two columns that refer to the time when the review was posted. We are going to replace these with a column of type datetime. "
   ]
  },
  {
   "cell_type": "code",
   "execution_count": 8,
   "metadata": {
    "scrolled": true
   },
   "outputs": [
    {
     "name": "stdout",
     "output_type": "stream",
     "text": [
      "<class 'pandas.core.frame.DataFrame'>\n",
      "RangeIndex: 1828971 entries, 0 to 1828970\n",
      "Data columns (total 11 columns):\n",
      " #   Column        Dtype         \n",
      "---  ------        -----         \n",
      " 0   overall       float64       \n",
      " 1   vote          float64       \n",
      " 2   verified      bool          \n",
      " 3   reviewerID    object        \n",
      " 4   asin          object        \n",
      " 5   style         object        \n",
      " 6   reviewerName  object        \n",
      " 7   reviewText    object        \n",
      " 8   summary       object        \n",
      " 9   reviewTime    datetime64[ns]\n",
      " 10  image         object        \n",
      "dtypes: bool(1), datetime64[ns](1), float64(2), object(7)\n",
      "memory usage: 141.3+ MB\n"
     ]
    }
   ],
   "source": [
    "#clean out ','\n",
    "df_amazon['vote'] = df_amazon['vote'].str.replace(\",\", \"\")\n",
    "#change to numeric type\n",
    "df_amazon['vote'] = pd.to_numeric(df_amazon['vote'])\n",
    "\n",
    "#change to datetime type\n",
    "df_amazon['unixReviewTime'] = pd.to_datetime(df_amazon['unixReviewTime'],unit='s')\n",
    "#remove old review time column\n",
    "del df_amazon['reviewTime']\n",
    "#rename column so 'unix' is removed from column name\n",
    "df_amazon = df_amazon.rename(columns = {'unixReviewTime': 'reviewTime'}, inplace = False)\n",
    "\n",
    "\n",
    "df_amazon.info()"
   ]
  },
  {
   "cell_type": "markdown",
   "metadata": {},
   "source": [
    "Now vote is the float type, and reviewTime is datetime. This is as it should be according to the source"
   ]
  },
  {
   "cell_type": "markdown",
   "metadata": {},
   "source": [
    "### Column information \n",
    "\n",
    "|Column name|Description|Data Type|\n",
    "|---|---|---|\n",
    "| overall | the overal score a product  | float64 | \n",
    "| vote | helpfull votes of review | float64 | \n",
    "| verified | reviewer verified state | bool | \n",
    "| reviewerID | The ID of the reviewer | object |\n",
    "| asin | The ID of the product | object |\n",
    "| reviewerName | The name of the reviewer | object |\n",
    "| summary | The summary of the review | object |\n",
    "| reviewTime | date of the review | datetime64[ns] |\n",
    "| style | A summary of product specifications, e.g., \"Color\" or \"Size\" | object |\n",
    "| image | Images the reviewer uploaded after recieving the product | object |"
   ]
  },
  {
   "cell_type": "markdown",
   "metadata": {},
   "source": [
    "### Data ledger\n",
    "\n",
    "|  |   |\n",
    "| :- | :- |\n",
    "| **Concerning fact** | Amazon Review Data |\n",
    "| **Source** | https://nijianmo.github.io/amazon/index.html |\n",
    "| **Origin of the data** | Amazon |\n",
    "| **rate of refreshing** | NaN |\n",
    "| **date of the data** | Oct 2018 |\n",
    "| **Period the data concerns** | May 1996 - Oct 2018 |\n",
    "| **Size of data** | __Size__: Approx. 231 MB, __Rows__: 1828971, __Columns__: 12 |"
   ]
  },
  {
   "cell_type": "code",
   "execution_count": 9,
   "metadata": {},
   "outputs": [
    {
     "data": {
      "text/html": [
       "<div>\n",
       "<style scoped>\n",
       "    .dataframe tbody tr th:only-of-type {\n",
       "        vertical-align: middle;\n",
       "    }\n",
       "\n",
       "    .dataframe tbody tr th {\n",
       "        vertical-align: top;\n",
       "    }\n",
       "\n",
       "    .dataframe thead th {\n",
       "        text-align: right;\n",
       "    }\n",
       "</style>\n",
       "<table border=\"1\" class=\"dataframe\">\n",
       "  <thead>\n",
       "    <tr style=\"text-align: right;\">\n",
       "      <th></th>\n",
       "      <th>overall</th>\n",
       "      <th>vote</th>\n",
       "      <th>verified</th>\n",
       "      <th>reviewerID</th>\n",
       "      <th>asin</th>\n",
       "      <th>style</th>\n",
       "      <th>reviewerName</th>\n",
       "      <th>reviewText</th>\n",
       "      <th>summary</th>\n",
       "      <th>reviewTime</th>\n",
       "      <th>image</th>\n",
       "    </tr>\n",
       "  </thead>\n",
       "  <tbody>\n",
       "    <tr>\n",
       "      <th>count</th>\n",
       "      <td>1828971.000</td>\n",
       "      <td>80679.000</td>\n",
       "      <td>1828971</td>\n",
       "      <td>1828971</td>\n",
       "      <td>1828971</td>\n",
       "      <td>523494</td>\n",
       "      <td>1828798</td>\n",
       "      <td>1827796</td>\n",
       "      <td>1828597</td>\n",
       "      <td>1828971</td>\n",
       "      <td>41383</td>\n",
       "    </tr>\n",
       "    <tr>\n",
       "      <th>unique</th>\n",
       "      <td>nan</td>\n",
       "      <td>nan</td>\n",
       "      <td>2</td>\n",
       "      <td>208180</td>\n",
       "      <td>78772</td>\n",
       "      <td>12983</td>\n",
       "      <td>154447</td>\n",
       "      <td>1461181</td>\n",
       "      <td>843546</td>\n",
       "      <td>NaN</td>\n",
       "      <td>39417</td>\n",
       "    </tr>\n",
       "    <tr>\n",
       "      <th>top</th>\n",
       "      <td>nan</td>\n",
       "      <td>nan</td>\n",
       "      <td>True</td>\n",
       "      <td>AJGU56YG8G1DQ</td>\n",
       "      <td>B000YDDF6O</td>\n",
       "      <td>{'Product Packaging:': ' Standard Packaging'}</td>\n",
       "      <td>Amazon Customer</td>\n",
       "      <td>great</td>\n",
       "      <td>Five Stars</td>\n",
       "      <td>NaN</td>\n",
       "      <td>['https://images-na.ssl-images-amazon.com/imag...</td>\n",
       "    </tr>\n",
       "    <tr>\n",
       "      <th>freq</th>\n",
       "      <td>nan</td>\n",
       "      <td>nan</td>\n",
       "      <td>1599831</td>\n",
       "      <td>812</td>\n",
       "      <td>4887</td>\n",
       "      <td>67788</td>\n",
       "      <td>86018</td>\n",
       "      <td>6133</td>\n",
       "      <td>438632</td>\n",
       "      <td>NaN</td>\n",
       "      <td>12</td>\n",
       "    </tr>\n",
       "    <tr>\n",
       "      <th>mean</th>\n",
       "      <td>4.474</td>\n",
       "      <td>8.682</td>\n",
       "      <td>NaN</td>\n",
       "      <td>NaN</td>\n",
       "      <td>NaN</td>\n",
       "      <td>NaN</td>\n",
       "      <td>NaN</td>\n",
       "      <td>NaN</td>\n",
       "      <td>NaN</td>\n",
       "      <td>2015-09-08 17:17:00.607474432</td>\n",
       "      <td>NaN</td>\n",
       "    </tr>\n",
       "    <tr>\n",
       "      <th>min</th>\n",
       "      <td>1.000</td>\n",
       "      <td>2.000</td>\n",
       "      <td>NaN</td>\n",
       "      <td>NaN</td>\n",
       "      <td>NaN</td>\n",
       "      <td>NaN</td>\n",
       "      <td>NaN</td>\n",
       "      <td>NaN</td>\n",
       "      <td>NaN</td>\n",
       "      <td>1999-10-06 00:00:00</td>\n",
       "      <td>NaN</td>\n",
       "    </tr>\n",
       "    <tr>\n",
       "      <th>25%</th>\n",
       "      <td>4.000</td>\n",
       "      <td>2.000</td>\n",
       "      <td>NaN</td>\n",
       "      <td>NaN</td>\n",
       "      <td>NaN</td>\n",
       "      <td>NaN</td>\n",
       "      <td>NaN</td>\n",
       "      <td>NaN</td>\n",
       "      <td>NaN</td>\n",
       "      <td>2014-12-04 00:00:00</td>\n",
       "      <td>NaN</td>\n",
       "    </tr>\n",
       "    <tr>\n",
       "      <th>50%</th>\n",
       "      <td>5.000</td>\n",
       "      <td>3.000</td>\n",
       "      <td>NaN</td>\n",
       "      <td>NaN</td>\n",
       "      <td>NaN</td>\n",
       "      <td>NaN</td>\n",
       "      <td>NaN</td>\n",
       "      <td>NaN</td>\n",
       "      <td>NaN</td>\n",
       "      <td>2015-12-14 00:00:00</td>\n",
       "      <td>NaN</td>\n",
       "    </tr>\n",
       "    <tr>\n",
       "      <th>75%</th>\n",
       "      <td>5.000</td>\n",
       "      <td>7.000</td>\n",
       "      <td>NaN</td>\n",
       "      <td>NaN</td>\n",
       "      <td>NaN</td>\n",
       "      <td>NaN</td>\n",
       "      <td>NaN</td>\n",
       "      <td>NaN</td>\n",
       "      <td>NaN</td>\n",
       "      <td>2016-12-06 00:00:00</td>\n",
       "      <td>NaN</td>\n",
       "    </tr>\n",
       "    <tr>\n",
       "      <th>max</th>\n",
       "      <td>5.000</td>\n",
       "      <td>1973.000</td>\n",
       "      <td>NaN</td>\n",
       "      <td>NaN</td>\n",
       "      <td>NaN</td>\n",
       "      <td>NaN</td>\n",
       "      <td>NaN</td>\n",
       "      <td>NaN</td>\n",
       "      <td>NaN</td>\n",
       "      <td>2018-10-05 00:00:00</td>\n",
       "      <td>NaN</td>\n",
       "    </tr>\n",
       "    <tr>\n",
       "      <th>std</th>\n",
       "      <td>1.000</td>\n",
       "      <td>31.706</td>\n",
       "      <td>NaN</td>\n",
       "      <td>NaN</td>\n",
       "      <td>NaN</td>\n",
       "      <td>NaN</td>\n",
       "      <td>NaN</td>\n",
       "      <td>NaN</td>\n",
       "      <td>NaN</td>\n",
       "      <td>NaN</td>\n",
       "      <td>NaN</td>\n",
       "    </tr>\n",
       "  </tbody>\n",
       "</table>\n",
       "</div>"
      ],
      "text/plain": [
       "           overall      vote verified     reviewerID        asin  \\\n",
       "count  1828971.000 80679.000  1828971        1828971     1828971   \n",
       "unique         nan       nan        2         208180       78772   \n",
       "top            nan       nan     True  AJGU56YG8G1DQ  B000YDDF6O   \n",
       "freq           nan       nan  1599831            812        4887   \n",
       "mean         4.474     8.682      NaN            NaN         NaN   \n",
       "min          1.000     2.000      NaN            NaN         NaN   \n",
       "25%          4.000     2.000      NaN            NaN         NaN   \n",
       "50%          5.000     3.000      NaN            NaN         NaN   \n",
       "75%          5.000     7.000      NaN            NaN         NaN   \n",
       "max          5.000  1973.000      NaN            NaN         NaN   \n",
       "std          1.000    31.706      NaN            NaN         NaN   \n",
       "\n",
       "                                                style     reviewerName  \\\n",
       "count                                          523494          1828798   \n",
       "unique                                          12983           154447   \n",
       "top     {'Product Packaging:': ' Standard Packaging'}  Amazon Customer   \n",
       "freq                                            67788            86018   \n",
       "mean                                              NaN              NaN   \n",
       "min                                               NaN              NaN   \n",
       "25%                                               NaN              NaN   \n",
       "50%                                               NaN              NaN   \n",
       "75%                                               NaN              NaN   \n",
       "max                                               NaN              NaN   \n",
       "std                                               NaN              NaN   \n",
       "\n",
       "       reviewText     summary                     reviewTime  \\\n",
       "count     1827796     1828597                        1828971   \n",
       "unique    1461181      843546                            NaN   \n",
       "top         great  Five Stars                            NaN   \n",
       "freq         6133      438632                            NaN   \n",
       "mean          NaN         NaN  2015-09-08 17:17:00.607474432   \n",
       "min           NaN         NaN            1999-10-06 00:00:00   \n",
       "25%           NaN         NaN            2014-12-04 00:00:00   \n",
       "50%           NaN         NaN            2015-12-14 00:00:00   \n",
       "75%           NaN         NaN            2016-12-06 00:00:00   \n",
       "max           NaN         NaN            2018-10-05 00:00:00   \n",
       "std           NaN         NaN                            NaN   \n",
       "\n",
       "                                                    image  \n",
       "count                                               41383  \n",
       "unique                                              39417  \n",
       "top     ['https://images-na.ssl-images-amazon.com/imag...  \n",
       "freq                                                   12  \n",
       "mean                                                  NaN  \n",
       "min                                                   NaN  \n",
       "25%                                                   NaN  \n",
       "50%                                                   NaN  \n",
       "75%                                                   NaN  \n",
       "max                                                   NaN  \n",
       "std                                                   NaN  "
      ]
     },
     "execution_count": 9,
     "metadata": {},
     "output_type": "execute_result"
    }
   ],
   "source": [
    "df_amazon.describe(include='all', datetime_is_numeric=True)"
   ]
  },
  {
   "cell_type": "markdown",
   "metadata": {},
   "source": [
    "Notable is that the average of `overall`, is `4.474...`.And the maximum is `5`. So probably this dataset consists of a lot more positive reviews than negative reviews. "
   ]
  },
  {
   "cell_type": "markdown",
   "metadata": {},
   "source": [
    "Histogram that shows distribution of ratings"
   ]
  },
  {
   "cell_type": "code",
   "execution_count": 10,
   "metadata": {},
   "outputs": [
    {
     "data": {
      "image/png": "[encoded data removed]",
      "text/plain": [
       "<Figure size 640x480 with 1 Axes>"
      ]
     },
     "metadata": {
      "needs_background": "light"
     },
     "output_type": "display_data"
    }
   ],
   "source": [
    "#make figure bigger\n",
    "figure(figsize=(8, 6), dpi=80)\n",
    "\n",
    "#get amount of bars\n",
    "n_bars = int(df_amazon['overall'].max())\n",
    "\n",
    "#set number of bars\n",
    "plt.xticks(range(n_bars+1))\n",
    "#make histogram\n",
    "plt.hist(df_amazon['overall'],bins=5, range=(1,n_bars+1))\n",
    "#add text\n",
    "plt.ylabel('overall (x 1,000,000)')\n",
    "plt.title(\"histogram for 'overall'\")\n",
    "# show\n",
    "plt.show()"
   ]
  },
  {
   "cell_type": "markdown",
   "metadata": {},
   "source": [
    "The distribution of ratings is not that even. We want to filter this later. Because we want the training data to be as even al possable"
   ]
  },
  {
   "cell_type": "markdown",
   "metadata": {},
   "source": [
    "### Add a Sentiment colum\n",
    "\n",
    "if `overall` Is `3`        the sentiment is `NEUTRAL`  \n",
    "if `overall` Is `4` or `5` the sentiment is `POSITIVE`  \n",
    "if `overall` Is `1` or `2` the sentiment is `NEGATIVE`\n"
   ]
  },
  {
   "cell_type": "code",
   "execution_count": 11,
   "metadata": {},
   "outputs": [
    {
     "data": {
      "text/html": [
       "<div>\n",
       "<style scoped>\n",
       "    .dataframe tbody tr th:only-of-type {\n",
       "        vertical-align: middle;\n",
       "    }\n",
       "\n",
       "    .dataframe tbody tr th {\n",
       "        vertical-align: top;\n",
       "    }\n",
       "\n",
       "    .dataframe thead th {\n",
       "        text-align: right;\n",
       "    }\n",
       "</style>\n",
       "<table border=\"1\" class=\"dataframe\">\n",
       "  <thead>\n",
       "    <tr style=\"text-align: right;\">\n",
       "      <th></th>\n",
       "      <th>overall</th>\n",
       "      <th>vote</th>\n",
       "      <th>verified</th>\n",
       "      <th>reviewerID</th>\n",
       "      <th>asin</th>\n",
       "      <th>style</th>\n",
       "      <th>reviewerName</th>\n",
       "      <th>reviewText</th>\n",
       "      <th>summary</th>\n",
       "      <th>reviewTime</th>\n",
       "      <th>image</th>\n",
       "      <th>sentiment</th>\n",
       "    </tr>\n",
       "  </thead>\n",
       "  <tbody>\n",
       "    <tr>\n",
       "      <th>1828966</th>\n",
       "      <td>5.000</td>\n",
       "      <td>nan</td>\n",
       "      <td>True</td>\n",
       "      <td>A3RRY2TCWM3MWU</td>\n",
       "      <td>B01HJ4GZIU</td>\n",
       "      <td>NaN</td>\n",
       "      <td>ash</td>\n",
       "      <td>This was a huge hit. I had purchased this and ...</td>\n",
       "      <td>Huge hit</td>\n",
       "      <td>2018-01-19</td>\n",
       "      <td>NaN</td>\n",
       "      <td>POSITIVE</td>\n",
       "    </tr>\n",
       "    <tr>\n",
       "      <th>1828967</th>\n",
       "      <td>1.000</td>\n",
       "      <td>nan</td>\n",
       "      <td>True</td>\n",
       "      <td>A2ZRCFLXI8J39O</td>\n",
       "      <td>B01HJ4GZIU</td>\n",
       "      <td>NaN</td>\n",
       "      <td>Laura</td>\n",
       "      <td>Ours didn't work!  Only 3 worked out of the wh...</td>\n",
       "      <td>Don't buy!</td>\n",
       "      <td>2017-10-02</td>\n",
       "      <td>NaN</td>\n",
       "      <td>NEGATIVE</td>\n",
       "    </tr>\n",
       "    <tr>\n",
       "      <th>1828968</th>\n",
       "      <td>5.000</td>\n",
       "      <td>nan</td>\n",
       "      <td>True</td>\n",
       "      <td>A2IIP6L4PRAXVN</td>\n",
       "      <td>B01HJ8SCA0</td>\n",
       "      <td>NaN</td>\n",
       "      <td>JM</td>\n",
       "      <td>Simple plaything. Even my grandson cant break ...</td>\n",
       "      <td>Five Stars</td>\n",
       "      <td>2018-10-05</td>\n",
       "      <td>NaN</td>\n",
       "      <td>POSITIVE</td>\n",
       "    </tr>\n",
       "    <tr>\n",
       "      <th>1828969</th>\n",
       "      <td>5.000</td>\n",
       "      <td>nan</td>\n",
       "      <td>True</td>\n",
       "      <td>ACJH8FKNLSXIQ</td>\n",
       "      <td>B01HJDFWDK</td>\n",
       "      <td>{'Color:': ' 9.6v Battery pack'}</td>\n",
       "      <td>Steve Chen</td>\n",
       "      <td>These work well and are a nice change from the...</td>\n",
       "      <td>Good value</td>\n",
       "      <td>2018-08-12</td>\n",
       "      <td>NaN</td>\n",
       "      <td>POSITIVE</td>\n",
       "    </tr>\n",
       "    <tr>\n",
       "      <th>1828970</th>\n",
       "      <td>5.000</td>\n",
       "      <td>nan</td>\n",
       "      <td>True</td>\n",
       "      <td>A2KVWRRMFOYCW</td>\n",
       "      <td>B01HJDFWDK</td>\n",
       "      <td>{'Color:': ' 6v Battery pack'}</td>\n",
       "      <td>Rocco245</td>\n",
       "      <td>Great battery. Use it on a nitro engine.</td>\n",
       "      <td>Great</td>\n",
       "      <td>2018-07-09</td>\n",
       "      <td>NaN</td>\n",
       "      <td>POSITIVE</td>\n",
       "    </tr>\n",
       "  </tbody>\n",
       "</table>\n",
       "</div>"
      ],
      "text/plain": [
       "         overall  vote  verified      reviewerID        asin  \\\n",
       "1828966    5.000   nan      True  A3RRY2TCWM3MWU  B01HJ4GZIU   \n",
       "1828967    1.000   nan      True  A2ZRCFLXI8J39O  B01HJ4GZIU   \n",
       "1828968    5.000   nan      True  A2IIP6L4PRAXVN  B01HJ8SCA0   \n",
       "1828969    5.000   nan      True   ACJH8FKNLSXIQ  B01HJDFWDK   \n",
       "1828970    5.000   nan      True   A2KVWRRMFOYCW  B01HJDFWDK   \n",
       "\n",
       "                                    style reviewerName  \\\n",
       "1828966                               NaN          ash   \n",
       "1828967                               NaN        Laura   \n",
       "1828968                               NaN           JM   \n",
       "1828969  {'Color:': ' 9.6v Battery pack'}   Steve Chen   \n",
       "1828970    {'Color:': ' 6v Battery pack'}     Rocco245   \n",
       "\n",
       "                                                reviewText     summary  \\\n",
       "1828966  This was a huge hit. I had purchased this and ...    Huge hit   \n",
       "1828967  Ours didn't work!  Only 3 worked out of the wh...  Don't buy!   \n",
       "1828968  Simple plaything. Even my grandson cant break ...  Five Stars   \n",
       "1828969  These work well and are a nice change from the...  Good value   \n",
       "1828970           Great battery. Use it on a nitro engine.       Great   \n",
       "\n",
       "        reviewTime image sentiment  \n",
       "1828966 2018-01-19   NaN  POSITIVE  \n",
       "1828967 2017-10-02   NaN  NEGATIVE  \n",
       "1828968 2018-10-05   NaN  POSITIVE  \n",
       "1828969 2018-08-12   NaN  POSITIVE  \n",
       "1828970 2018-07-09   NaN  POSITIVE  "
      ]
     },
     "execution_count": 11,
     "metadata": {},
     "output_type": "execute_result"
    }
   ],
   "source": [
    "def getSentiment(overall):\n",
    "    sentiment = 'NEUTRAL'\n",
    "    if overall > 3:\n",
    "        sentiment = 'POSITIVE'\n",
    "    if overall < 3:\n",
    "        sentiment = 'NEGATIVE'\n",
    "    return sentiment\n",
    "\n",
    "df_amazon['sentiment'] = df_amazon['overall'].apply(getSentiment)\n",
    "\n",
    "df_amazon.tail()"
   ]
  },
  {
   "cell_type": "markdown",
   "metadata": {},
   "source": [
    "### split the data by sentiment\n",
    "Because we want the training set to contain evenly distributed sentiment data. Lets split it in two different dataframes."
   ]
  },
  {
   "cell_type": "code",
   "execution_count": 12,
   "metadata": {},
   "outputs": [
    {
     "data": {
      "text/html": [
       "<div>\n",
       "<style scoped>\n",
       "    .dataframe tbody tr th:only-of-type {\n",
       "        vertical-align: middle;\n",
       "    }\n",
       "\n",
       "    .dataframe tbody tr th {\n",
       "        vertical-align: top;\n",
       "    }\n",
       "\n",
       "    .dataframe thead th {\n",
       "        text-align: right;\n",
       "    }\n",
       "</style>\n",
       "<table border=\"1\" class=\"dataframe\">\n",
       "  <thead>\n",
       "    <tr style=\"text-align: right;\">\n",
       "      <th></th>\n",
       "      <th>reviewText</th>\n",
       "      <th>sentiment</th>\n",
       "    </tr>\n",
       "  </thead>\n",
       "  <tbody>\n",
       "    <tr>\n",
       "      <th>0</th>\n",
       "      <td>The stained glass pages are pretty cool. And i...</td>\n",
       "      <td>POSITIVE</td>\n",
       "    </tr>\n",
       "    <tr>\n",
       "      <th>1</th>\n",
       "      <td>My 11 y.o. loved this...and so do I (you know ...</td>\n",
       "      <td>POSITIVE</td>\n",
       "    </tr>\n",
       "    <tr>\n",
       "      <th>2</th>\n",
       "      <td>The pictures are great , I've done one and gav...</td>\n",
       "      <td>POSITIVE</td>\n",
       "    </tr>\n",
       "    <tr>\n",
       "      <th>3</th>\n",
       "      <td>I absolutely love this book! Its translucent p...</td>\n",
       "      <td>POSITIVE</td>\n",
       "    </tr>\n",
       "    <tr>\n",
       "      <th>4</th>\n",
       "      <td>I love it!</td>\n",
       "      <td>POSITIVE</td>\n",
       "    </tr>\n",
       "  </tbody>\n",
       "</table>\n",
       "</div>"
      ],
      "text/plain": [
       "                                          reviewText sentiment\n",
       "0  The stained glass pages are pretty cool. And i...  POSITIVE\n",
       "1  My 11 y.o. loved this...and so do I (you know ...  POSITIVE\n",
       "2  The pictures are great , I've done one and gav...  POSITIVE\n",
       "3  I absolutely love this book! Its translucent p...  POSITIVE\n",
       "4                                         I love it!  POSITIVE"
      ]
     },
     "metadata": {},
     "output_type": "display_data"
    },
    {
     "name": "stdout",
     "output_type": "stream",
     "text": [
      "(1576761, 2)\n"
     ]
    },
    {
     "data": {
      "text/html": [
       "<div>\n",
       "<style scoped>\n",
       "    .dataframe tbody tr th:only-of-type {\n",
       "        vertical-align: middle;\n",
       "    }\n",
       "\n",
       "    .dataframe tbody tr th {\n",
       "        vertical-align: top;\n",
       "    }\n",
       "\n",
       "    .dataframe thead th {\n",
       "        text-align: right;\n",
       "    }\n",
       "</style>\n",
       "<table border=\"1\" class=\"dataframe\">\n",
       "  <thead>\n",
       "    <tr style=\"text-align: right;\">\n",
       "      <th></th>\n",
       "      <th>reviewText</th>\n",
       "      <th>sentiment</th>\n",
       "    </tr>\n",
       "  </thead>\n",
       "  <tbody>\n",
       "    <tr>\n",
       "      <th>11</th>\n",
       "      <td>This is indeed a small book. This particular R...</td>\n",
       "      <td>NEGATIVE</td>\n",
       "    </tr>\n",
       "    <tr>\n",
       "      <th>13</th>\n",
       "      <td>total waste of money. the stickers do not stic...</td>\n",
       "      <td>NEGATIVE</td>\n",
       "    </tr>\n",
       "    <tr>\n",
       "      <th>20</th>\n",
       "      <td>They were ok but not really considered it a bo...</td>\n",
       "      <td>NEGATIVE</td>\n",
       "    </tr>\n",
       "    <tr>\n",
       "      <th>29</th>\n",
       "      <td>The book is only 4 pages and it's about the si...</td>\n",
       "      <td>NEGATIVE</td>\n",
       "    </tr>\n",
       "    <tr>\n",
       "      <th>38</th>\n",
       "      <td>Not sure why there are so many rave reviews fo...</td>\n",
       "      <td>NEGATIVE</td>\n",
       "    </tr>\n",
       "  </tbody>\n",
       "</table>\n",
       "</div>"
      ],
      "text/plain": [
       "                                           reviewText sentiment\n",
       "11  This is indeed a small book. This particular R...  NEGATIVE\n",
       "13  total waste of money. the stickers do not stic...  NEGATIVE\n",
       "20  They were ok but not really considered it a bo...  NEGATIVE\n",
       "29  The book is only 4 pages and it's about the si...  NEGATIVE\n",
       "38  Not sure why there are so many rave reviews fo...  NEGATIVE"
      ]
     },
     "metadata": {},
     "output_type": "display_data"
    },
    {
     "name": "stdout",
     "output_type": "stream",
     "text": [
      "(121693, 2)\n"
     ]
    }
   ],
   "source": [
    "#get positive\n",
    "df_amazon_pos = df_amazon[df_amazon['sentiment'] == 'POSITIVE']\n",
    "#get text data and sentiment\n",
    "df_amazon_pos = df_amazon_pos.filter(['reviewText', 'sentiment'], axis=1)\n",
    "#show data\n",
    "display(df_amazon_pos.head())\n",
    "print(df_amazon_pos.shape)\n",
    "\n",
    "#get positive\n",
    "df_amazon_neg = df_amazon[df_amazon['sentiment'] == 'NEGATIVE']\n",
    "#get text data\n",
    "df_amazon_neg = df_amazon_neg.filter(['reviewText', 'sentiment'], axis=1)\n",
    "#show data\n",
    "display(df_amazon_neg.head())\n",
    "print(df_amazon_neg.shape)"
   ]
  },
  {
   "cell_type": "code",
   "execution_count": 13,
   "metadata": {},
   "outputs": [
    {
     "data": {
      "image/png": "[encoded data removed]",
      "text/plain": [
       "<Figure size 432x288 with 1 Axes>"
      ]
     },
     "metadata": {},
     "output_type": "display_data"
    }
   ],
   "source": [
    "labels = ['POSITIVE', 'NEGATIVE']\n",
    "sizes = [len(df_amazon_pos), len(df_amazon_neg)]\n",
    "\n",
    "plt.pie(sizes, labels=labels, autopct='%1.1f%%', startangle=90)\n",
    "plt.axis('equal') \n",
    "plt.title(\"Distribution\")\n",
    "plt.show()"
   ]
  },
  {
   "cell_type": "markdown",
   "metadata": {},
   "source": [
    "As you can see, there are many more `POSITIVE` than `NEGATIVE`.  "
   ]
  },
  {
   "cell_type": "markdown",
   "metadata": {},
   "source": [
    "Now combine them "
   ]
  },
  {
   "cell_type": "code",
   "execution_count": 14,
   "metadata": {},
   "outputs": [
    {
     "data": {
      "text/html": [
       "<div>\n",
       "<style scoped>\n",
       "    .dataframe tbody tr th:only-of-type {\n",
       "        vertical-align: middle;\n",
       "    }\n",
       "\n",
       "    .dataframe tbody tr th {\n",
       "        vertical-align: top;\n",
       "    }\n",
       "\n",
       "    .dataframe thead th {\n",
       "        text-align: right;\n",
       "    }\n",
       "</style>\n",
       "<table border=\"1\" class=\"dataframe\">\n",
       "  <thead>\n",
       "    <tr style=\"text-align: right;\">\n",
       "      <th></th>\n",
       "      <th>reviewText</th>\n",
       "      <th>sentiment</th>\n",
       "    </tr>\n",
       "  </thead>\n",
       "  <tbody>\n",
       "    <tr>\n",
       "      <th>0</th>\n",
       "      <td>Awesome - got each of my grandkids one!</td>\n",
       "      <td>POSITIVE</td>\n",
       "    </tr>\n",
       "    <tr>\n",
       "      <th>1</th>\n",
       "      <td>Was given as a gift and they loved it.</td>\n",
       "      <td>POSITIVE</td>\n",
       "    </tr>\n",
       "    <tr>\n",
       "      <th>2</th>\n",
       "      <td>The grandson loves to get spoiled with this pl...</td>\n",
       "      <td>POSITIVE</td>\n",
       "    </tr>\n",
       "    <tr>\n",
       "      <th>3</th>\n",
       "      <td>Keeps you on your toes. constantly changing so...</td>\n",
       "      <td>POSITIVE</td>\n",
       "    </tr>\n",
       "    <tr>\n",
       "      <th>4</th>\n",
       "      <td>I bought Roller Maze Frankie as a collector, b...</td>\n",
       "      <td>POSITIVE</td>\n",
       "    </tr>\n",
       "  </tbody>\n",
       "</table>\n",
       "</div>"
      ],
      "text/plain": [
       "                                          reviewText sentiment\n",
       "0            Awesome - got each of my grandkids one!  POSITIVE\n",
       "1             Was given as a gift and they loved it.  POSITIVE\n",
       "2  The grandson loves to get spoiled with this pl...  POSITIVE\n",
       "3  Keeps you on your toes. constantly changing so...  POSITIVE\n",
       "4  I bought Roller Maze Frankie as a collector, b...  POSITIVE"
      ]
     },
     "metadata": {},
     "output_type": "display_data"
    },
    {
     "data": {
      "text/plain": [
       "(1698454, 2)"
      ]
     },
     "execution_count": 14,
     "metadata": {},
     "output_type": "execute_result"
    }
   ],
   "source": [
    "#combine\n",
    "df_amazon_combined = pd.concat([df_amazon_pos, df_amazon_neg])\n",
    "#shuffle\n",
    "df_amazon_combined = df_amazon_combined.sample(frac=1, random_state=42)\n",
    "#drop index\n",
    "df_amazon_combined = df_amazon_combined.reset_index(drop=True)\n",
    "#print head\n",
    "display(df_amazon_combined.head())\n",
    "df_amazon_combined.shape"
   ]
  },
  {
   "cell_type": "markdown",
   "metadata": {},
   "source": [
    "This dataframe now ready for the next step! "
   ]
  },
  {
   "cell_type": "markdown",
   "metadata": {},
   "source": [
    "## Hotel"
   ]
  },
  {
   "cell_type": "code",
   "execution_count": 15,
   "metadata": {},
   "outputs": [
    {
     "data": {
      "text/html": [
       "<div>\n",
       "<style scoped>\n",
       "    .dataframe tbody tr th:only-of-type {\n",
       "        vertical-align: middle;\n",
       "    }\n",
       "\n",
       "    .dataframe tbody tr th {\n",
       "        vertical-align: top;\n",
       "    }\n",
       "\n",
       "    .dataframe thead th {\n",
       "        text-align: right;\n",
       "    }\n",
       "</style>\n",
       "<table border=\"1\" class=\"dataframe\">\n",
       "  <thead>\n",
       "    <tr style=\"text-align: right;\">\n",
       "      <th></th>\n",
       "      <th>Hotel_Address</th>\n",
       "      <th>Additional_Number_of_Scoring</th>\n",
       "      <th>Review_Date</th>\n",
       "      <th>Average_Score</th>\n",
       "      <th>Hotel_Name</th>\n",
       "      <th>Reviewer_Nationality</th>\n",
       "      <th>Negative_Review</th>\n",
       "      <th>Review_Total_Negative_Word_Counts</th>\n",
       "      <th>Total_Number_of_Reviews</th>\n",
       "      <th>Positive_Review</th>\n",
       "      <th>Review_Total_Positive_Word_Counts</th>\n",
       "      <th>Total_Number_of_Reviews_Reviewer_Has_Given</th>\n",
       "      <th>Reviewer_Score</th>\n",
       "      <th>Tags</th>\n",
       "      <th>days_since_review</th>\n",
       "      <th>lat</th>\n",
       "      <th>lng</th>\n",
       "    </tr>\n",
       "  </thead>\n",
       "  <tbody>\n",
       "    <tr>\n",
       "      <th>0</th>\n",
       "      <td>s Gravesandestraat 55 Oost 1092 AA Amsterdam ...</td>\n",
       "      <td>194</td>\n",
       "      <td>8/3/2017</td>\n",
       "      <td>7.700</td>\n",
       "      <td>Hotel Arena</td>\n",
       "      <td>Russia</td>\n",
       "      <td>I am so angry that i made this post available...</td>\n",
       "      <td>397</td>\n",
       "      <td>1403</td>\n",
       "      <td>Only the park outside of the hotel was beauti...</td>\n",
       "      <td>11</td>\n",
       "      <td>7</td>\n",
       "      <td>2.900</td>\n",
       "      <td>[' Leisure trip ', ' Couple ', ' Duplex Double...</td>\n",
       "      <td>0 days</td>\n",
       "      <td>52.361</td>\n",
       "      <td>4.916</td>\n",
       "    </tr>\n",
       "    <tr>\n",
       "      <th>1</th>\n",
       "      <td>s Gravesandestraat 55 Oost 1092 AA Amsterdam ...</td>\n",
       "      <td>194</td>\n",
       "      <td>8/3/2017</td>\n",
       "      <td>7.700</td>\n",
       "      <td>Hotel Arena</td>\n",
       "      <td>Ireland</td>\n",
       "      <td>No Negative</td>\n",
       "      <td>0</td>\n",
       "      <td>1403</td>\n",
       "      <td>No real complaints the hotel was great great ...</td>\n",
       "      <td>105</td>\n",
       "      <td>7</td>\n",
       "      <td>7.500</td>\n",
       "      <td>[' Leisure trip ', ' Couple ', ' Duplex Double...</td>\n",
       "      <td>0 days</td>\n",
       "      <td>52.361</td>\n",
       "      <td>4.916</td>\n",
       "    </tr>\n",
       "    <tr>\n",
       "      <th>2</th>\n",
       "      <td>s Gravesandestraat 55 Oost 1092 AA Amsterdam ...</td>\n",
       "      <td>194</td>\n",
       "      <td>7/31/2017</td>\n",
       "      <td>7.700</td>\n",
       "      <td>Hotel Arena</td>\n",
       "      <td>Australia</td>\n",
       "      <td>Rooms are nice but for elderly a bit difficul...</td>\n",
       "      <td>42</td>\n",
       "      <td>1403</td>\n",
       "      <td>Location was good and staff were ok It is cut...</td>\n",
       "      <td>21</td>\n",
       "      <td>9</td>\n",
       "      <td>7.100</td>\n",
       "      <td>[' Leisure trip ', ' Family with young childre...</td>\n",
       "      <td>3 days</td>\n",
       "      <td>52.361</td>\n",
       "      <td>4.916</td>\n",
       "    </tr>\n",
       "    <tr>\n",
       "      <th>3</th>\n",
       "      <td>s Gravesandestraat 55 Oost 1092 AA Amsterdam ...</td>\n",
       "      <td>194</td>\n",
       "      <td>7/31/2017</td>\n",
       "      <td>7.700</td>\n",
       "      <td>Hotel Arena</td>\n",
       "      <td>United Kingdom</td>\n",
       "      <td>My room was dirty and I was afraid to walk ba...</td>\n",
       "      <td>210</td>\n",
       "      <td>1403</td>\n",
       "      <td>Great location in nice surroundings the bar a...</td>\n",
       "      <td>26</td>\n",
       "      <td>1</td>\n",
       "      <td>3.800</td>\n",
       "      <td>[' Leisure trip ', ' Solo traveler ', ' Duplex...</td>\n",
       "      <td>3 days</td>\n",
       "      <td>52.361</td>\n",
       "      <td>4.916</td>\n",
       "    </tr>\n",
       "    <tr>\n",
       "      <th>4</th>\n",
       "      <td>s Gravesandestraat 55 Oost 1092 AA Amsterdam ...</td>\n",
       "      <td>194</td>\n",
       "      <td>7/24/2017</td>\n",
       "      <td>7.700</td>\n",
       "      <td>Hotel Arena</td>\n",
       "      <td>New Zealand</td>\n",
       "      <td>You When I booked with your company on line y...</td>\n",
       "      <td>140</td>\n",
       "      <td>1403</td>\n",
       "      <td>Amazing location and building Romantic setting</td>\n",
       "      <td>8</td>\n",
       "      <td>3</td>\n",
       "      <td>6.700</td>\n",
       "      <td>[' Leisure trip ', ' Couple ', ' Suite ', ' St...</td>\n",
       "      <td>10 days</td>\n",
       "      <td>52.361</td>\n",
       "      <td>4.916</td>\n",
       "    </tr>\n",
       "  </tbody>\n",
       "</table>\n",
       "</div>"
      ],
      "text/plain": [
       "                                       Hotel_Address  \\\n",
       "0   s Gravesandestraat 55 Oost 1092 AA Amsterdam ...   \n",
       "1   s Gravesandestraat 55 Oost 1092 AA Amsterdam ...   \n",
       "2   s Gravesandestraat 55 Oost 1092 AA Amsterdam ...   \n",
       "3   s Gravesandestraat 55 Oost 1092 AA Amsterdam ...   \n",
       "4   s Gravesandestraat 55 Oost 1092 AA Amsterdam ...   \n",
       "\n",
       "   Additional_Number_of_Scoring Review_Date  Average_Score   Hotel_Name  \\\n",
       "0                           194    8/3/2017          7.700  Hotel Arena   \n",
       "1                           194    8/3/2017          7.700  Hotel Arena   \n",
       "2                           194   7/31/2017          7.700  Hotel Arena   \n",
       "3                           194   7/31/2017          7.700  Hotel Arena   \n",
       "4                           194   7/24/2017          7.700  Hotel Arena   \n",
       "\n",
       "  Reviewer_Nationality                                    Negative_Review  \\\n",
       "0              Russia    I am so angry that i made this post available...   \n",
       "1             Ireland                                         No Negative   \n",
       "2           Australia    Rooms are nice but for elderly a bit difficul...   \n",
       "3      United Kingdom    My room was dirty and I was afraid to walk ba...   \n",
       "4         New Zealand    You When I booked with your company on line y...   \n",
       "\n",
       "   Review_Total_Negative_Word_Counts  Total_Number_of_Reviews  \\\n",
       "0                                397                     1403   \n",
       "1                                  0                     1403   \n",
       "2                                 42                     1403   \n",
       "3                                210                     1403   \n",
       "4                                140                     1403   \n",
       "\n",
       "                                     Positive_Review  \\\n",
       "0   Only the park outside of the hotel was beauti...   \n",
       "1   No real complaints the hotel was great great ...   \n",
       "2   Location was good and staff were ok It is cut...   \n",
       "3   Great location in nice surroundings the bar a...   \n",
       "4    Amazing location and building Romantic setting    \n",
       "\n",
       "   Review_Total_Positive_Word_Counts  \\\n",
       "0                                 11   \n",
       "1                                105   \n",
       "2                                 21   \n",
       "3                                 26   \n",
       "4                                  8   \n",
       "\n",
       "   Total_Number_of_Reviews_Reviewer_Has_Given  Reviewer_Score  \\\n",
       "0                                           7           2.900   \n",
       "1                                           7           7.500   \n",
       "2                                           9           7.100   \n",
       "3                                           1           3.800   \n",
       "4                                           3           6.700   \n",
       "\n",
       "                                                Tags days_since_review    lat  \\\n",
       "0  [' Leisure trip ', ' Couple ', ' Duplex Double...            0 days 52.361   \n",
       "1  [' Leisure trip ', ' Couple ', ' Duplex Double...            0 days 52.361   \n",
       "2  [' Leisure trip ', ' Family with young childre...            3 days 52.361   \n",
       "3  [' Leisure trip ', ' Solo traveler ', ' Duplex...            3 days 52.361   \n",
       "4  [' Leisure trip ', ' Couple ', ' Suite ', ' St...           10 days 52.361   \n",
       "\n",
       "    lng  \n",
       "0 4.916  \n",
       "1 4.916  \n",
       "2 4.916  \n",
       "3 4.916  \n",
       "4 4.916  "
      ]
     },
     "execution_count": 15,
     "metadata": {},
     "output_type": "execute_result"
    }
   ],
   "source": [
    "df_hotel.head()"
   ]
  },
  {
   "cell_type": "code",
   "execution_count": 16,
   "metadata": {},
   "outputs": [
    {
     "name": "stdout",
     "output_type": "stream",
     "text": [
      "<class 'pandas.core.frame.DataFrame'>\n",
      "RangeIndex: 515738 entries, 0 to 515737\n",
      "Data columns (total 17 columns):\n",
      " #   Column                                      Non-Null Count   Dtype  \n",
      "---  ------                                      --------------   -----  \n",
      " 0   Hotel_Address                               515738 non-null  object \n",
      " 1   Additional_Number_of_Scoring                515738 non-null  int64  \n",
      " 2   Review_Date                                 515738 non-null  object \n",
      " 3   Average_Score                               515738 non-null  float64\n",
      " 4   Hotel_Name                                  515738 non-null  object \n",
      " 5   Reviewer_Nationality                        515738 non-null  object \n",
      " 6   Negative_Review                             515738 non-null  object \n",
      " 7   Review_Total_Negative_Word_Counts           515738 non-null  int64  \n",
      " 8   Total_Number_of_Reviews                     515738 non-null  int64  \n",
      " 9   Positive_Review                             515738 non-null  object \n",
      " 10  Review_Total_Positive_Word_Counts           515738 non-null  int64  \n",
      " 11  Total_Number_of_Reviews_Reviewer_Has_Given  515738 non-null  int64  \n",
      " 12  Reviewer_Score                              515738 non-null  float64\n",
      " 13  Tags                                        515738 non-null  object \n",
      " 14  days_since_review                           515738 non-null  object \n",
      " 15  lat                                         512470 non-null  float64\n",
      " 16  lng                                         512470 non-null  float64\n",
      "dtypes: float64(4), int64(5), object(8)\n",
      "memory usage: 66.9+ MB\n"
     ]
    }
   ],
   "source": [
    "df_hotel.info()"
   ]
  },
  {
   "cell_type": "code",
   "execution_count": 17,
   "metadata": {},
   "outputs": [
    {
     "data": {
      "text/html": [
       "<div>\n",
       "<style scoped>\n",
       "    .dataframe tbody tr th:only-of-type {\n",
       "        vertical-align: middle;\n",
       "    }\n",
       "\n",
       "    .dataframe tbody tr th {\n",
       "        vertical-align: top;\n",
       "    }\n",
       "\n",
       "    .dataframe thead th {\n",
       "        text-align: right;\n",
       "    }\n",
       "</style>\n",
       "<table border=\"1\" class=\"dataframe\">\n",
       "  <thead>\n",
       "    <tr style=\"text-align: right;\">\n",
       "      <th></th>\n",
       "      <th>Hotel_Address</th>\n",
       "      <th>Additional_Number_of_Scoring</th>\n",
       "      <th>Review_Date</th>\n",
       "      <th>Average_Score</th>\n",
       "      <th>Hotel_Name</th>\n",
       "      <th>Reviewer_Nationality</th>\n",
       "      <th>Negative_Review</th>\n",
       "      <th>Review_Total_Negative_Word_Counts</th>\n",
       "      <th>Total_Number_of_Reviews</th>\n",
       "      <th>Positive_Review</th>\n",
       "      <th>Review_Total_Positive_Word_Counts</th>\n",
       "      <th>Total_Number_of_Reviews_Reviewer_Has_Given</th>\n",
       "      <th>Reviewer_Score</th>\n",
       "      <th>Tags</th>\n",
       "      <th>days_since_review</th>\n",
       "      <th>lat</th>\n",
       "      <th>lng</th>\n",
       "    </tr>\n",
       "  </thead>\n",
       "  <tbody>\n",
       "    <tr>\n",
       "      <th>count</th>\n",
       "      <td>515738</td>\n",
       "      <td>515738.000</td>\n",
       "      <td>515738</td>\n",
       "      <td>515738.000</td>\n",
       "      <td>515738</td>\n",
       "      <td>515738</td>\n",
       "      <td>515738</td>\n",
       "      <td>515738.000</td>\n",
       "      <td>515738.000</td>\n",
       "      <td>515738</td>\n",
       "      <td>515738.000</td>\n",
       "      <td>515738.000</td>\n",
       "      <td>515738.000</td>\n",
       "      <td>515738</td>\n",
       "      <td>515738</td>\n",
       "      <td>512470.000</td>\n",
       "      <td>512470.000</td>\n",
       "    </tr>\n",
       "    <tr>\n",
       "      <th>unique</th>\n",
       "      <td>1493</td>\n",
       "      <td>nan</td>\n",
       "      <td>731</td>\n",
       "      <td>nan</td>\n",
       "      <td>1492</td>\n",
       "      <td>227</td>\n",
       "      <td>330011</td>\n",
       "      <td>nan</td>\n",
       "      <td>nan</td>\n",
       "      <td>412601</td>\n",
       "      <td>nan</td>\n",
       "      <td>nan</td>\n",
       "      <td>nan</td>\n",
       "      <td>55242</td>\n",
       "      <td>731</td>\n",
       "      <td>nan</td>\n",
       "      <td>nan</td>\n",
       "    </tr>\n",
       "    <tr>\n",
       "      <th>top</th>\n",
       "      <td>163 Marsh Wall Docklands Tower Hamlets London ...</td>\n",
       "      <td>nan</td>\n",
       "      <td>8/2/2017</td>\n",
       "      <td>nan</td>\n",
       "      <td>Britannia International Hotel Canary Wharf</td>\n",
       "      <td>United Kingdom</td>\n",
       "      <td>No Negative</td>\n",
       "      <td>nan</td>\n",
       "      <td>nan</td>\n",
       "      <td>No Positive</td>\n",
       "      <td>nan</td>\n",
       "      <td>nan</td>\n",
       "      <td>nan</td>\n",
       "      <td>[' Leisure trip ', ' Couple ', ' Double Room '...</td>\n",
       "      <td>1 days</td>\n",
       "      <td>nan</td>\n",
       "      <td>nan</td>\n",
       "    </tr>\n",
       "    <tr>\n",
       "      <th>freq</th>\n",
       "      <td>4789</td>\n",
       "      <td>nan</td>\n",
       "      <td>2585</td>\n",
       "      <td>nan</td>\n",
       "      <td>4789</td>\n",
       "      <td>245246</td>\n",
       "      <td>127890</td>\n",
       "      <td>nan</td>\n",
       "      <td>nan</td>\n",
       "      <td>35946</td>\n",
       "      <td>nan</td>\n",
       "      <td>nan</td>\n",
       "      <td>nan</td>\n",
       "      <td>5101</td>\n",
       "      <td>2585</td>\n",
       "      <td>nan</td>\n",
       "      <td>nan</td>\n",
       "    </tr>\n",
       "    <tr>\n",
       "      <th>mean</th>\n",
       "      <td>NaN</td>\n",
       "      <td>498.082</td>\n",
       "      <td>NaN</td>\n",
       "      <td>8.397</td>\n",
       "      <td>NaN</td>\n",
       "      <td>NaN</td>\n",
       "      <td>NaN</td>\n",
       "      <td>18.539</td>\n",
       "      <td>2743.744</td>\n",
       "      <td>NaN</td>\n",
       "      <td>17.776</td>\n",
       "      <td>7.166</td>\n",
       "      <td>8.395</td>\n",
       "      <td>NaN</td>\n",
       "      <td>NaN</td>\n",
       "      <td>49.442</td>\n",
       "      <td>2.824</td>\n",
       "    </tr>\n",
       "    <tr>\n",
       "      <th>std</th>\n",
       "      <td>NaN</td>\n",
       "      <td>500.538</td>\n",
       "      <td>NaN</td>\n",
       "      <td>0.548</td>\n",
       "      <td>NaN</td>\n",
       "      <td>NaN</td>\n",
       "      <td>NaN</td>\n",
       "      <td>29.691</td>\n",
       "      <td>2317.465</td>\n",
       "      <td>NaN</td>\n",
       "      <td>21.804</td>\n",
       "      <td>11.040</td>\n",
       "      <td>1.638</td>\n",
       "      <td>NaN</td>\n",
       "      <td>NaN</td>\n",
       "      <td>3.466</td>\n",
       "      <td>4.579</td>\n",
       "    </tr>\n",
       "    <tr>\n",
       "      <th>min</th>\n",
       "      <td>NaN</td>\n",
       "      <td>1.000</td>\n",
       "      <td>NaN</td>\n",
       "      <td>5.200</td>\n",
       "      <td>NaN</td>\n",
       "      <td>NaN</td>\n",
       "      <td>NaN</td>\n",
       "      <td>0.000</td>\n",
       "      <td>43.000</td>\n",
       "      <td>NaN</td>\n",
       "      <td>0.000</td>\n",
       "      <td>1.000</td>\n",
       "      <td>2.500</td>\n",
       "      <td>NaN</td>\n",
       "      <td>NaN</td>\n",
       "      <td>41.328</td>\n",
       "      <td>-0.370</td>\n",
       "    </tr>\n",
       "    <tr>\n",
       "      <th>25%</th>\n",
       "      <td>NaN</td>\n",
       "      <td>169.000</td>\n",
       "      <td>NaN</td>\n",
       "      <td>8.100</td>\n",
       "      <td>NaN</td>\n",
       "      <td>NaN</td>\n",
       "      <td>NaN</td>\n",
       "      <td>2.000</td>\n",
       "      <td>1161.000</td>\n",
       "      <td>NaN</td>\n",
       "      <td>5.000</td>\n",
       "      <td>1.000</td>\n",
       "      <td>7.500</td>\n",
       "      <td>NaN</td>\n",
       "      <td>NaN</td>\n",
       "      <td>48.215</td>\n",
       "      <td>-0.143</td>\n",
       "    </tr>\n",
       "    <tr>\n",
       "      <th>50%</th>\n",
       "      <td>NaN</td>\n",
       "      <td>341.000</td>\n",
       "      <td>NaN</td>\n",
       "      <td>8.400</td>\n",
       "      <td>NaN</td>\n",
       "      <td>NaN</td>\n",
       "      <td>NaN</td>\n",
       "      <td>9.000</td>\n",
       "      <td>2134.000</td>\n",
       "      <td>NaN</td>\n",
       "      <td>11.000</td>\n",
       "      <td>3.000</td>\n",
       "      <td>8.800</td>\n",
       "      <td>NaN</td>\n",
       "      <td>NaN</td>\n",
       "      <td>51.500</td>\n",
       "      <td>0.011</td>\n",
       "    </tr>\n",
       "    <tr>\n",
       "      <th>75%</th>\n",
       "      <td>NaN</td>\n",
       "      <td>660.000</td>\n",
       "      <td>NaN</td>\n",
       "      <td>8.800</td>\n",
       "      <td>NaN</td>\n",
       "      <td>NaN</td>\n",
       "      <td>NaN</td>\n",
       "      <td>23.000</td>\n",
       "      <td>3613.000</td>\n",
       "      <td>NaN</td>\n",
       "      <td>22.000</td>\n",
       "      <td>8.000</td>\n",
       "      <td>9.600</td>\n",
       "      <td>NaN</td>\n",
       "      <td>NaN</td>\n",
       "      <td>51.516</td>\n",
       "      <td>4.834</td>\n",
       "    </tr>\n",
       "    <tr>\n",
       "      <th>max</th>\n",
       "      <td>NaN</td>\n",
       "      <td>2682.000</td>\n",
       "      <td>NaN</td>\n",
       "      <td>9.800</td>\n",
       "      <td>NaN</td>\n",
       "      <td>NaN</td>\n",
       "      <td>NaN</td>\n",
       "      <td>408.000</td>\n",
       "      <td>16670.000</td>\n",
       "      <td>NaN</td>\n",
       "      <td>395.000</td>\n",
       "      <td>355.000</td>\n",
       "      <td>10.000</td>\n",
       "      <td>NaN</td>\n",
       "      <td>NaN</td>\n",
       "      <td>52.400</td>\n",
       "      <td>16.429</td>\n",
       "    </tr>\n",
       "  </tbody>\n",
       "</table>\n",
       "</div>"
      ],
      "text/plain": [
       "                                            Hotel_Address  \\\n",
       "count                                              515738   \n",
       "unique                                               1493   \n",
       "top     163 Marsh Wall Docklands Tower Hamlets London ...   \n",
       "freq                                                 4789   \n",
       "mean                                                  NaN   \n",
       "std                                                   NaN   \n",
       "min                                                   NaN   \n",
       "25%                                                   NaN   \n",
       "50%                                                   NaN   \n",
       "75%                                                   NaN   \n",
       "max                                                   NaN   \n",
       "\n",
       "        Additional_Number_of_Scoring Review_Date  Average_Score  \\\n",
       "count                     515738.000      515738     515738.000   \n",
       "unique                           nan         731            nan   \n",
       "top                              nan    8/2/2017            nan   \n",
       "freq                             nan        2585            nan   \n",
       "mean                         498.082         NaN          8.397   \n",
       "std                          500.538         NaN          0.548   \n",
       "min                            1.000         NaN          5.200   \n",
       "25%                          169.000         NaN          8.100   \n",
       "50%                          341.000         NaN          8.400   \n",
       "75%                          660.000         NaN          8.800   \n",
       "max                         2682.000         NaN          9.800   \n",
       "\n",
       "                                        Hotel_Name Reviewer_Nationality  \\\n",
       "count                                       515738               515738   \n",
       "unique                                        1492                  227   \n",
       "top     Britannia International Hotel Canary Wharf      United Kingdom    \n",
       "freq                                          4789               245246   \n",
       "mean                                           NaN                  NaN   \n",
       "std                                            NaN                  NaN   \n",
       "min                                            NaN                  NaN   \n",
       "25%                                            NaN                  NaN   \n",
       "50%                                            NaN                  NaN   \n",
       "75%                                            NaN                  NaN   \n",
       "max                                            NaN                  NaN   \n",
       "\n",
       "       Negative_Review  Review_Total_Negative_Word_Counts  \\\n",
       "count           515738                         515738.000   \n",
       "unique          330011                                nan   \n",
       "top        No Negative                                nan   \n",
       "freq            127890                                nan   \n",
       "mean               NaN                             18.539   \n",
       "std                NaN                             29.691   \n",
       "min                NaN                              0.000   \n",
       "25%                NaN                              2.000   \n",
       "50%                NaN                              9.000   \n",
       "75%                NaN                             23.000   \n",
       "max                NaN                            408.000   \n",
       "\n",
       "        Total_Number_of_Reviews Positive_Review  \\\n",
       "count                515738.000          515738   \n",
       "unique                      nan          412601   \n",
       "top                         nan     No Positive   \n",
       "freq                        nan           35946   \n",
       "mean                   2743.744             NaN   \n",
       "std                    2317.465             NaN   \n",
       "min                      43.000             NaN   \n",
       "25%                    1161.000             NaN   \n",
       "50%                    2134.000             NaN   \n",
       "75%                    3613.000             NaN   \n",
       "max                   16670.000             NaN   \n",
       "\n",
       "        Review_Total_Positive_Word_Counts  \\\n",
       "count                          515738.000   \n",
       "unique                                nan   \n",
       "top                                   nan   \n",
       "freq                                  nan   \n",
       "mean                               17.776   \n",
       "std                                21.804   \n",
       "min                                 0.000   \n",
       "25%                                 5.000   \n",
       "50%                                11.000   \n",
       "75%                                22.000   \n",
       "max                               395.000   \n",
       "\n",
       "        Total_Number_of_Reviews_Reviewer_Has_Given  Reviewer_Score  \\\n",
       "count                                   515738.000      515738.000   \n",
       "unique                                         nan             nan   \n",
       "top                                            nan             nan   \n",
       "freq                                           nan             nan   \n",
       "mean                                         7.166           8.395   \n",
       "std                                         11.040           1.638   \n",
       "min                                          1.000           2.500   \n",
       "25%                                          1.000           7.500   \n",
       "50%                                          3.000           8.800   \n",
       "75%                                          8.000           9.600   \n",
       "max                                        355.000          10.000   \n",
       "\n",
       "                                                     Tags days_since_review  \\\n",
       "count                                              515738            515738   \n",
       "unique                                              55242               731   \n",
       "top     [' Leisure trip ', ' Couple ', ' Double Room '...            1 days   \n",
       "freq                                                 5101              2585   \n",
       "mean                                                  NaN               NaN   \n",
       "std                                                   NaN               NaN   \n",
       "min                                                   NaN               NaN   \n",
       "25%                                                   NaN               NaN   \n",
       "50%                                                   NaN               NaN   \n",
       "75%                                                   NaN               NaN   \n",
       "max                                                   NaN               NaN   \n",
       "\n",
       "              lat        lng  \n",
       "count  512470.000 512470.000  \n",
       "unique        nan        nan  \n",
       "top           nan        nan  \n",
       "freq          nan        nan  \n",
       "mean       49.442      2.824  \n",
       "std         3.466      4.579  \n",
       "min        41.328     -0.370  \n",
       "25%        48.215     -0.143  \n",
       "50%        51.500      0.011  \n",
       "75%        51.516      4.834  \n",
       "max        52.400     16.429  "
      ]
     },
     "execution_count": 17,
     "metadata": {},
     "output_type": "execute_result"
    }
   ],
   "source": [
    "df_hotel.describe(include='all')"
   ]
  },
  {
   "cell_type": "code",
   "execution_count": 18,
   "metadata": {},
   "outputs": [
    {
     "data": {
      "text/plain": [
       "(515738, 17)"
      ]
     },
     "execution_count": 18,
     "metadata": {},
     "output_type": "execute_result"
    }
   ],
   "source": [
    "df_hotel.shape"
   ]
  },
  {
   "cell_type": "markdown",
   "metadata": {},
   "source": [
    "## Data cleaning \n",
    "I found out that the word count provided by the dataframe is not correct.\n",
    "  "
   ]
  },
  {
   "cell_type": "code",
   "execution_count": 19,
   "metadata": {},
   "outputs": [
    {
     "name": "stdout",
     "output_type": "stream",
     "text": [
      "pos sentence:   Good restaurant with modern design great chill out place Great park nearby the hotel and awesome main stairs \n",
      "dataframe word count :  20\n",
      "calculated word count:  18\n",
      "neg sentence:   Backyard of the hotel is total mess shouldn t happen in hotel with 4 stars \n",
      "dataframe word count :  17\n",
      "calculated word count:  15\n"
     ]
    }
   ],
   "source": [
    "#positive\n",
    "print(\"pos sentence: \", df_hotel['Positive_Review'][5])\n",
    "print(\"dataframe word count : \", df_hotel['Review_Total_Positive_Word_Counts'][5])\n",
    "print(\"calculated word count: \", len(df_hotel['Positive_Review'][5].split()))\n",
    "\n",
    "#negative\n",
    "print(\"neg sentence: \", df_hotel['Negative_Review'][5])\n",
    "print(\"dataframe word count : \", df_hotel['Review_Total_Negative_Word_Counts'][5])\n",
    "print(\"calculated word count: \", len(df_hotel['Negative_Review'][5].split()))"
   ]
  },
  {
   "cell_type": "markdown",
   "metadata": {},
   "source": [
    "So I created a function that overrides the wordcount "
   ]
  },
  {
   "cell_type": "code",
   "execution_count": 20,
   "metadata": {},
   "outputs": [],
   "source": [
    "def fixWordCount():\n",
    "    df_hotel['Review_Total_Positive_Word_Counts'] = df_hotel['Positive_Review'].str.split().apply(len)\n",
    "    df_hotel['Review_Total_Negative_Word_Counts'] = df_hotel['Negative_Review'].str.split().apply(len)\n",
    "\n",
    "fixWordCount()"
   ]
  },
  {
   "cell_type": "markdown",
   "metadata": {},
   "source": [
    "In each row there is a field for positive and negative text. While filling out, many people have entered text such as \"absolutely **nothing**\" or \"__nothing__ at all\" in the input field. We want to filter this out of the dataset, because \"**nothing** at all\" is not a good training text. We achieve this by filtering for the `keyword` **nothing** and then replacing the entire text with an empty string. But we only want to do this above a certain `word cap` because phrases like \"the staff was very bad they did **nothing** at all and the food was very bad.\" do make good training sentences. \n",
    "  \n",
    "Furthermore, when people have not filled in anything it is replaced with **No Negative** or **No Positive**. We also want to replace this text with empty strings. Lets add those words to the `keywords`.\n",
    "\n",
    "on row `515736` you can see that a negative review has disappeared. And at row `515735`, a positive review has disappeared."
   ]
  },
  {
   "cell_type": "code",
   "execution_count": 21,
   "metadata": {},
   "outputs": [
    {
     "name": "stdout",
     "output_type": "stream",
     "text": [
      "before\n"
     ]
    },
    {
     "data": {
      "text/html": [
       "<div>\n",
       "<style scoped>\n",
       "    .dataframe tbody tr th:only-of-type {\n",
       "        vertical-align: middle;\n",
       "    }\n",
       "\n",
       "    .dataframe tbody tr th {\n",
       "        vertical-align: top;\n",
       "    }\n",
       "\n",
       "    .dataframe thead th {\n",
       "        text-align: right;\n",
       "    }\n",
       "</style>\n",
       "<table border=\"1\" class=\"dataframe\">\n",
       "  <thead>\n",
       "    <tr style=\"text-align: right;\">\n",
       "      <th></th>\n",
       "      <th>Hotel_Address</th>\n",
       "      <th>Additional_Number_of_Scoring</th>\n",
       "      <th>Review_Date</th>\n",
       "      <th>Average_Score</th>\n",
       "      <th>Hotel_Name</th>\n",
       "      <th>Reviewer_Nationality</th>\n",
       "      <th>Negative_Review</th>\n",
       "      <th>Review_Total_Negative_Word_Counts</th>\n",
       "      <th>Total_Number_of_Reviews</th>\n",
       "      <th>Positive_Review</th>\n",
       "      <th>Review_Total_Positive_Word_Counts</th>\n",
       "      <th>Total_Number_of_Reviews_Reviewer_Has_Given</th>\n",
       "      <th>Reviewer_Score</th>\n",
       "      <th>Tags</th>\n",
       "      <th>days_since_review</th>\n",
       "      <th>lat</th>\n",
       "      <th>lng</th>\n",
       "    </tr>\n",
       "  </thead>\n",
       "  <tbody>\n",
       "    <tr>\n",
       "      <th>515735</th>\n",
       "      <td>Wurzbachgasse 21 15 Rudolfsheim F nfhaus 1150 ...</td>\n",
       "      <td>168</td>\n",
       "      <td>8/19/2015</td>\n",
       "      <td>8.100</td>\n",
       "      <td>Atlantis Hotel Vienna</td>\n",
       "      <td>Egypt</td>\n",
       "      <td>The ac was useless It was a hot week in vienn...</td>\n",
       "      <td>18</td>\n",
       "      <td>2823</td>\n",
       "      <td>No Positive</td>\n",
       "      <td>2</td>\n",
       "      <td>3</td>\n",
       "      <td>2.500</td>\n",
       "      <td>[' Leisure trip ', ' Family with older childre...</td>\n",
       "      <td>715 day</td>\n",
       "      <td>48.204</td>\n",
       "      <td>16.336</td>\n",
       "    </tr>\n",
       "    <tr>\n",
       "      <th>515736</th>\n",
       "      <td>Wurzbachgasse 21 15 Rudolfsheim F nfhaus 1150 ...</td>\n",
       "      <td>168</td>\n",
       "      <td>8/17/2015</td>\n",
       "      <td>8.100</td>\n",
       "      <td>Atlantis Hotel Vienna</td>\n",
       "      <td>Mexico</td>\n",
       "      <td>No Negative</td>\n",
       "      <td>2</td>\n",
       "      <td>2823</td>\n",
       "      <td>The rooms are enormous and really comfortable...</td>\n",
       "      <td>23</td>\n",
       "      <td>3</td>\n",
       "      <td>8.800</td>\n",
       "      <td>[' Leisure trip ', ' Group ', ' Standard Tripl...</td>\n",
       "      <td>717 day</td>\n",
       "      <td>48.204</td>\n",
       "      <td>16.336</td>\n",
       "    </tr>\n",
       "    <tr>\n",
       "      <th>515737</th>\n",
       "      <td>Wurzbachgasse 21 15 Rudolfsheim F nfhaus 1150 ...</td>\n",
       "      <td>168</td>\n",
       "      <td>8/9/2015</td>\n",
       "      <td>8.100</td>\n",
       "      <td>Atlantis Hotel Vienna</td>\n",
       "      <td>Hungary</td>\n",
       "      <td>I was in 3rd floor It didn t work Free Wife</td>\n",
       "      <td>11</td>\n",
       "      <td>2823</td>\n",
       "      <td>staff was very kind</td>\n",
       "      <td>4</td>\n",
       "      <td>1</td>\n",
       "      <td>8.300</td>\n",
       "      <td>[' Leisure trip ', ' Family with young childre...</td>\n",
       "      <td>725 day</td>\n",
       "      <td>48.204</td>\n",
       "      <td>16.336</td>\n",
       "    </tr>\n",
       "  </tbody>\n",
       "</table>\n",
       "</div>"
      ],
      "text/plain": [
       "                                            Hotel_Address  \\\n",
       "515735  Wurzbachgasse 21 15 Rudolfsheim F nfhaus 1150 ...   \n",
       "515736  Wurzbachgasse 21 15 Rudolfsheim F nfhaus 1150 ...   \n",
       "515737  Wurzbachgasse 21 15 Rudolfsheim F nfhaus 1150 ...   \n",
       "\n",
       "        Additional_Number_of_Scoring Review_Date  Average_Score  \\\n",
       "515735                           168   8/19/2015          8.100   \n",
       "515736                           168   8/17/2015          8.100   \n",
       "515737                           168    8/9/2015          8.100   \n",
       "\n",
       "                   Hotel_Name Reviewer_Nationality  \\\n",
       "515735  Atlantis Hotel Vienna               Egypt    \n",
       "515736  Atlantis Hotel Vienna              Mexico    \n",
       "515737  Atlantis Hotel Vienna             Hungary    \n",
       "\n",
       "                                          Negative_Review  \\\n",
       "515735   The ac was useless It was a hot week in vienn...   \n",
       "515736                                        No Negative   \n",
       "515737       I was in 3rd floor It didn t work Free Wife    \n",
       "\n",
       "        Review_Total_Negative_Word_Counts  Total_Number_of_Reviews  \\\n",
       "515735                                 18                     2823   \n",
       "515736                                  2                     2823   \n",
       "515737                                 11                     2823   \n",
       "\n",
       "                                          Positive_Review  \\\n",
       "515735                                        No Positive   \n",
       "515736   The rooms are enormous and really comfortable...   \n",
       "515737                               staff was very kind    \n",
       "\n",
       "        Review_Total_Positive_Word_Counts  \\\n",
       "515735                                  2   \n",
       "515736                                 23   \n",
       "515737                                  4   \n",
       "\n",
       "        Total_Number_of_Reviews_Reviewer_Has_Given  Reviewer_Score  \\\n",
       "515735                                           3           2.500   \n",
       "515736                                           3           8.800   \n",
       "515737                                           1           8.300   \n",
       "\n",
       "                                                     Tags days_since_review  \\\n",
       "515735  [' Leisure trip ', ' Family with older childre...           715 day   \n",
       "515736  [' Leisure trip ', ' Group ', ' Standard Tripl...           717 day   \n",
       "515737  [' Leisure trip ', ' Family with young childre...           725 day   \n",
       "\n",
       "          lat    lng  \n",
       "515735 48.204 16.336  \n",
       "515736 48.204 16.336  \n",
       "515737 48.204 16.336  "
      ]
     },
     "metadata": {},
     "output_type": "display_data"
    },
    {
     "name": "stdout",
     "output_type": "stream",
     "text": [
      "after\n"
     ]
    },
    {
     "data": {
      "text/html": [
       "<div>\n",
       "<style scoped>\n",
       "    .dataframe tbody tr th:only-of-type {\n",
       "        vertical-align: middle;\n",
       "    }\n",
       "\n",
       "    .dataframe tbody tr th {\n",
       "        vertical-align: top;\n",
       "    }\n",
       "\n",
       "    .dataframe thead th {\n",
       "        text-align: right;\n",
       "    }\n",
       "</style>\n",
       "<table border=\"1\" class=\"dataframe\">\n",
       "  <thead>\n",
       "    <tr style=\"text-align: right;\">\n",
       "      <th></th>\n",
       "      <th>Hotel_Address</th>\n",
       "      <th>Additional_Number_of_Scoring</th>\n",
       "      <th>Review_Date</th>\n",
       "      <th>Average_Score</th>\n",
       "      <th>Hotel_Name</th>\n",
       "      <th>Reviewer_Nationality</th>\n",
       "      <th>Negative_Review</th>\n",
       "      <th>Review_Total_Negative_Word_Counts</th>\n",
       "      <th>Total_Number_of_Reviews</th>\n",
       "      <th>Positive_Review</th>\n",
       "      <th>Review_Total_Positive_Word_Counts</th>\n",
       "      <th>Total_Number_of_Reviews_Reviewer_Has_Given</th>\n",
       "      <th>Reviewer_Score</th>\n",
       "      <th>Tags</th>\n",
       "      <th>days_since_review</th>\n",
       "      <th>lat</th>\n",
       "      <th>lng</th>\n",
       "    </tr>\n",
       "  </thead>\n",
       "  <tbody>\n",
       "    <tr>\n",
       "      <th>515735</th>\n",
       "      <td>Wurzbachgasse 21 15 Rudolfsheim F nfhaus 1150 ...</td>\n",
       "      <td>168</td>\n",
       "      <td>8/19/2015</td>\n",
       "      <td>8.100</td>\n",
       "      <td>Atlantis Hotel Vienna</td>\n",
       "      <td>Egypt</td>\n",
       "      <td>The ac was useless It was a hot week in vienn...</td>\n",
       "      <td>18</td>\n",
       "      <td>2823</td>\n",
       "      <td></td>\n",
       "      <td>2</td>\n",
       "      <td>3</td>\n",
       "      <td>2.500</td>\n",
       "      <td>[' Leisure trip ', ' Family with older childre...</td>\n",
       "      <td>715 day</td>\n",
       "      <td>48.204</td>\n",
       "      <td>16.336</td>\n",
       "    </tr>\n",
       "    <tr>\n",
       "      <th>515736</th>\n",
       "      <td>Wurzbachgasse 21 15 Rudolfsheim F nfhaus 1150 ...</td>\n",
       "      <td>168</td>\n",
       "      <td>8/17/2015</td>\n",
       "      <td>8.100</td>\n",
       "      <td>Atlantis Hotel Vienna</td>\n",
       "      <td>Mexico</td>\n",
       "      <td></td>\n",
       "      <td>2</td>\n",
       "      <td>2823</td>\n",
       "      <td>The rooms are enormous and really comfortable...</td>\n",
       "      <td>23</td>\n",
       "      <td>3</td>\n",
       "      <td>8.800</td>\n",
       "      <td>[' Leisure trip ', ' Group ', ' Standard Tripl...</td>\n",
       "      <td>717 day</td>\n",
       "      <td>48.204</td>\n",
       "      <td>16.336</td>\n",
       "    </tr>\n",
       "    <tr>\n",
       "      <th>515737</th>\n",
       "      <td>Wurzbachgasse 21 15 Rudolfsheim F nfhaus 1150 ...</td>\n",
       "      <td>168</td>\n",
       "      <td>8/9/2015</td>\n",
       "      <td>8.100</td>\n",
       "      <td>Atlantis Hotel Vienna</td>\n",
       "      <td>Hungary</td>\n",
       "      <td>I was in 3rd floor It didn t work Free Wife</td>\n",
       "      <td>11</td>\n",
       "      <td>2823</td>\n",
       "      <td>staff was very kind</td>\n",
       "      <td>4</td>\n",
       "      <td>1</td>\n",
       "      <td>8.300</td>\n",
       "      <td>[' Leisure trip ', ' Family with young childre...</td>\n",
       "      <td>725 day</td>\n",
       "      <td>48.204</td>\n",
       "      <td>16.336</td>\n",
       "    </tr>\n",
       "  </tbody>\n",
       "</table>\n",
       "</div>"
      ],
      "text/plain": [
       "                                            Hotel_Address  \\\n",
       "515735  Wurzbachgasse 21 15 Rudolfsheim F nfhaus 1150 ...   \n",
       "515736  Wurzbachgasse 21 15 Rudolfsheim F nfhaus 1150 ...   \n",
       "515737  Wurzbachgasse 21 15 Rudolfsheim F nfhaus 1150 ...   \n",
       "\n",
       "        Additional_Number_of_Scoring Review_Date  Average_Score  \\\n",
       "515735                           168   8/19/2015          8.100   \n",
       "515736                           168   8/17/2015          8.100   \n",
       "515737                           168    8/9/2015          8.100   \n",
       "\n",
       "                   Hotel_Name Reviewer_Nationality  \\\n",
       "515735  Atlantis Hotel Vienna               Egypt    \n",
       "515736  Atlantis Hotel Vienna              Mexico    \n",
       "515737  Atlantis Hotel Vienna             Hungary    \n",
       "\n",
       "                                          Negative_Review  \\\n",
       "515735   The ac was useless It was a hot week in vienn...   \n",
       "515736                                                      \n",
       "515737       I was in 3rd floor It didn t work Free Wife    \n",
       "\n",
       "        Review_Total_Negative_Word_Counts  Total_Number_of_Reviews  \\\n",
       "515735                                 18                     2823   \n",
       "515736                                  2                     2823   \n",
       "515737                                 11                     2823   \n",
       "\n",
       "                                          Positive_Review  \\\n",
       "515735                                                      \n",
       "515736   The rooms are enormous and really comfortable...   \n",
       "515737                               staff was very kind    \n",
       "\n",
       "        Review_Total_Positive_Word_Counts  \\\n",
       "515735                                  2   \n",
       "515736                                 23   \n",
       "515737                                  4   \n",
       "\n",
       "        Total_Number_of_Reviews_Reviewer_Has_Given  Reviewer_Score  \\\n",
       "515735                                           3           2.500   \n",
       "515736                                           3           8.800   \n",
       "515737                                           1           8.300   \n",
       "\n",
       "                                                     Tags days_since_review  \\\n",
       "515735  [' Leisure trip ', ' Family with older childre...           715 day   \n",
       "515736  [' Leisure trip ', ' Group ', ' Standard Tripl...           717 day   \n",
       "515737  [' Leisure trip ', ' Family with young childre...           725 day   \n",
       "\n",
       "          lat    lng  \n",
       "515735 48.204 16.336  \n",
       "515736 48.204 16.336  \n",
       "515737 48.204 16.336  "
      ]
     },
     "execution_count": 21,
     "metadata": {},
     "output_type": "execute_result"
    }
   ],
   "source": [
    "print(\"before\")\n",
    "display(df_hotel.tail(3))\n",
    "\n",
    "keywords = ['nothing' , 'Nothing', 'No Negative', 'No Positive']\n",
    "wordcap = 15\n",
    "\n",
    "df_hotel.loc[(df_hotel['Negative_Review'].str.contains('|'.join(keywords))) & (df_hotel['Review_Total_Negative_Word_Counts'] < wordcap), 'Negative_Review' ] = \"\"\n",
    "df_hotel.loc[(df_hotel['Positive_Review'].str.contains('|'.join(keywords))) & (df_hotel['Review_Total_Positive_Word_Counts'] < wordcap), 'Positive_Review' ] = \"\"\n",
    "\n",
    "\n",
    "print(\"after\")\n",
    "df_hotel.tail(3)"
   ]
  },
  {
   "cell_type": "markdown",
   "metadata": {},
   "source": [
    "Now we need to rerun the word count fixer because we deleted some reviews"
   ]
  },
  {
   "cell_type": "code",
   "execution_count": 22,
   "metadata": {},
   "outputs": [],
   "source": [
    "fixWordCount()"
   ]
  },
  {
   "cell_type": "markdown",
   "metadata": {},
   "source": [
    "Now I split this dataframe in positive and negative dataframes to see the difference between the two. "
   ]
  },
  {
   "cell_type": "code",
   "execution_count": 23,
   "metadata": {},
   "outputs": [
    {
     "data": {
      "text/html": [
       "<div>\n",
       "<style scoped>\n",
       "    .dataframe tbody tr th:only-of-type {\n",
       "        vertical-align: middle;\n",
       "    }\n",
       "\n",
       "    .dataframe tbody tr th {\n",
       "        vertical-align: top;\n",
       "    }\n",
       "\n",
       "    .dataframe thead th {\n",
       "        text-align: right;\n",
       "    }\n",
       "</style>\n",
       "<table border=\"1\" class=\"dataframe\">\n",
       "  <thead>\n",
       "    <tr style=\"text-align: right;\">\n",
       "      <th></th>\n",
       "      <th>reviewText</th>\n",
       "      <th>sentiment</th>\n",
       "    </tr>\n",
       "  </thead>\n",
       "  <tbody>\n",
       "    <tr>\n",
       "      <th>0</th>\n",
       "      <td>Only the park outside of the hotel was beauti...</td>\n",
       "      <td>POSITIVE</td>\n",
       "    </tr>\n",
       "    <tr>\n",
       "      <th>1</th>\n",
       "      <td>No real complaints the hotel was great great ...</td>\n",
       "      <td>POSITIVE</td>\n",
       "    </tr>\n",
       "    <tr>\n",
       "      <th>2</th>\n",
       "      <td>Location was good and staff were ok It is cut...</td>\n",
       "      <td>POSITIVE</td>\n",
       "    </tr>\n",
       "    <tr>\n",
       "      <th>3</th>\n",
       "      <td>Great location in nice surroundings the bar a...</td>\n",
       "      <td>POSITIVE</td>\n",
       "    </tr>\n",
       "    <tr>\n",
       "      <th>4</th>\n",
       "      <td>Amazing location and building Romantic setting</td>\n",
       "      <td>POSITIVE</td>\n",
       "    </tr>\n",
       "  </tbody>\n",
       "</table>\n",
       "</div>"
      ],
      "text/plain": [
       "                                          reviewText sentiment\n",
       "0   Only the park outside of the hotel was beauti...  POSITIVE\n",
       "1   No real complaints the hotel was great great ...  POSITIVE\n",
       "2   Location was good and staff were ok It is cut...  POSITIVE\n",
       "3   Great location in nice surroundings the bar a...  POSITIVE\n",
       "4    Amazing location and building Romantic setting   POSITIVE"
      ]
     },
     "metadata": {},
     "output_type": "display_data"
    },
    {
     "data": {
      "text/html": [
       "<div>\n",
       "<style scoped>\n",
       "    .dataframe tbody tr th:only-of-type {\n",
       "        vertical-align: middle;\n",
       "    }\n",
       "\n",
       "    .dataframe tbody tr th {\n",
       "        vertical-align: top;\n",
       "    }\n",
       "\n",
       "    .dataframe thead th {\n",
       "        text-align: right;\n",
       "    }\n",
       "</style>\n",
       "<table border=\"1\" class=\"dataframe\">\n",
       "  <thead>\n",
       "    <tr style=\"text-align: right;\">\n",
       "      <th></th>\n",
       "      <th>reviewText</th>\n",
       "      <th>sentiment</th>\n",
       "    </tr>\n",
       "  </thead>\n",
       "  <tbody>\n",
       "    <tr>\n",
       "      <th>0</th>\n",
       "      <td>I am so angry that i made this post available...</td>\n",
       "      <td>NEGATIVE</td>\n",
       "    </tr>\n",
       "    <tr>\n",
       "      <th>2</th>\n",
       "      <td>Rooms are nice but for elderly a bit difficul...</td>\n",
       "      <td>NEGATIVE</td>\n",
       "    </tr>\n",
       "    <tr>\n",
       "      <th>3</th>\n",
       "      <td>My room was dirty and I was afraid to walk ba...</td>\n",
       "      <td>NEGATIVE</td>\n",
       "    </tr>\n",
       "    <tr>\n",
       "      <th>4</th>\n",
       "      <td>You When I booked with your company on line y...</td>\n",
       "      <td>NEGATIVE</td>\n",
       "    </tr>\n",
       "    <tr>\n",
       "      <th>5</th>\n",
       "      <td>Backyard of the hotel is total mess shouldn t...</td>\n",
       "      <td>NEGATIVE</td>\n",
       "    </tr>\n",
       "  </tbody>\n",
       "</table>\n",
       "</div>"
      ],
      "text/plain": [
       "                                          reviewText sentiment\n",
       "0   I am so angry that i made this post available...  NEGATIVE\n",
       "2   Rooms are nice but for elderly a bit difficul...  NEGATIVE\n",
       "3   My room was dirty and I was afraid to walk ba...  NEGATIVE\n",
       "4   You When I booked with your company on line y...  NEGATIVE\n",
       "5   Backyard of the hotel is total mess shouldn t...  NEGATIVE"
      ]
     },
     "metadata": {},
     "output_type": "display_data"
    }
   ],
   "source": [
    "# get reviews that have positive text\n",
    "df_hotel_pos = df_hotel[df_hotel['Review_Total_Positive_Word_Counts'] > 0]\n",
    "#get text data\n",
    "df_hotel_pos = df_hotel_pos.filter(['Positive_Review'], axis=1)\n",
    "#add sentiment\n",
    "df_hotel_pos['sentiment'] = \"POSITIVE\"\n",
    "#rename text colum to match amazon dataframe\n",
    "df_hotel_pos = df_hotel_pos.rename(columns = {'Positive_Review': 'reviewText'}, inplace = False)\n",
    "display(df_hotel_pos.head())\n",
    "\n",
    "\n",
    "df_hotel_neg = df_hotel[df_hotel['Review_Total_Negative_Word_Counts'] > 0]\n",
    "#get text data\n",
    "df_hotel_neg = df_hotel_neg.filter(['Negative_Review'], axis=1)\n",
    "#add sentiment\n",
    "df_hotel_neg['sentiment'] = \"NEGATIVE\"\n",
    "#rename text colum to match amazon dataframe\n",
    "df_hotel_neg = df_hotel_neg.rename(columns = {'Negative_Review': 'reviewText'}, inplace = False)\n",
    "display(df_hotel_neg.head())"
   ]
  },
  {
   "cell_type": "markdown",
   "metadata": {},
   "source": [
    "Let's see how `POSITIVE` and `NEGATIVE` are distributed"
   ]
  },
  {
   "cell_type": "code",
   "execution_count": 24,
   "metadata": {},
   "outputs": [
    {
     "data": {
      "image/png": "[encoded data removed]",
      "text/plain": [
       "<Figure size 432x288 with 1 Axes>"
      ]
     },
     "metadata": {},
     "output_type": "display_data"
    }
   ],
   "source": [
    "labels = ['POSITIVE', 'NEGATIVE']\n",
    "sizes = [len(df_hotel_pos), len(df_hotel_neg)]\n",
    "\n",
    "plt.pie(sizes, labels=labels, autopct='%1.1f%%', startangle=90)\n",
    "plt.axis('equal') \n",
    "plt.title(\"Distribution\")\n",
    "plt.show()"
   ]
  },
  {
   "cell_type": "markdown",
   "metadata": {},
   "source": [
    "Now combine them"
   ]
  },
  {
   "cell_type": "code",
   "execution_count": 25,
   "metadata": {},
   "outputs": [
    {
     "data": {
      "text/html": [
       "<div>\n",
       "<style scoped>\n",
       "    .dataframe tbody tr th:only-of-type {\n",
       "        vertical-align: middle;\n",
       "    }\n",
       "\n",
       "    .dataframe tbody tr th {\n",
       "        vertical-align: top;\n",
       "    }\n",
       "\n",
       "    .dataframe thead th {\n",
       "        text-align: right;\n",
       "    }\n",
       "</style>\n",
       "<table border=\"1\" class=\"dataframe\">\n",
       "  <thead>\n",
       "    <tr style=\"text-align: right;\">\n",
       "      <th></th>\n",
       "      <th>reviewText</th>\n",
       "      <th>sentiment</th>\n",
       "    </tr>\n",
       "  </thead>\n",
       "  <tbody>\n",
       "    <tr>\n",
       "      <th>0</th>\n",
       "      <td>Extremely comfortable room with lots of great...</td>\n",
       "      <td>POSITIVE</td>\n",
       "    </tr>\n",
       "    <tr>\n",
       "      <th>1</th>\n",
       "      <td>Only one thing was on Wednesday 1st March it ...</td>\n",
       "      <td>NEGATIVE</td>\n",
       "    </tr>\n",
       "    <tr>\n",
       "      <th>2</th>\n",
       "      <td>Location very near to central train station a...</td>\n",
       "      <td>POSITIVE</td>\n",
       "    </tr>\n",
       "    <tr>\n",
       "      <th>3</th>\n",
       "      <td>at peak time breakfast the staff could not ke...</td>\n",
       "      <td>NEGATIVE</td>\n",
       "    </tr>\n",
       "    <tr>\n",
       "      <th>4</th>\n",
       "      <td>I liked almost everything from check in to ch...</td>\n",
       "      <td>POSITIVE</td>\n",
       "    </tr>\n",
       "  </tbody>\n",
       "</table>\n",
       "</div>"
      ],
      "text/plain": [
       "                                          reviewText sentiment\n",
       "0   Extremely comfortable room with lots of great...  POSITIVE\n",
       "1   Only one thing was on Wednesday 1st March it ...  NEGATIVE\n",
       "2   Location very near to central train station a...  POSITIVE\n",
       "3   at peak time breakfast the staff could not ke...  NEGATIVE\n",
       "4   I liked almost everything from check in to ch...  POSITIVE"
      ]
     },
     "metadata": {},
     "output_type": "display_data"
    },
    {
     "data": {
      "text/plain": [
       "(830916, 2)"
      ]
     },
     "execution_count": 25,
     "metadata": {},
     "output_type": "execute_result"
    }
   ],
   "source": [
    "#combine\n",
    "df_hotel_combined = pd.concat([df_hotel_pos, df_hotel_neg])\n",
    "#shuffle\n",
    "df_hotel_combined = df_hotel_combined.sample(frac=1, random_state=42)\n",
    "#drop index\n",
    "df_hotel_combined = df_hotel_combined.reset_index(drop=True)\n",
    "#print head\n",
    "display(df_hotel_combined.head())\n",
    "df_hotel_combined.shape"
   ]
  },
  {
   "cell_type": "markdown",
   "metadata": {},
   "source": [
    "This dataset is now also ready to use!"
   ]
  },
  {
   "cell_type": "markdown",
   "metadata": {},
   "source": [
    "## Movie"
   ]
  },
  {
   "cell_type": "code",
   "execution_count": 26,
   "metadata": {},
   "outputs": [
    {
     "data": {
      "text/html": [
       "<div>\n",
       "<style scoped>\n",
       "    .dataframe tbody tr th:only-of-type {\n",
       "        vertical-align: middle;\n",
       "    }\n",
       "\n",
       "    .dataframe tbody tr th {\n",
       "        vertical-align: top;\n",
       "    }\n",
       "\n",
       "    .dataframe thead th {\n",
       "        text-align: right;\n",
       "    }\n",
       "</style>\n",
       "<table border=\"1\" class=\"dataframe\">\n",
       "  <thead>\n",
       "    <tr style=\"text-align: right;\">\n",
       "      <th></th>\n",
       "      <th>fold_id</th>\n",
       "      <th>cv_tag</th>\n",
       "      <th>html_id</th>\n",
       "      <th>sent_id</th>\n",
       "      <th>text</th>\n",
       "      <th>tag</th>\n",
       "    </tr>\n",
       "  </thead>\n",
       "  <tbody>\n",
       "    <tr>\n",
       "      <th>0</th>\n",
       "      <td>0</td>\n",
       "      <td>cv000</td>\n",
       "      <td>29590</td>\n",
       "      <td>0</td>\n",
       "      <td>films adapted from comic books have had plenty...</td>\n",
       "      <td>pos</td>\n",
       "    </tr>\n",
       "    <tr>\n",
       "      <th>1</th>\n",
       "      <td>0</td>\n",
       "      <td>cv000</td>\n",
       "      <td>29590</td>\n",
       "      <td>1</td>\n",
       "      <td>for starters , it was created by alan moore ( ...</td>\n",
       "      <td>pos</td>\n",
       "    </tr>\n",
       "    <tr>\n",
       "      <th>2</th>\n",
       "      <td>0</td>\n",
       "      <td>cv000</td>\n",
       "      <td>29590</td>\n",
       "      <td>2</td>\n",
       "      <td>to say moore and campbell thoroughly researche...</td>\n",
       "      <td>pos</td>\n",
       "    </tr>\n",
       "    <tr>\n",
       "      <th>3</th>\n",
       "      <td>0</td>\n",
       "      <td>cv000</td>\n",
       "      <td>29590</td>\n",
       "      <td>3</td>\n",
       "      <td>the book ( or \" graphic novel , \" if you will ...</td>\n",
       "      <td>pos</td>\n",
       "    </tr>\n",
       "    <tr>\n",
       "      <th>4</th>\n",
       "      <td>0</td>\n",
       "      <td>cv000</td>\n",
       "      <td>29590</td>\n",
       "      <td>4</td>\n",
       "      <td>in other words , don't dismiss this film becau...</td>\n",
       "      <td>pos</td>\n",
       "    </tr>\n",
       "  </tbody>\n",
       "</table>\n",
       "</div>"
      ],
      "text/plain": [
       "   fold_id cv_tag  html_id  sent_id  \\\n",
       "0        0  cv000    29590        0   \n",
       "1        0  cv000    29590        1   \n",
       "2        0  cv000    29590        2   \n",
       "3        0  cv000    29590        3   \n",
       "4        0  cv000    29590        4   \n",
       "\n",
       "                                                text  tag  \n",
       "0  films adapted from comic books have had plenty...  pos  \n",
       "1  for starters , it was created by alan moore ( ...  pos  \n",
       "2  to say moore and campbell thoroughly researche...  pos  \n",
       "3  the book ( or \" graphic novel , \" if you will ...  pos  \n",
       "4  in other words , don't dismiss this film becau...  pos  "
      ]
     },
     "execution_count": 26,
     "metadata": {},
     "output_type": "execute_result"
    }
   ],
   "source": [
    "df_movie.head()"
   ]
  },
  {
   "cell_type": "code",
   "execution_count": 27,
   "metadata": {},
   "outputs": [
    {
     "data": {
      "text/html": [
       "<div>\n",
       "<style scoped>\n",
       "    .dataframe tbody tr th:only-of-type {\n",
       "        vertical-align: middle;\n",
       "    }\n",
       "\n",
       "    .dataframe tbody tr th {\n",
       "        vertical-align: top;\n",
       "    }\n",
       "\n",
       "    .dataframe thead th {\n",
       "        text-align: right;\n",
       "    }\n",
       "</style>\n",
       "<table border=\"1\" class=\"dataframe\">\n",
       "  <thead>\n",
       "    <tr style=\"text-align: right;\">\n",
       "      <th></th>\n",
       "      <th>fold_id</th>\n",
       "      <th>cv_tag</th>\n",
       "      <th>html_id</th>\n",
       "      <th>sent_id</th>\n",
       "      <th>text</th>\n",
       "      <th>tag</th>\n",
       "    </tr>\n",
       "  </thead>\n",
       "  <tbody>\n",
       "    <tr>\n",
       "      <th>64715</th>\n",
       "      <td>9</td>\n",
       "      <td>cv999</td>\n",
       "      <td>14636</td>\n",
       "      <td>20</td>\n",
       "      <td>that lack of inspiration can be traced back to...</td>\n",
       "      <td>neg</td>\n",
       "    </tr>\n",
       "    <tr>\n",
       "      <th>64716</th>\n",
       "      <td>9</td>\n",
       "      <td>cv999</td>\n",
       "      <td>14636</td>\n",
       "      <td>21</td>\n",
       "      <td>like too many of the skits on the current inca...</td>\n",
       "      <td>neg</td>\n",
       "    </tr>\n",
       "    <tr>\n",
       "      <th>64717</th>\n",
       "      <td>9</td>\n",
       "      <td>cv999</td>\n",
       "      <td>14636</td>\n",
       "      <td>22</td>\n",
       "      <td>after watching one of the \" roxbury \" skits on...</td>\n",
       "      <td>neg</td>\n",
       "    </tr>\n",
       "    <tr>\n",
       "      <th>64718</th>\n",
       "      <td>9</td>\n",
       "      <td>cv999</td>\n",
       "      <td>14636</td>\n",
       "      <td>23</td>\n",
       "      <td>bump unsuspecting women , and . . . that's all .</td>\n",
       "      <td>neg</td>\n",
       "    </tr>\n",
       "    <tr>\n",
       "      <th>64719</th>\n",
       "      <td>9</td>\n",
       "      <td>cv999</td>\n",
       "      <td>14636</td>\n",
       "      <td>24</td>\n",
       "      <td>after watching _a_night_at_the_roxbury_ , you'...</td>\n",
       "      <td>neg</td>\n",
       "    </tr>\n",
       "  </tbody>\n",
       "</table>\n",
       "</div>"
      ],
      "text/plain": [
       "       fold_id cv_tag  html_id  sent_id  \\\n",
       "64715        9  cv999    14636       20   \n",
       "64716        9  cv999    14636       21   \n",
       "64717        9  cv999    14636       22   \n",
       "64718        9  cv999    14636       23   \n",
       "64719        9  cv999    14636       24   \n",
       "\n",
       "                                                    text  tag  \n",
       "64715  that lack of inspiration can be traced back to...  neg  \n",
       "64716  like too many of the skits on the current inca...  neg  \n",
       "64717  after watching one of the \" roxbury \" skits on...  neg  \n",
       "64718   bump unsuspecting women , and . . . that's all .  neg  \n",
       "64719  after watching _a_night_at_the_roxbury_ , you'...  neg  "
      ]
     },
     "execution_count": 27,
     "metadata": {},
     "output_type": "execute_result"
    }
   ],
   "source": [
    "df_movie.tail()"
   ]
  },
  {
   "cell_type": "markdown",
   "metadata": {},
   "source": [
    "This dataset is already seperated by positive and negative. Let's rename de columns and only keep the text"
   ]
  },
  {
   "cell_type": "code",
   "execution_count": 28,
   "metadata": {},
   "outputs": [
    {
     "data": {
      "text/html": [
       "<div>\n",
       "<style scoped>\n",
       "    .dataframe tbody tr th:only-of-type {\n",
       "        vertical-align: middle;\n",
       "    }\n",
       "\n",
       "    .dataframe tbody tr th {\n",
       "        vertical-align: top;\n",
       "    }\n",
       "\n",
       "    .dataframe thead th {\n",
       "        text-align: right;\n",
       "    }\n",
       "</style>\n",
       "<table border=\"1\" class=\"dataframe\">\n",
       "  <thead>\n",
       "    <tr style=\"text-align: right;\">\n",
       "      <th></th>\n",
       "      <th>reviewText</th>\n",
       "      <th>sentiment</th>\n",
       "    </tr>\n",
       "  </thead>\n",
       "  <tbody>\n",
       "    <tr>\n",
       "      <th>0</th>\n",
       "      <td>films adapted from comic books have had plenty...</td>\n",
       "      <td>POSITIVE</td>\n",
       "    </tr>\n",
       "    <tr>\n",
       "      <th>1</th>\n",
       "      <td>for starters , it was created by alan moore ( ...</td>\n",
       "      <td>POSITIVE</td>\n",
       "    </tr>\n",
       "    <tr>\n",
       "      <th>2</th>\n",
       "      <td>to say moore and campbell thoroughly researche...</td>\n",
       "      <td>POSITIVE</td>\n",
       "    </tr>\n",
       "    <tr>\n",
       "      <th>3</th>\n",
       "      <td>the book ( or \" graphic novel , \" if you will ...</td>\n",
       "      <td>POSITIVE</td>\n",
       "    </tr>\n",
       "    <tr>\n",
       "      <th>4</th>\n",
       "      <td>in other words , don't dismiss this film becau...</td>\n",
       "      <td>POSITIVE</td>\n",
       "    </tr>\n",
       "  </tbody>\n",
       "</table>\n",
       "</div>"
      ],
      "text/plain": [
       "                                          reviewText sentiment\n",
       "0  films adapted from comic books have had plenty...  POSITIVE\n",
       "1  for starters , it was created by alan moore ( ...  POSITIVE\n",
       "2  to say moore and campbell thoroughly researche...  POSITIVE\n",
       "3  the book ( or \" graphic novel , \" if you will ...  POSITIVE\n",
       "4  in other words , don't dismiss this film becau...  POSITIVE"
      ]
     },
     "metadata": {},
     "output_type": "display_data"
    },
    {
     "data": {
      "text/html": [
       "<div>\n",
       "<style scoped>\n",
       "    .dataframe tbody tr th:only-of-type {\n",
       "        vertical-align: middle;\n",
       "    }\n",
       "\n",
       "    .dataframe tbody tr th {\n",
       "        vertical-align: top;\n",
       "    }\n",
       "\n",
       "    .dataframe thead th {\n",
       "        text-align: right;\n",
       "    }\n",
       "</style>\n",
       "<table border=\"1\" class=\"dataframe\">\n",
       "  <thead>\n",
       "    <tr style=\"text-align: right;\">\n",
       "      <th></th>\n",
       "      <th>reviewText</th>\n",
       "      <th>sentiment</th>\n",
       "    </tr>\n",
       "  </thead>\n",
       "  <tbody>\n",
       "    <tr>\n",
       "      <th>32937</th>\n",
       "      <td>plot : two teen couples go to a church party ,...</td>\n",
       "      <td>NEGATIVE</td>\n",
       "    </tr>\n",
       "    <tr>\n",
       "      <th>32938</th>\n",
       "      <td>they get into an accident .</td>\n",
       "      <td>NEGATIVE</td>\n",
       "    </tr>\n",
       "    <tr>\n",
       "      <th>32939</th>\n",
       "      <td>one of the guys dies , but his girlfriend cont...</td>\n",
       "      <td>NEGATIVE</td>\n",
       "    </tr>\n",
       "    <tr>\n",
       "      <th>32940</th>\n",
       "      <td>what's the deal ?</td>\n",
       "      <td>NEGATIVE</td>\n",
       "    </tr>\n",
       "    <tr>\n",
       "      <th>32941</th>\n",
       "      <td>watch the movie and \" sorta \" find out . . .</td>\n",
       "      <td>NEGATIVE</td>\n",
       "    </tr>\n",
       "  </tbody>\n",
       "</table>\n",
       "</div>"
      ],
      "text/plain": [
       "                                              reviewText sentiment\n",
       "32937  plot : two teen couples go to a church party ,...  NEGATIVE\n",
       "32938                        they get into an accident .  NEGATIVE\n",
       "32939  one of the guys dies , but his girlfriend cont...  NEGATIVE\n",
       "32940                                  what's the deal ?  NEGATIVE\n",
       "32941       watch the movie and \" sorta \" find out . . .  NEGATIVE"
      ]
     },
     "metadata": {},
     "output_type": "display_data"
    }
   ],
   "source": [
    "# get reviews that have positive text\n",
    "df_movie_pos = df_movie[df_movie['tag'] == 'pos']\n",
    "#get text data\n",
    "df_movie_pos = df_movie_pos.filter(['text' , 'tag'], axis=1)\n",
    "#reformat\n",
    "df_movie_pos['tag'] = \"POSITIVE\"\n",
    "#rename text colum to match amazon dataframe\n",
    "df_movie_pos = df_movie_pos.rename(columns = {'text': 'reviewText' , 'tag': 'sentiment'}, inplace = False)\n",
    "display(df_movie_pos.head())\n",
    "\n",
    "# get reviews that have positive text\n",
    "df_movie_neg = df_movie[df_movie['tag'] == 'neg']\n",
    "#get text data\n",
    "df_movie_neg = df_movie_neg.filter(['text' , 'tag'], axis=1)\n",
    "#reformat\n",
    "df_movie_neg['tag'] = \"NEGATIVE\"\n",
    "#rename text colum to match amazon dataframe\n",
    "df_movie_neg = df_movie_neg.rename(columns = {'text': 'reviewText' , 'tag': 'sentiment'}, inplace = False)\n",
    "display(df_movie_neg.head())"
   ]
  },
  {
   "cell_type": "markdown",
   "metadata": {},
   "source": [
    "It now is relabled as is done with the other datasets. Let's look at the distribution between positive and negative"
   ]
  },
  {
   "cell_type": "code",
   "execution_count": 29,
   "metadata": {},
   "outputs": [
    {
     "data": {
      "image/png": "[encoded data removed]",
      "text/plain": [
       "<Figure size 432x288 with 1 Axes>"
      ]
     },
     "metadata": {},
     "output_type": "display_data"
    }
   ],
   "source": [
    "labels = ['POSITIVE', 'NEGATIVE']\n",
    "sizes = [len(df_movie_pos), len(df_movie_neg)]\n",
    "\n",
    "plt.pie(sizes, labels=labels, autopct='%1.1f%%', startangle=90)\n",
    "plt.axis('equal') \n",
    "plt.title(\"Distribution\")\n",
    "plt.show()"
   ]
  },
  {
   "cell_type": "code",
   "execution_count": 30,
   "metadata": {},
   "outputs": [
    {
     "data": {
      "text/html": [
       "<div>\n",
       "<style scoped>\n",
       "    .dataframe tbody tr th:only-of-type {\n",
       "        vertical-align: middle;\n",
       "    }\n",
       "\n",
       "    .dataframe tbody tr th {\n",
       "        vertical-align: top;\n",
       "    }\n",
       "\n",
       "    .dataframe thead th {\n",
       "        text-align: right;\n",
       "    }\n",
       "</style>\n",
       "<table border=\"1\" class=\"dataframe\">\n",
       "  <thead>\n",
       "    <tr style=\"text-align: right;\">\n",
       "      <th></th>\n",
       "      <th>reviewText</th>\n",
       "      <th>sentiment</th>\n",
       "    </tr>\n",
       "  </thead>\n",
       "  <tbody>\n",
       "    <tr>\n",
       "      <th>0</th>\n",
       "      <td>it's like a dream without any appeal .</td>\n",
       "      <td>NEGATIVE</td>\n",
       "    </tr>\n",
       "    <tr>\n",
       "      <th>1</th>\n",
       "      <td>state-of-the-art special effects have never be...</td>\n",
       "      <td>NEGATIVE</td>\n",
       "    </tr>\n",
       "    <tr>\n",
       "      <th>2</th>\n",
       "      <td>some action films have action sequences that a...</td>\n",
       "      <td>NEGATIVE</td>\n",
       "    </tr>\n",
       "    <tr>\n",
       "      <th>3</th>\n",
       "      <td>a number of reasons , including the fact that ...</td>\n",
       "      <td>NEGATIVE</td>\n",
       "    </tr>\n",
       "    <tr>\n",
       "      <th>4</th>\n",
       "      <td>julie james ( jennifer love hewitt ) and ray b...</td>\n",
       "      <td>NEGATIVE</td>\n",
       "    </tr>\n",
       "  </tbody>\n",
       "</table>\n",
       "</div>"
      ],
      "text/plain": [
       "                                          reviewText sentiment\n",
       "0             it's like a dream without any appeal .  NEGATIVE\n",
       "1  state-of-the-art special effects have never be...  NEGATIVE\n",
       "2  some action films have action sequences that a...  NEGATIVE\n",
       "3  a number of reasons , including the fact that ...  NEGATIVE\n",
       "4  julie james ( jennifer love hewitt ) and ray b...  NEGATIVE"
      ]
     },
     "metadata": {},
     "output_type": "display_data"
    },
    {
     "data": {
      "text/plain": [
       "(64720, 2)"
      ]
     },
     "execution_count": 30,
     "metadata": {},
     "output_type": "execute_result"
    }
   ],
   "source": [
    "#combine\n",
    "df_movie_combined = pd.concat([df_movie_pos, df_movie_neg])\n",
    "#shuffle\n",
    "df_movie_combined = df_movie_combined.sample(frac=1, random_state=42)\n",
    "#drop index\n",
    "df_movie_combined = df_movie_combined.reset_index(drop=True)\n",
    "#print head\n",
    "display(df_movie_combined.head())\n",
    "df_movie_combined.shape"
   ]
  },
  {
   "cell_type": "markdown",
   "metadata": {},
   "source": [
    "## Final evaluation\n",
    "Let's add a source label and a word count column"
   ]
  },
  {
   "cell_type": "code",
   "execution_count": 31,
   "metadata": {},
   "outputs": [
    {
     "name": "stdout",
     "output_type": "stream",
     "text": [
      "AMAZON\n"
     ]
    },
    {
     "data": {
      "text/html": [
       "<div>\n",
       "<style scoped>\n",
       "    .dataframe tbody tr th:only-of-type {\n",
       "        vertical-align: middle;\n",
       "    }\n",
       "\n",
       "    .dataframe tbody tr th {\n",
       "        vertical-align: top;\n",
       "    }\n",
       "\n",
       "    .dataframe thead th {\n",
       "        text-align: right;\n",
       "    }\n",
       "</style>\n",
       "<table border=\"1\" class=\"dataframe\">\n",
       "  <thead>\n",
       "    <tr style=\"text-align: right;\">\n",
       "      <th></th>\n",
       "      <th>reviewText</th>\n",
       "      <th>sentiment</th>\n",
       "      <th>source</th>\n",
       "      <th>wordCount</th>\n",
       "    </tr>\n",
       "  </thead>\n",
       "  <tbody>\n",
       "    <tr>\n",
       "      <th>count</th>\n",
       "      <td>1697307</td>\n",
       "      <td>1698454</td>\n",
       "      <td>1698454</td>\n",
       "      <td>1697307.000</td>\n",
       "    </tr>\n",
       "    <tr>\n",
       "      <th>unique</th>\n",
       "      <td>1343898</td>\n",
       "      <td>2</td>\n",
       "      <td>1</td>\n",
       "      <td>nan</td>\n",
       "    </tr>\n",
       "    <tr>\n",
       "      <th>top</th>\n",
       "      <td>great</td>\n",
       "      <td>POSITIVE</td>\n",
       "      <td>AMAZON</td>\n",
       "      <td>nan</td>\n",
       "    </tr>\n",
       "    <tr>\n",
       "      <th>freq</th>\n",
       "      <td>6103</td>\n",
       "      <td>1576761</td>\n",
       "      <td>1698454</td>\n",
       "      <td>nan</td>\n",
       "    </tr>\n",
       "    <tr>\n",
       "      <th>mean</th>\n",
       "      <td>NaN</td>\n",
       "      <td>NaN</td>\n",
       "      <td>NaN</td>\n",
       "      <td>41.295</td>\n",
       "    </tr>\n",
       "    <tr>\n",
       "      <th>std</th>\n",
       "      <td>NaN</td>\n",
       "      <td>NaN</td>\n",
       "      <td>NaN</td>\n",
       "      <td>70.296</td>\n",
       "    </tr>\n",
       "    <tr>\n",
       "      <th>min</th>\n",
       "      <td>NaN</td>\n",
       "      <td>NaN</td>\n",
       "      <td>NaN</td>\n",
       "      <td>0.000</td>\n",
       "    </tr>\n",
       "    <tr>\n",
       "      <th>25%</th>\n",
       "      <td>NaN</td>\n",
       "      <td>NaN</td>\n",
       "      <td>NaN</td>\n",
       "      <td>7.000</td>\n",
       "    </tr>\n",
       "    <tr>\n",
       "      <th>50%</th>\n",
       "      <td>NaN</td>\n",
       "      <td>NaN</td>\n",
       "      <td>NaN</td>\n",
       "      <td>21.000</td>\n",
       "    </tr>\n",
       "    <tr>\n",
       "      <th>75%</th>\n",
       "      <td>NaN</td>\n",
       "      <td>NaN</td>\n",
       "      <td>NaN</td>\n",
       "      <td>47.000</td>\n",
       "    </tr>\n",
       "    <tr>\n",
       "      <th>max</th>\n",
       "      <td>NaN</td>\n",
       "      <td>NaN</td>\n",
       "      <td>NaN</td>\n",
       "      <td>5905.000</td>\n",
       "    </tr>\n",
       "  </tbody>\n",
       "</table>\n",
       "</div>"
      ],
      "text/plain": [
       "       reviewText sentiment   source   wordCount\n",
       "count     1697307   1698454  1698454 1697307.000\n",
       "unique    1343898         2        1         nan\n",
       "top         great  POSITIVE   AMAZON         nan\n",
       "freq         6103   1576761  1698454         nan\n",
       "mean          NaN       NaN      NaN      41.295\n",
       "std           NaN       NaN      NaN      70.296\n",
       "min           NaN       NaN      NaN       0.000\n",
       "25%           NaN       NaN      NaN       7.000\n",
       "50%           NaN       NaN      NaN      21.000\n",
       "75%           NaN       NaN      NaN      47.000\n",
       "max           NaN       NaN      NaN    5905.000"
      ]
     },
     "metadata": {},
     "output_type": "display_data"
    },
    {
     "name": "stdout",
     "output_type": "stream",
     "text": [
      "HOTEL\n"
     ]
    },
    {
     "data": {
      "text/html": [
       "<div>\n",
       "<style scoped>\n",
       "    .dataframe tbody tr th:only-of-type {\n",
       "        vertical-align: middle;\n",
       "    }\n",
       "\n",
       "    .dataframe tbody tr th {\n",
       "        vertical-align: top;\n",
       "    }\n",
       "\n",
       "    .dataframe thead th {\n",
       "        text-align: right;\n",
       "    }\n",
       "</style>\n",
       "<table border=\"1\" class=\"dataframe\">\n",
       "  <thead>\n",
       "    <tr style=\"text-align: right;\">\n",
       "      <th></th>\n",
       "      <th>reviewText</th>\n",
       "      <th>sentiment</th>\n",
       "      <th>source</th>\n",
       "      <th>wordCount</th>\n",
       "    </tr>\n",
       "  </thead>\n",
       "  <tbody>\n",
       "    <tr>\n",
       "      <th>count</th>\n",
       "      <td>830916</td>\n",
       "      <td>830916</td>\n",
       "      <td>830916</td>\n",
       "      <td>830916.000</td>\n",
       "    </tr>\n",
       "    <tr>\n",
       "      <th>unique</th>\n",
       "      <td>733388</td>\n",
       "      <td>2</td>\n",
       "      <td>1</td>\n",
       "      <td>nan</td>\n",
       "    </tr>\n",
       "    <tr>\n",
       "      <th>top</th>\n",
       "      <td>Location</td>\n",
       "      <td>POSITIVE</td>\n",
       "      <td>HOTEL</td>\n",
       "      <td>nan</td>\n",
       "    </tr>\n",
       "    <tr>\n",
       "      <th>freq</th>\n",
       "      <td>9590</td>\n",
       "      <td>476219</td>\n",
       "      <td>830916</td>\n",
       "      <td>nan</td>\n",
       "    </tr>\n",
       "    <tr>\n",
       "      <th>mean</th>\n",
       "      <td>NaN</td>\n",
       "      <td>NaN</td>\n",
       "      <td>NaN</td>\n",
       "      <td>20.789</td>\n",
       "    </tr>\n",
       "    <tr>\n",
       "      <th>std</th>\n",
       "      <td>NaN</td>\n",
       "      <td>NaN</td>\n",
       "      <td>NaN</td>\n",
       "      <td>27.241</td>\n",
       "    </tr>\n",
       "    <tr>\n",
       "      <th>min</th>\n",
       "      <td>NaN</td>\n",
       "      <td>NaN</td>\n",
       "      <td>NaN</td>\n",
       "      <td>1.000</td>\n",
       "    </tr>\n",
       "    <tr>\n",
       "      <th>25%</th>\n",
       "      <td>NaN</td>\n",
       "      <td>NaN</td>\n",
       "      <td>NaN</td>\n",
       "      <td>6.000</td>\n",
       "    </tr>\n",
       "    <tr>\n",
       "      <th>50%</th>\n",
       "      <td>NaN</td>\n",
       "      <td>NaN</td>\n",
       "      <td>NaN</td>\n",
       "      <td>12.000</td>\n",
       "    </tr>\n",
       "    <tr>\n",
       "      <th>75%</th>\n",
       "      <td>NaN</td>\n",
       "      <td>NaN</td>\n",
       "      <td>NaN</td>\n",
       "      <td>25.000</td>\n",
       "    </tr>\n",
       "    <tr>\n",
       "      <th>max</th>\n",
       "      <td>NaN</td>\n",
       "      <td>NaN</td>\n",
       "      <td>NaN</td>\n",
       "      <td>406.000</td>\n",
       "    </tr>\n",
       "  </tbody>\n",
       "</table>\n",
       "</div>"
      ],
      "text/plain": [
       "       reviewText sentiment  source  wordCount\n",
       "count      830916    830916  830916 830916.000\n",
       "unique     733388         2       1        nan\n",
       "top      Location  POSITIVE   HOTEL        nan\n",
       "freq         9590    476219  830916        nan\n",
       "mean          NaN       NaN     NaN     20.789\n",
       "std           NaN       NaN     NaN     27.241\n",
       "min           NaN       NaN     NaN      1.000\n",
       "25%           NaN       NaN     NaN      6.000\n",
       "50%           NaN       NaN     NaN     12.000\n",
       "75%           NaN       NaN     NaN     25.000\n",
       "max           NaN       NaN     NaN    406.000"
      ]
     },
     "metadata": {},
     "output_type": "display_data"
    },
    {
     "name": "stdout",
     "output_type": "stream",
     "text": [
      "MOVIE\n"
     ]
    },
    {
     "data": {
      "text/html": [
       "<div>\n",
       "<style scoped>\n",
       "    .dataframe tbody tr th:only-of-type {\n",
       "        vertical-align: middle;\n",
       "    }\n",
       "\n",
       "    .dataframe tbody tr th {\n",
       "        vertical-align: top;\n",
       "    }\n",
       "\n",
       "    .dataframe thead th {\n",
       "        text-align: right;\n",
       "    }\n",
       "</style>\n",
       "<table border=\"1\" class=\"dataframe\">\n",
       "  <thead>\n",
       "    <tr style=\"text-align: right;\">\n",
       "      <th></th>\n",
       "      <th>reviewText</th>\n",
       "      <th>sentiment</th>\n",
       "      <th>source</th>\n",
       "      <th>wordCount</th>\n",
       "    </tr>\n",
       "  </thead>\n",
       "  <tbody>\n",
       "    <tr>\n",
       "      <th>count</th>\n",
       "      <td>64720</td>\n",
       "      <td>64720</td>\n",
       "      <td>64720</td>\n",
       "      <td>64720.000</td>\n",
       "    </tr>\n",
       "    <tr>\n",
       "      <th>unique</th>\n",
       "      <td>63652</td>\n",
       "      <td>2</td>\n",
       "      <td>1</td>\n",
       "      <td>nan</td>\n",
       "    </tr>\n",
       "    <tr>\n",
       "      <th>top</th>\n",
       "      <td>.</td>\n",
       "      <td>POSITIVE</td>\n",
       "      <td>MOVIE</td>\n",
       "      <td>nan</td>\n",
       "    </tr>\n",
       "    <tr>\n",
       "      <th>freq</th>\n",
       "      <td>123</td>\n",
       "      <td>32937</td>\n",
       "      <td>64720</td>\n",
       "      <td>nan</td>\n",
       "    </tr>\n",
       "    <tr>\n",
       "      <th>mean</th>\n",
       "      <td>NaN</td>\n",
       "      <td>NaN</td>\n",
       "      <td>NaN</td>\n",
       "      <td>23.064</td>\n",
       "    </tr>\n",
       "    <tr>\n",
       "      <th>std</th>\n",
       "      <td>NaN</td>\n",
       "      <td>NaN</td>\n",
       "      <td>NaN</td>\n",
       "      <td>13.454</td>\n",
       "    </tr>\n",
       "    <tr>\n",
       "      <th>min</th>\n",
       "      <td>NaN</td>\n",
       "      <td>NaN</td>\n",
       "      <td>NaN</td>\n",
       "      <td>1.000</td>\n",
       "    </tr>\n",
       "    <tr>\n",
       "      <th>25%</th>\n",
       "      <td>NaN</td>\n",
       "      <td>NaN</td>\n",
       "      <td>NaN</td>\n",
       "      <td>14.000</td>\n",
       "    </tr>\n",
       "    <tr>\n",
       "      <th>50%</th>\n",
       "      <td>NaN</td>\n",
       "      <td>NaN</td>\n",
       "      <td>NaN</td>\n",
       "      <td>21.000</td>\n",
       "    </tr>\n",
       "    <tr>\n",
       "      <th>75%</th>\n",
       "      <td>NaN</td>\n",
       "      <td>NaN</td>\n",
       "      <td>NaN</td>\n",
       "      <td>30.000</td>\n",
       "    </tr>\n",
       "    <tr>\n",
       "      <th>max</th>\n",
       "      <td>NaN</td>\n",
       "      <td>NaN</td>\n",
       "      <td>NaN</td>\n",
       "      <td>179.000</td>\n",
       "    </tr>\n",
       "  </tbody>\n",
       "</table>\n",
       "</div>"
      ],
      "text/plain": [
       "       reviewText sentiment source  wordCount\n",
       "count       64720     64720  64720  64720.000\n",
       "unique      63652         2      1        nan\n",
       "top             .  POSITIVE  MOVIE        nan\n",
       "freq          123     32937  64720        nan\n",
       "mean          NaN       NaN    NaN     23.064\n",
       "std           NaN       NaN    NaN     13.454\n",
       "min           NaN       NaN    NaN      1.000\n",
       "25%           NaN       NaN    NaN     14.000\n",
       "50%           NaN       NaN    NaN     21.000\n",
       "75%           NaN       NaN    NaN     30.000\n",
       "max           NaN       NaN    NaN    179.000"
      ]
     },
     "metadata": {},
     "output_type": "display_data"
    }
   ],
   "source": [
    "#add source to do analises with\n",
    "df_amazon_combined['source'] = \"AMAZON\"\n",
    "df_amazon_combined['wordCount'] = df_amazon_combined['reviewText'].str.split().str.len()\n",
    "print(\"AMAZON\")\n",
    "display(df_amazon_combined.describe(include='all'))\n",
    "\n",
    "df_hotel_combined['source'] = \"HOTEL\"\n",
    "df_hotel_combined['wordCount'] = df_hotel_combined['reviewText'].str.split().str.len()\n",
    "print(\"HOTEL\")\n",
    "display(df_hotel_combined.describe(include='all'))\n",
    "\n",
    "df_movie_combined['source'] = \"MOVIE\"\n",
    "df_movie_combined['wordCount'] = df_movie_combined['reviewText'].str.split().str.len()\n",
    "print(\"MOVIE\")\n",
    "display(df_movie_combined.describe(include='all'))"
   ]
  },
  {
   "cell_type": "markdown",
   "metadata": {},
   "source": [
    "We can clearly see that the average word counts of the MOVIE and HOTEL data frames are very similar. But the AMAZON data frame word count is much higher on average. Perhaps this is because the review with the most words (5905) is extremely high.  \n",
    "  \n",
    "The most common words do worry me somehow. `Location` and `.` are probably not good words to train with. But here we will find out. \n",
    "\n",
    "# Combine the dataframes "
   ]
  },
  {
   "cell_type": "code",
   "execution_count": 32,
   "metadata": {},
   "outputs": [],
   "source": [
    "#combine\n",
    "df_review_combined = pd.concat([df_amazon_combined, df_hotel_combined, df_movie_combined])\n",
    "#shuffle\n",
    "df_review_combined = df_review_combined.sample(frac=1, random_state=42)\n",
    "#drop index\n",
    "df_review_combined = df_review_combined.reset_index(drop=True)"
   ]
  },
  {
   "cell_type": "markdown",
   "metadata": {},
   "source": [
    "# After data cleaning\n",
    "I save the dataset to al file for future use "
   ]
  },
  {
   "cell_type": "code",
   "execution_count": 33,
   "metadata": {},
   "outputs": [],
   "source": [
    "df_review_combined.to_csv(r'data/combined.csv', index = False)"
   ]
  },
  {
   "cell_type": "code",
   "execution_count": 364,
   "metadata": {},
   "outputs": [],
   "source": [
    "df_review_combined = pd.read_csv('data/combined.csv')"
   ]
  },
  {
   "cell_type": "markdown",
   "metadata": {},
   "source": [
    "It can be clearly seen that the datasets are well shuffled."
   ]
  },
  {
   "cell_type": "code",
   "execution_count": 365,
   "metadata": {},
   "outputs": [
    {
     "data": {
      "text/html": [
       "<div>\n",
       "<style scoped>\n",
       "    .dataframe tbody tr th:only-of-type {\n",
       "        vertical-align: middle;\n",
       "    }\n",
       "\n",
       "    .dataframe tbody tr th {\n",
       "        vertical-align: top;\n",
       "    }\n",
       "\n",
       "    .dataframe thead th {\n",
       "        text-align: right;\n",
       "    }\n",
       "</style>\n",
       "<table border=\"1\" class=\"dataframe\">\n",
       "  <thead>\n",
       "    <tr style=\"text-align: right;\">\n",
       "      <th></th>\n",
       "      <th>reviewText</th>\n",
       "      <th>sentiment</th>\n",
       "      <th>source</th>\n",
       "      <th>wordCount</th>\n",
       "    </tr>\n",
       "  </thead>\n",
       "  <tbody>\n",
       "    <tr>\n",
       "      <th>0</th>\n",
       "      <td>Very fun</td>\n",
       "      <td>POSITIVE</td>\n",
       "      <td>AMAZON</td>\n",
       "      <td>2.000</td>\n",
       "    </tr>\n",
       "    <tr>\n",
       "      <th>1</th>\n",
       "      <td>My grandson loves this Mickey Mouse toy and th...</td>\n",
       "      <td>POSITIVE</td>\n",
       "      <td>AMAZON</td>\n",
       "      <td>23.000</td>\n",
       "    </tr>\n",
       "    <tr>\n",
       "      <th>2</th>\n",
       "      <td>Staff has no hospitality skills they are just...</td>\n",
       "      <td>NEGATIVE</td>\n",
       "      <td>HOTEL</td>\n",
       "      <td>19.000</td>\n",
       "    </tr>\n",
       "    <tr>\n",
       "      <th>3</th>\n",
       "      <td>the location</td>\n",
       "      <td>POSITIVE</td>\n",
       "      <td>HOTEL</td>\n",
       "      <td>2.000</td>\n",
       "    </tr>\n",
       "    <tr>\n",
       "      <th>4</th>\n",
       "      <td>Very noisy and expensive breakfast</td>\n",
       "      <td>NEGATIVE</td>\n",
       "      <td>HOTEL</td>\n",
       "      <td>5.000</td>\n",
       "    </tr>\n",
       "  </tbody>\n",
       "</table>\n",
       "</div>"
      ],
      "text/plain": [
       "                                          reviewText sentiment  source  \\\n",
       "0                                           Very fun  POSITIVE  AMAZON   \n",
       "1  My grandson loves this Mickey Mouse toy and th...  POSITIVE  AMAZON   \n",
       "2   Staff has no hospitality skills they are just...  NEGATIVE   HOTEL   \n",
       "3                                       the location  POSITIVE   HOTEL   \n",
       "4                Very noisy and expensive breakfast   NEGATIVE   HOTEL   \n",
       "\n",
       "   wordCount  \n",
       "0      2.000  \n",
       "1     23.000  \n",
       "2     19.000  \n",
       "3      2.000  \n",
       "4      5.000  "
      ]
     },
     "metadata": {},
     "output_type": "display_data"
    }
   ],
   "source": [
    "display(df_review_combined.head())"
   ]
  },
  {
   "cell_type": "markdown",
   "metadata": {},
   "source": [
    "there remain over 1 million reviews. This is a very large dataset. It is likely that sufficient training can be done with this. "
   ]
  },
  {
   "cell_type": "code",
   "execution_count": 366,
   "metadata": {},
   "outputs": [
    {
     "data": {
      "text/plain": [
       "(2594090, 4)"
      ]
     },
     "metadata": {},
     "output_type": "display_data"
    }
   ],
   "source": [
    "display(df_review_combined.shape)"
   ]
  },
  {
   "cell_type": "code",
   "execution_count": 367,
   "metadata": {},
   "outputs": [
    {
     "name": "stdout",
     "output_type": "stream",
     "text": [
      "<class 'pandas.core.frame.DataFrame'>\n",
      "RangeIndex: 2594090 entries, 0 to 2594089\n",
      "Data columns (total 4 columns):\n",
      " #   Column      Dtype  \n",
      "---  ------      -----  \n",
      " 0   reviewText  object \n",
      " 1   sentiment   object \n",
      " 2   source      object \n",
      " 3   wordCount   float64\n",
      "dtypes: float64(1), object(3)\n",
      "memory usage: 79.2+ MB\n"
     ]
    },
    {
     "data": {
      "text/plain": [
       "None"
      ]
     },
     "metadata": {},
     "output_type": "display_data"
    }
   ],
   "source": [
    "display(df_review_combined.info())"
   ]
  },
  {
   "cell_type": "markdown",
   "metadata": {},
   "source": [
    "The Top word `Location` conserns me, This is probably most used in the hotel dataset. But we will see if this is a problem. "
   ]
  },
  {
   "cell_type": "code",
   "execution_count": 368,
   "metadata": {},
   "outputs": [
    {
     "data": {
      "text/html": [
       "<div>\n",
       "<style scoped>\n",
       "    .dataframe tbody tr th:only-of-type {\n",
       "        vertical-align: middle;\n",
       "    }\n",
       "\n",
       "    .dataframe tbody tr th {\n",
       "        vertical-align: top;\n",
       "    }\n",
       "\n",
       "    .dataframe thead th {\n",
       "        text-align: right;\n",
       "    }\n",
       "</style>\n",
       "<table border=\"1\" class=\"dataframe\">\n",
       "  <thead>\n",
       "    <tr style=\"text-align: right;\">\n",
       "      <th></th>\n",
       "      <th>reviewText</th>\n",
       "      <th>sentiment</th>\n",
       "      <th>source</th>\n",
       "      <th>wordCount</th>\n",
       "    </tr>\n",
       "  </thead>\n",
       "  <tbody>\n",
       "    <tr>\n",
       "      <th>count</th>\n",
       "      <td>2592943</td>\n",
       "      <td>2594090</td>\n",
       "      <td>2594090</td>\n",
       "      <td>2592943.000</td>\n",
       "    </tr>\n",
       "    <tr>\n",
       "      <th>unique</th>\n",
       "      <td>2140932</td>\n",
       "      <td>2</td>\n",
       "      <td>3</td>\n",
       "      <td>nan</td>\n",
       "    </tr>\n",
       "    <tr>\n",
       "      <th>top</th>\n",
       "      <td>Location</td>\n",
       "      <td>POSITIVE</td>\n",
       "      <td>AMAZON</td>\n",
       "      <td>nan</td>\n",
       "    </tr>\n",
       "    <tr>\n",
       "      <th>freq</th>\n",
       "      <td>9590</td>\n",
       "      <td>2085917</td>\n",
       "      <td>1698454</td>\n",
       "      <td>nan</td>\n",
       "    </tr>\n",
       "    <tr>\n",
       "      <th>mean</th>\n",
       "      <td>NaN</td>\n",
       "      <td>NaN</td>\n",
       "      <td>NaN</td>\n",
       "      <td>34.269</td>\n",
       "    </tr>\n",
       "    <tr>\n",
       "      <th>std</th>\n",
       "      <td>NaN</td>\n",
       "      <td>NaN</td>\n",
       "      <td>NaN</td>\n",
       "      <td>59.755</td>\n",
       "    </tr>\n",
       "    <tr>\n",
       "      <th>min</th>\n",
       "      <td>NaN</td>\n",
       "      <td>NaN</td>\n",
       "      <td>NaN</td>\n",
       "      <td>0.000</td>\n",
       "    </tr>\n",
       "    <tr>\n",
       "      <th>25%</th>\n",
       "      <td>NaN</td>\n",
       "      <td>NaN</td>\n",
       "      <td>NaN</td>\n",
       "      <td>6.000</td>\n",
       "    </tr>\n",
       "    <tr>\n",
       "      <th>50%</th>\n",
       "      <td>NaN</td>\n",
       "      <td>NaN</td>\n",
       "      <td>NaN</td>\n",
       "      <td>17.000</td>\n",
       "    </tr>\n",
       "    <tr>\n",
       "      <th>75%</th>\n",
       "      <td>NaN</td>\n",
       "      <td>NaN</td>\n",
       "      <td>NaN</td>\n",
       "      <td>38.000</td>\n",
       "    </tr>\n",
       "    <tr>\n",
       "      <th>max</th>\n",
       "      <td>NaN</td>\n",
       "      <td>NaN</td>\n",
       "      <td>NaN</td>\n",
       "      <td>5905.000</td>\n",
       "    </tr>\n",
       "  </tbody>\n",
       "</table>\n",
       "</div>"
      ],
      "text/plain": [
       "       reviewText sentiment   source   wordCount\n",
       "count     2592943   2594090  2594090 2592943.000\n",
       "unique    2140932         2        3         nan\n",
       "top      Location  POSITIVE   AMAZON         nan\n",
       "freq         9590   2085917  1698454         nan\n",
       "mean          NaN       NaN      NaN      34.269\n",
       "std           NaN       NaN      NaN      59.755\n",
       "min           NaN       NaN      NaN       0.000\n",
       "25%           NaN       NaN      NaN       6.000\n",
       "50%           NaN       NaN      NaN      17.000\n",
       "75%           NaN       NaN      NaN      38.000\n",
       "max           NaN       NaN      NaN    5905.000"
      ]
     },
     "metadata": {},
     "output_type": "display_data"
    }
   ],
   "source": [
    "display(df_review_combined.describe(include='all'))"
   ]
  },
  {
   "cell_type": "markdown",
   "metadata": {},
   "source": [
    "# wordcount\n",
    "There is a lot of difference in the word count of a review. "
   ]
  },
  {
   "cell_type": "code",
   "execution_count": 369,
   "metadata": {},
   "outputs": [
    {
     "data": {
      "image/png": "[encoded data removed]",
      "text/plain": [
       "<Figure size 800x480 with 1 Axes>"
      ]
     },
     "metadata": {
      "needs_background": "light"
     },
     "output_type": "display_data"
    }
   ],
   "source": [
    "#make figure bigger\n",
    "figure(figsize=(10, 6), dpi=80)\n",
    "\n",
    "#add text\n",
    "plt.ylabel('Word count')\n",
    "plt.title(\"Number of words used\")\n",
    "\n",
    "plt.plot(df_review_combined['wordCount'], '.');\n",
    "\n",
    "plt.show()"
   ]
  },
  {
   "cell_type": "code",
   "execution_count": 370,
   "metadata": {},
   "outputs": [
    {
     "data": {
      "text/plain": [
       "'In retrospect, this review is quite long. If you would like to get the cliff-notes, see Section [5]. Overview, below.\\n\\nWith a discount, I ended up paying $150 for this ship. I love the 6\" Black Series figures. I have about 10 of the figures from the earlier waves (with Darth Vader and a Force Awakens Storm Trooper being my most recent figures from the series).\\n\\n[1]. Packaging and First Impressions:\\nI ordered this from Hasbro\\'s website thinking that I might get something that wasn\\'t damaged.\\nI was wrong. My Tie Fighter shipped in the retail box, surrounded by a Hasbro box. As I was moving the box inside, I heard pieces kind of rattling around. That would be fine for Legos, but this is not a box of Legos. Upon removing the retail box from the Hasbro box, I noticed several issues. First of all, the box looked like it had been opened and re-taped. And what\\'s worse is that it looks like it was taped by a 3-year old who just figured out what tape was for the first time. The tape alone ruins any NIB collector appeal that this ship might have, though just to make sure that collectors really understood that they were being given the middle finger, Hasbro decided not to cover the wings with any protective material. Because of that, my retail box had holes/gashes in it from where the wings of the Tie Fighter had punched through during what must have been a shipping process that for some reason involved having this item thrown down the side of a mountain.\\n\\nMoving past the busted box, I remove the ship. It is important to note that there is no styrofoam or protection other than about 5 pieces of pretty thin carboard \"protecting\" the wings and the sphere. The middle sphere part of the ship was just rolling all over the place during shipping. My wings had minimal warping, which is fantastic. I was super happy. However, one of the front blaster guns was broken off, and the turret that snaps into the bottom was misaligned (the two turret heads pointed in towards each other). I ended up super gluing the broken turret, and I actually microwaved and reshaped the bottom turret attachment prior to putting it on. I would imagine that if your wings are warped, you could use some heavy books and a hair dryer / heat gun to heat them up and reshape them, but that would be better to do prior to putting them on.\\n\\n[2.] Ship: Details and Painting\\nThere are parts of the ship that were not painted well, and it shows if you\\'re up fairly close to the ship. Instead of having black paint, several small areas just have rough, unfinished plastic that is kind of a dull gray. The paint problems are really only noticeable if you\\'re looking for issues and really want to nit-pick, I suppose.\\nAlso, for the record, I wasn\\'t super keen on that idiotic red coloring on the ship, but after seeing it in person, I can\\'t believe that Tie Fighters have been around for so long without that coloring. I do like the way that it was done on the ship, especially with some varied tones and shading.\\n\\nAs other reviewers have pointed out, the details in the plastic of the ship are few and far between. The details that are present aren\\'t bad at all, but they are not particularly eye-catching or exciting. Aside from the fantastic red portion, the paint job is adequate, but I strongly dislike the matte / flat dull-tone color scheme that Hasbro is dumping on all of the new toys. The paint, in addition to Hasbro\\'s ever-increasing reliance rubbery plastics and a lack of detail, and any kind of effects or electronics really just make it look like Hasbro is cutting corners to increase their profit yield. I did not feel comfortable purchasing this at the original price of $170 + tax.\\n\\nIssues aside, the Tie Fighter\\'s biggest strength is its enormous height. It is definitely amazing to have this beast of a ship sitting on the my desk while I work. I am glad that Hasbro is experimenting with 6\"-scale ships. I would love to see more vehicles / sets that are scaled to the 6\" figures (though I hope that Hasbro figures out how to make it worth the amount they will charge for it).\\n\\n[3]. About the Figure:\\nI am adding this just in case anyone is curious about the Tie Pilot.\\nI actually love the slight redesign that this figure has, and his head is fantastically proportioned with his body, unlike the previous Tie Pilot, who\\'s head was a little too big.\\nThe figure has standard articulation that you would expect from the newer Black Series figures. (He\\'s quite a bit like the FO Stormtrooper in terms of pose-ability). For the most part, the joints all feel pretty solid and the figure seems well put-together. Some of the finer elements of the paint application (like the rivets on the helmet) are hit-and-miss, but overall, it\\'s a nice figure.\\n\\nThe two biggest issues I had with my Tie Pilot are:\\n(1). The left leg doesn\\'t do a seated position very well. The right leg can bend like a leg should, but the little leg belt is attached too low on the waist belt on the left side of the figure, and this buildup of rubbery plastic keeps the left leg from raising up much at all. I am afraid that I will break the belt trying to raise the leg all the way, so I pretty much just have him stand.\\n(2). The biggest flaw with paint that I can see is that my figure had this weird drip line going across his back. Imagine taking a tube of superglue and making a thin line across the backplate of the figure and letting it dry. That\\'s what it looks like. It is moderately noticeable if you\\'re staring at the back of the figure, but I always set my figures up to face me, so it\\'s not a deal-breaker.\\n\\n[4]. Pricing, and Other Thoughts:\\nAt $150 (including tax and shipping), it was somewhat more manageable, but really, given the quality of the ship, and just the amount of materials that went into this, I really don\\'t think that it is worth even $150. I know, it\\'s 2 feet tall, but 70% of its height is due to the wings, which just aren\\'t made of a lot of material. I think that Hasbro needs to stop taking the fan base for granted, and go back to putting effort into at least the Black Series. I\\'m hoping that the current issues with the Black Series are due to Disney wanting to make their own Force Awakens toys look more competitive by comparison. The upcoming Black Series 6\" figures (Ahsoka, Jango Fett, etc) look amazing so far, so fingers crossed that we can return to better quality.\\n\\nAs a side note, I am very displeased with all of the late-2015 Disney Star Wars toys. We have less detail, less articulation, blander paint jobs and somehow got slapped with a 40-50% price hike on the 3.75\" figures. Luckily, the 6\" figures retained their $20 price tag, but unfortunately, we\\'re paying for it with details, articulation, and paint that are unbecoming of the Black Series line, as well as cheap, rubbery, light-weight \"plastic\". (I really think we should just call it a mostly hardened rubber at this point). Regardless of how things turn out, I think that the Force Awakens figure wave(s) will always be a black spot on the Black Series, either marking the beginnings of dropped quality, or some unfortunate temporary dip in quality.\\n\\n[5]. Overview:\\nI think that this ship is great for an adult who maybe wants to create some scenes, or even play with the ship a bit (we all retain some element of youth, after all). It should be alright as a stationary toy for a child, though how durable it is remains to be seen. Clearly, the child would need to moderately responsible with their toys.\\nThis is not for most collectors. Just look at the over-abundance of the Black Series Battle of Endor set. Given how available this ship has been, I really don\\'t think that it will be a \"rare\" ship. If you\\'re an open-box collector, who likes to display stuff mostly just for your own sake, then by all means, give this ship some consideration.\\n\\nThere are several quality issues that make this ship good, but not great. There is a lot to be said for paying $180 for something, and being treated like you just paid $180 for something. I\\'ve seen better and more interesting packaging on small electronics that cost 1/5 of what this ship costs. I can\\'t imagine that Hasbro just couldn\\'t be bothered to spend 15 extra minutes and $1-2 extra to make a product package that makes you feel like you\\'re getting something really special.\\nDespite quality issues, the ship is fairly hefty, mine stands well, with minimal but expected wobbling. It is impressively large (see other user\\'s pictures) and looks especially imposing when you put some figures in front of it. The ship is still very good, and if you can get it on sale, I would say that $100-$130 would be a pretty great price point for it.\\nThe included Tie Pilot figure should not be overlooked. He really is an awesome figure.\\n\\nI plan on building some 6\"-scale dioramas, including something that will serve as a large hangar for this ship. It\\'s going to be epic.'"
      ]
     },
     "execution_count": 370,
     "metadata": {},
     "output_type": "execute_result"
    }
   ],
   "source": [
    "high_wordcount = df_review_combined[df_review_combined['wordCount'] > 1000]\n",
    "\n",
    "# display(high_wordcount.describe(include = 'all'))\n",
    "\n",
    "high_wordcount.reviewText.any()"
   ]
  },
  {
   "cell_type": "code",
   "execution_count": 371,
   "metadata": {},
   "outputs": [
    {
     "data": {
      "text/plain": [
       "0                                 Very fun\n",
       "3                             the location\n",
       "4      Very noisy and expensive breakfast \n",
       "8                            Totally happy\n",
       "12                               Not a lot\n",
       "23                       great craft kits!\n",
       "53                      Bedroom very small\n",
       "59                             Crap cubed.\n",
       "60                Gets a laugh every time.\n",
       "61                    Everything was great\n",
       "64                                     Nil\n",
       "66            Excellent spa area Good food\n",
       "79                             As expected\n",
       "81                               The price\n",
       "82                                   LOVE!\n",
       "84                               very nice\n",
       "90                       Great product. :)\n",
       "92                             Small rooms\n",
       "93                       Excellent product\n",
       "94                                    cool\n",
       "Name: reviewText, dtype: object"
      ]
     },
     "execution_count": 371,
     "metadata": {},
     "output_type": "execute_result"
    }
   ],
   "source": [
    "low_wordcount = df_review_combined[df_review_combined['wordCount'] < 6]\n",
    "\n",
    "low_wordcount['reviewText'].head(20)"
   ]
  },
  {
   "cell_type": "code",
   "execution_count": 372,
   "metadata": {},
   "outputs": [
    {
     "data": {
      "text/html": [
       "<div>\n",
       "<style scoped>\n",
       "    .dataframe tbody tr th:only-of-type {\n",
       "        vertical-align: middle;\n",
       "    }\n",
       "\n",
       "    .dataframe tbody tr th {\n",
       "        vertical-align: top;\n",
       "    }\n",
       "\n",
       "    .dataframe thead th {\n",
       "        text-align: right;\n",
       "    }\n",
       "</style>\n",
       "<table border=\"1\" class=\"dataframe\">\n",
       "  <thead>\n",
       "    <tr style=\"text-align: right;\">\n",
       "      <th></th>\n",
       "      <th>reviewText</th>\n",
       "      <th>sentiment</th>\n",
       "      <th>source</th>\n",
       "      <th>wordCount</th>\n",
       "    </tr>\n",
       "  </thead>\n",
       "  <tbody>\n",
       "    <tr>\n",
       "      <th>count</th>\n",
       "      <td>1930991</td>\n",
       "      <td>1930991</td>\n",
       "      <td>1930991</td>\n",
       "      <td>1930991.000</td>\n",
       "    </tr>\n",
       "    <tr>\n",
       "      <th>unique</th>\n",
       "      <td>1823916</td>\n",
       "      <td>2</td>\n",
       "      <td>3</td>\n",
       "      <td>nan</td>\n",
       "    </tr>\n",
       "    <tr>\n",
       "      <th>top</th>\n",
       "      <td>hot item!\\nmost children's favorite\\nMy Block ...</td>\n",
       "      <td>POSITIVE</td>\n",
       "      <td>AMAZON</td>\n",
       "      <td>nan</td>\n",
       "    </tr>\n",
       "    <tr>\n",
       "      <th>freq</th>\n",
       "      <td>94</td>\n",
       "      <td>1522980</td>\n",
       "      <td>1279293</td>\n",
       "      <td>nan</td>\n",
       "    </tr>\n",
       "    <tr>\n",
       "      <th>mean</th>\n",
       "      <td>NaN</td>\n",
       "      <td>NaN</td>\n",
       "      <td>NaN</td>\n",
       "      <td>44.458</td>\n",
       "    </tr>\n",
       "    <tr>\n",
       "      <th>std</th>\n",
       "      <td>NaN</td>\n",
       "      <td>NaN</td>\n",
       "      <td>NaN</td>\n",
       "      <td>61.226</td>\n",
       "    </tr>\n",
       "    <tr>\n",
       "      <th>min</th>\n",
       "      <td>NaN</td>\n",
       "      <td>NaN</td>\n",
       "      <td>NaN</td>\n",
       "      <td>7.000</td>\n",
       "    </tr>\n",
       "    <tr>\n",
       "      <th>25%</th>\n",
       "      <td>NaN</td>\n",
       "      <td>NaN</td>\n",
       "      <td>NaN</td>\n",
       "      <td>14.000</td>\n",
       "    </tr>\n",
       "    <tr>\n",
       "      <th>50%</th>\n",
       "      <td>NaN</td>\n",
       "      <td>NaN</td>\n",
       "      <td>NaN</td>\n",
       "      <td>25.000</td>\n",
       "    </tr>\n",
       "    <tr>\n",
       "      <th>75%</th>\n",
       "      <td>NaN</td>\n",
       "      <td>NaN</td>\n",
       "      <td>NaN</td>\n",
       "      <td>49.000</td>\n",
       "    </tr>\n",
       "    <tr>\n",
       "      <th>max</th>\n",
       "      <td>NaN</td>\n",
       "      <td>NaN</td>\n",
       "      <td>NaN</td>\n",
       "      <td>997.000</td>\n",
       "    </tr>\n",
       "  </tbody>\n",
       "</table>\n",
       "</div>"
      ],
      "text/plain": [
       "                                               reviewText sentiment   source  \\\n",
       "count                                             1930991   1930991  1930991   \n",
       "unique                                            1823916         2        3   \n",
       "top     hot item!\\nmost children's favorite\\nMy Block ...  POSITIVE   AMAZON   \n",
       "freq                                                   94   1522980  1279293   \n",
       "mean                                                  NaN       NaN      NaN   \n",
       "std                                                   NaN       NaN      NaN   \n",
       "min                                                   NaN       NaN      NaN   \n",
       "25%                                                   NaN       NaN      NaN   \n",
       "50%                                                   NaN       NaN      NaN   \n",
       "75%                                                   NaN       NaN      NaN   \n",
       "max                                                   NaN       NaN      NaN   \n",
       "\n",
       "         wordCount  \n",
       "count  1930991.000  \n",
       "unique         nan  \n",
       "top            nan  \n",
       "freq           nan  \n",
       "mean        44.458  \n",
       "std         61.226  \n",
       "min          7.000  \n",
       "25%         14.000  \n",
       "50%         25.000  \n",
       "75%         49.000  \n",
       "max        997.000  "
      ]
     },
     "metadata": {},
     "output_type": "display_data"
    },
    {
     "data": {
      "text/plain": [
       "1     My grandson loves this Mickey Mouse toy and th...\n",
       "2      Staff has no hospitality skills they are just...\n",
       "5         Noisy ground floor 1st rooms Cold male staffs\n",
       "6      The staff were surly and disinterested I was ...\n",
       "7     Sweet Little Panda Bear, it's Sooo  Adorable, ...\n",
       "9     Love these. Colors r beautiful but they need t...\n",
       "10    Great simple coloring and activity book. Bookl...\n",
       "11     Could hear noise in my room at night complain...\n",
       "13     We were put in a ground floor room This was v...\n",
       "14    Very cute. My baby loves it. The dressed are v...\n",
       "15     It s five star hotel that didn t have heating...\n",
       "16     How close it is from Euston station and Londo...\n",
       "17           Good rooms and friendly staff from day one\n",
       "18    it turns out that the message was written by g...\n",
       "20    Bought this puzzle as a Christmas gift for my ...\n",
       "21    This was a gift for my nephew. He loves playin...\n",
       "22     Clean comfy secure parking great value for mo...\n",
       "24    Beautiful arrangement of all the colors you co...\n",
       "25    Love this game! My 4 year old son enjoys playi...\n",
       "26                   No hot water on the first morning \n",
       "Name: reviewText, dtype: object"
      ]
     },
     "execution_count": 372,
     "metadata": {},
     "output_type": "execute_result"
    }
   ],
   "source": [
    "df_review = df_review_combined.copy()\n",
    "df_review = df_review.loc[((df_review['wordCount'] > 6 ) & (df_review['wordCount'] < 1000)) ]\n",
    "\n",
    "display(df_review.describe(include = 'all'))\n",
    "df_review['reviewText'].head(20)"
   ]
  },
  {
   "cell_type": "markdown",
   "metadata": {},
   "source": [
    "# source distribution\n",
    "Looking at the distribution of the source of the data, it is noticeable that most of it comes from the AMAZON dataset.This is not causing any problems now, but we may need to do something about this later."
   ]
  },
  {
   "cell_type": "code",
   "execution_count": 373,
   "metadata": {},
   "outputs": [
    {
     "data": {
      "image/png": "[encoded data removed]",
      "text/plain": [
       "<Figure size 432x288 with 1 Axes>"
      ]
     },
     "metadata": {},
     "output_type": "display_data"
    }
   ],
   "source": [
    "labels = ['MOVIE', 'AMAZON', 'HOTEL']\n",
    "sizes = [\n",
    "        len(df_review[df_review['source'] == 'MOVIE']), \n",
    "        len(df_review[df_review['source'] == 'AMAZON']),\n",
    "        len(df_review[df_review['source'] == 'HOTEL'])\n",
    "        ]\n",
    "\n",
    "\n",
    "plt.pie(sizes, labels=labels, autopct='%1.1f%%', startangle=90)\n",
    "plt.axis('equal') \n",
    "plt.title(\"Source of data\")\n",
    "plt.show()"
   ]
  },
  {
   "cell_type": "markdown",
   "metadata": {},
   "source": [
    "# Sentiment distribution\n",
    "There are many more positive reviews than negative ones. This does present a problem. It is wiser to train with an equal number of negative than positive reviews and keep the distribution even."
   ]
  },
  {
   "cell_type": "code",
   "execution_count": 374,
   "metadata": {},
   "outputs": [
    {
     "data": {
      "image/png": "[encoded data removed]",
      "text/plain": [
       "<Figure size 432x288 with 1 Axes>"
      ]
     },
     "metadata": {},
     "output_type": "display_data"
    }
   ],
   "source": [
    "labels = ['POSITIVE', 'NEGATIVE']\n",
    "sizes = [len(df_review[df_review['sentiment'] == 'POSITIVE']), \n",
    "         len(df_review[df_review['sentiment'] == 'NEGATIVE'])]\n",
    "\n",
    "plt.pie(sizes, labels=labels, autopct='%1.1f%%', startangle=90)\n",
    "plt.axis('equal') \n",
    "plt.title(\"Distribution before scaling\")\n",
    "plt.show()"
   ]
  },
  {
   "cell_type": "code",
   "execution_count": 375,
   "metadata": {},
   "outputs": [],
   "source": [
    "#Seperate in two dataframes\n",
    "df_pos = df_review.loc[df_review['sentiment'] == 'POSITIVE']\n",
    "df_neg = df_review.loc[df_review['sentiment'] == 'NEGATIVE']\n",
    "\n",
    "#Make the length of positive reviews the same as negative ones\n",
    "df_pos = df_pos[:len(df_neg)]\n",
    "\n",
    "#combine\n",
    "df_review = pd.concat([df_neg, df_pos])\n",
    "#shuffle\n",
    "df_review = df_review.sample(frac=1, random_state=42)\n",
    "#drop index\n",
    "df_review = df_review.reset_index(drop=True)"
   ]
  },
  {
   "cell_type": "code",
   "execution_count": 376,
   "metadata": {},
   "outputs": [
    {
     "data": {
      "image/png": "[encoded data removed]",
      "text/plain": [
       "<Figure size 432x288 with 1 Axes>"
      ]
     },
     "metadata": {},
     "output_type": "display_data"
    }
   ],
   "source": [
    "labels = ['POSITIVE', 'NEGATIVE']\n",
    "sizes = [len(df_review[df_review['sentiment'] == 'POSITIVE']), \n",
    "         len(df_review[df_review['sentiment'] == 'NEGATIVE'])]\n",
    "\n",
    "plt.pie(sizes, labels=labels, autopct='%1.1f%%', startangle=90)\n",
    "plt.axis('equal') \n",
    "plt.title(\"Distribution\")\n",
    "plt.show()"
   ]
  },
  {
   "cell_type": "markdown",
   "metadata": {},
   "source": [
    "# Working with text data\n",
    "According to sklearn's site on the page [working with text data](https://scikit-learn.org/stable/tutorial/text_analytics/working_with_text_data.html#extracting-features-from-text-files). Is bag of words the easiest way to recognize parts from text. To create a bag of words, CountVectorizer is used in the example. "
   ]
  },
  {
   "cell_type": "markdown",
   "metadata": {},
   "source": [
    "## Bag of words"
   ]
  },
  {
   "cell_type": "code",
   "execution_count": 377,
   "metadata": {},
   "outputs": [],
   "source": [
    "# import CountVectorizer\n",
    "from sklearn.feature_extraction.text import CountVectorizer"
   ]
  },
  {
   "cell_type": "markdown",
   "metadata": {},
   "source": [
    "Bag of words works in the following way: The input is a list of sentences. The output is a matrix with all the words that appear in these sentences. And for each sentence, a matrix with indexes referring to the words in the sentences. \n",
    "\n",
    "![bag of words](img/bagOfWord.png)\n",
    "This image explains it well. At the top you see a sentence. In the middle you see the matrix with indexes. And below the back of words. "
   ]
  },
  {
   "cell_type": "markdown",
   "metadata": {},
   "source": [
    "### Example in code\n",
    "To better understand how bag of words works, you can see an example below with 3 example sentences. "
   ]
  },
  {
   "cell_type": "code",
   "execution_count": 378,
   "metadata": {},
   "outputs": [
    {
     "data": {
      "text/plain": [
       "['another',\n",
       " 'double',\n",
       " 'have',\n",
       " 'here',\n",
       " 'in',\n",
       " 'is',\n",
       " 'sentence',\n",
       " 'test',\n",
       " 'the',\n",
       " 'this',\n",
       " 'word',\n",
       " 'you']"
      ]
     },
     "metadata": {},
     "output_type": "display_data"
    },
    {
     "data": {
      "text/plain": [
       "['Here you have a test sentence',\n",
       " 'This is another test sentence',\n",
       " 'The word sentence is double in this sentence']"
      ]
     },
     "metadata": {},
     "output_type": "display_data"
    },
    {
     "data": {
      "text/plain": [
       "array([[0, 0, 1, 1, 0, 0, 1, 1, 0, 0, 0, 1],\n",
       "       [1, 0, 0, 0, 0, 1, 1, 1, 0, 1, 0, 0],\n",
       "       [0, 1, 0, 0, 1, 1, 2, 0, 1, 1, 1, 0]], dtype=int64)"
      ]
     },
     "metadata": {},
     "output_type": "display_data"
    }
   ],
   "source": [
    "# these are the input sentences\n",
    "input_sentences = [\n",
    "    \"Here you have a test sentence\",\n",
    "    \"This is another test sentence\",\n",
    "    \"The word sentence is double in this sentence\"\n",
    "]\n",
    "\n",
    "def create_vect(vect, input_sentences):\n",
    "    #create the matrix\n",
    "    matrix = vect.fit_transform(input_sentences)\n",
    "\n",
    "    #get the bag of words\n",
    "    bag_of_words = vect.get_feature_names()\n",
    "    \n",
    "    return matrix, bag_of_words\n",
    "\n",
    "\n",
    "#create vectorizer\n",
    "vect = CountVectorizer()\n",
    "matrix, bag_of_words = create_vect(vect, input_sentences)\n",
    "\n",
    "#display\n",
    "display(bag_of_words)\n",
    "display(input_sentences)\n",
    "display(matrix.toarray())"
   ]
  },
  {
   "cell_type": "code",
   "execution_count": 379,
   "metadata": {},
   "outputs": [
    {
     "data": {
      "text/plain": [
       "array([1, 1, 1, 1, 1, 2, 4, 2, 1, 2, 1, 1], dtype=int64)"
      ]
     },
     "execution_count": 379,
     "metadata": {},
     "output_type": "execute_result"
    }
   ],
   "source": [
    "matrix_total = np.asarray(matrix[:10].sum(axis=0))[0]\n",
    "matrix_total"
   ]
  },
  {
   "cell_type": "code",
   "execution_count": 380,
   "metadata": {},
   "outputs": [
    {
     "data": {
      "image/png": "[encoded data removed]",
      "text/plain": [
       "<Figure size 1200x800 with 1 Axes>"
      ]
     },
     "metadata": {
      "needs_background": "light"
     },
     "output_type": "display_data"
    }
   ],
   "source": [
    "figure(figsize=(15, 10), dpi=80)\n",
    "\n",
    "\n",
    "x = np.sort(matrix_total)\n",
    "y = [x for _, x in sorted(zip(matrix_total,np.asarray(bag_of_words)))]\n",
    "\n",
    "\n",
    "plt.barh(y[-50:], x[-50:])\n",
    "plt.xticks(range(0,max(matrix_total)+1,1))\n",
    "plt.grid(axis=\"x\")\n",
    "plt.show()"
   ]
  },
  {
   "cell_type": "markdown",
   "metadata": {},
   "source": [
    "I created a vectorizer, matrix, and a bag of words. Now I'm going to make a function that shows some info per sentence."
   ]
  },
  {
   "cell_type": "code",
   "execution_count": 381,
   "metadata": {},
   "outputs": [
    {
     "name": "stdout",
     "output_type": "stream",
     "text": [
      "matrix: \n",
      "  (0, 6)\t2\n",
      "  (0, 9)\t1\n",
      "  (0, 5)\t1\n",
      "  (0, 8)\t1\n",
      "  (0, 10)\t1\n",
      "  (0, 1)\t1\n",
      "  (0, 4)\t1\n",
      "\n",
      "\n",
      "sentence: The word sentence is double in this sentence\n",
      "\n",
      "\n",
      "word: sentence  | bag of word index: 6  | amount: 2\n",
      "word: this  | bag of word index: 9  | amount: 1\n",
      "word: is  | bag of word index: 5  | amount: 1\n",
      "word: the  | bag of word index: 8  | amount: 1\n",
      "word: word  | bag of word index: 10  | amount: 1\n",
      "word: double  | bag of word index: 1  | amount: 1\n",
      "word: in  | bag of word index: 4  | amount: 1\n"
     ]
    }
   ],
   "source": [
    "#create a funcion to visualise the bag of words for a sentence\n",
    "def print_sentence_bag_info(bag, matrix, sentences, sent_ind):\n",
    "    print(\"matrix: \")\n",
    "    print(matrix[sent_ind])\n",
    "    print('\\n')\n",
    "    print('sentence:', sentences[sent_ind])\n",
    "    print('\\n')\n",
    "    for ind, bag_ind in enumerate(matrix[sent_ind].indices):\n",
    "        print(\"word:\",  bag[bag_ind],\n",
    "              \" | bag of word index:\", bag_ind,\n",
    "              \" | amount:\", matrix[sent_ind].data[ind] )\n",
    "        \n",
    "#test for sentence no. 2     \n",
    "print_sentence_bag_info(\n",
    "    bag_of_words,\n",
    "    matrix,\n",
    "    input_sentences,\n",
    "    2\n",
    ")"
   ]
  },
  {
   "cell_type": "markdown",
   "metadata": {},
   "source": [
    "### Real data\n",
    "Now that it is clear how bag of words works, we can apply it to the real reviews. However, we are going to use a sample of this to save time. "
   ]
  },
  {
   "cell_type": "code",
   "execution_count": 382,
   "metadata": {},
   "outputs": [
    {
     "data": {
      "text/plain": [
       "0            00\n",
       "1           000\n",
       "2           008\n",
       "3          00am\n",
       "4          00pm\n",
       "          ...  \n",
       "23523    zparos\n",
       "23524     zubat\n",
       "23525    zucker\n",
       "23526      zuid\n",
       "23527      zuma\n",
       "Length: 23528, dtype: object"
      ]
     },
     "metadata": {},
     "output_type": "display_data"
    },
    {
     "data": {
      "text/plain": [
       "0                           These do not night glow at all\n",
       "1        fox and kelley soon become bitter rivals becau...\n",
       "2        This bubble brand produces the best and most b...\n",
       "3        So so.  Baby isn't very interested in this.  M...\n",
       "4         Shower had a small leak it is a bit difficult...\n",
       "                               ...                        \n",
       "19995    My students love these.  They work with Lego b...\n",
       "19996    This is such a cute little game. My child is t...\n",
       "19997    These are absolutely horrible. Before one roll...\n",
       "19998     Hot courses served cold and when food returne...\n",
       "19999    I bought this for my granddaughter to go with ...\n",
       "Name: reviewText, Length: 20000, dtype: object"
      ]
     },
     "metadata": {},
     "output_type": "display_data"
    },
    {
     "data": {
      "text/plain": [
       "array([[0, 0, 0, ..., 0, 0, 0],\n",
       "       [0, 0, 0, ..., 0, 0, 0],\n",
       "       [0, 0, 0, ..., 0, 0, 0],\n",
       "       ...,\n",
       "       [0, 0, 0, ..., 0, 0, 0],\n",
       "       [0, 0, 0, ..., 0, 0, 0],\n",
       "       [0, 0, 0, ..., 0, 0, 0]], dtype=int64)"
      ]
     },
     "metadata": {},
     "output_type": "display_data"
    }
   ],
   "source": [
    "# size of sample of the data to save time \n",
    "N = 20000\n",
    "\n",
    "\n",
    "#create vectorizer\n",
    "vect = CountVectorizer()\n",
    "matrix, bag_of_words = create_vect(vect, df_review['reviewText'][:N])\n",
    "\n",
    "\n",
    "#display\n",
    "display(pd.Series(bag_of_words))\n",
    "display(df_review['reviewText'][:N])\n",
    "display(matrix.toarray())"
   ]
  },
  {
   "cell_type": "markdown",
   "metadata": {},
   "source": [
    "The bag of words is made. Let's look at the info of a sentence."
   ]
  },
  {
   "cell_type": "code",
   "execution_count": 383,
   "metadata": {},
   "outputs": [
    {
     "name": "stdout",
     "output_type": "stream",
     "text": [
      "matrix: \n",
      "  (0, 1329)\t1\n",
      "  (0, 1506)\t4\n",
      "  (0, 20869)\t2\n",
      "  (0, 20957)\t1\n",
      "  (0, 3326)\t1\n",
      "  (0, 3149)\t1\n",
      "  (0, 16080)\t1\n",
      "  (0, 2687)\t1\n",
      "  (0, 13573)\t1\n",
      "  (0, 3328)\t3\n",
      "  (0, 22328)\t1\n",
      "  (0, 7622)\t1\n",
      "  (0, 18330)\t1\n",
      "  (0, 22723)\t1\n",
      "  (0, 10449)\t2\n",
      "  (0, 8002)\t1\n",
      "  (0, 14344)\t1\n",
      "  (0, 1843)\t1\n",
      "  (0, 12294)\t1\n",
      "  (0, 11629)\t1\n",
      "  (0, 13763)\t1\n",
      "  (0, 12320)\t1\n",
      "  (0, 9890)\t1\n",
      "  (0, 2280)\t1\n",
      "  (0, 22754)\t1\n",
      "  (0, 3822)\t1\n",
      "  (0, 3071)\t1\n",
      "  (0, 11920)\t1\n",
      "  (0, 12390)\t1\n",
      "  (0, 21097)\t1\n",
      "  (0, 10149)\t1\n",
      "  (0, 16829)\t1\n",
      "\n",
      "\n",
      "sentence: This bubble brand produces the best and most bubbles I've ever seen (and I was a huge fan of bubbles as a little kid).  My LO has a ball watching (and catching) all the bubbles.  Huge bottle and lasts a long time.  Highly recommend.\n",
      "\n",
      "\n",
      "word: all  | bag of word index: 1329  | amount: 1\n",
      "word: and  | bag of word index: 1506  | amount: 4\n",
      "word: the  | bag of word index: 20869  | amount: 2\n",
      "word: this  | bag of word index: 20957  | amount: 1\n",
      "word: bubble  | bag of word index: 3326  | amount: 1\n",
      "word: brand  | bag of word index: 3149  | amount: 1\n",
      "word: produces  | bag of word index: 16080  | amount: 1\n",
      "word: best  | bag of word index: 2687  | amount: 1\n",
      "word: most  | bag of word index: 13573  | amount: 1\n",
      "word: bubbles  | bag of word index: 3328  | amount: 3\n",
      "word: ve  | bag of word index: 22328  | amount: 1\n",
      "word: ever  | bag of word index: 7622  | amount: 1\n",
      "word: seen  | bag of word index: 18330  | amount: 1\n",
      "word: was  | bag of word index: 22723  | amount: 1\n",
      "word: huge  | bag of word index: 10449  | amount: 2\n",
      "word: fan  | bag of word index: 8002  | amount: 1\n",
      "word: of  | bag of word index: 14344  | amount: 1\n",
      "word: as  | bag of word index: 1843  | amount: 1\n",
      "word: little  | bag of word index: 12294  | amount: 1\n",
      "word: kid  | bag of word index: 11629  | amount: 1\n",
      "word: my  | bag of word index: 13763  | amount: 1\n",
      "word: lo  | bag of word index: 12320  | amount: 1\n",
      "word: has  | bag of word index: 9890  | amount: 1\n",
      "word: ball  | bag of word index: 2280  | amount: 1\n",
      "word: watching  | bag of word index: 22754  | amount: 1\n",
      "word: catching  | bag of word index: 3822  | amount: 1\n",
      "word: bottle  | bag of word index: 3071  | amount: 1\n",
      "word: lasts  | bag of word index: 11920  | amount: 1\n",
      "word: long  | bag of word index: 12390  | amount: 1\n",
      "word: time  | bag of word index: 21097  | amount: 1\n",
      "word: highly  | bag of word index: 10149  | amount: 1\n",
      "word: recommend  | bag of word index: 16829  | amount: 1\n"
     ]
    }
   ],
   "source": [
    "print_sentence_bag_info(\n",
    "    bag_of_words,\n",
    "    matrix,\n",
    "    df_review['reviewText'][:N],\n",
    "    2\n",
    ")"
   ]
  },
  {
   "cell_type": "markdown",
   "metadata": {},
   "source": [
    "Here you can clearly see which words have which index in the bag of words and how often they occur.\n"
   ]
  },
  {
   "cell_type": "markdown",
   "metadata": {},
   "source": [
    "#### filtering bag of words\n",
    "To be more precise and create a more useful bag of words. I wrote a function that filters for numbers in words and checks if a word is in the dictionary. "
   ]
  },
  {
   "cell_type": "code",
   "execution_count": 384,
   "metadata": {},
   "outputs": [
    {
     "data": {
      "text/plain": [
       "0               aa\n",
       "1               ab\n",
       "2            aback\n",
       "3          abandon\n",
       "4        abandoned\n",
       "           ...    \n",
       "16818        zones\n",
       "16819          zoo\n",
       "16820         zoom\n",
       "16821      zooming\n",
       "16822        zooms\n",
       "Length: 16823, dtype: object"
      ]
     },
     "metadata": {},
     "output_type": "display_data"
    }
   ],
   "source": [
    "#import library's\n",
    "import enchant\n",
    "import re\n",
    "\n",
    "#create dictionary object\n",
    "dictionary = enchant.Dict(\"en_US\")\n",
    "\n",
    "#create array to store filterd words\n",
    "filterd_bag_of_words = []\n",
    "\n",
    "for word in bag_of_words:\n",
    "    #use regex to filer if word contains digets (=numeric)\n",
    "    numeric = bool(re.search(r'\\d', word))\n",
    "    \n",
    "    #use enchant to filter if word is in english dictionary\n",
    "    is_a_word = dictionary.check(word)\n",
    "    \n",
    "    #if word is in dictionary and if nog numeric add to filterd array\n",
    "    if (is_a_word and not(numeric)):\n",
    "        filterd_bag_of_words.append(word)\n",
    "        \n",
    "#display filterd words\n",
    "display(pd.Series(filterd_bag_of_words))"
   ]
  },
  {
   "cell_type": "markdown",
   "metadata": {},
   "source": [
    "In the end, I did not use this filtered bag of words. Without using it, the results are already very precise!"
   ]
  },
  {
   "cell_type": "markdown",
   "metadata": {},
   "source": [
    "#### bag of words analysis \n",
    "To better understand how the data is distributed, it is useful to visualize which words are used most often.  \n",
    "This requires the matrix to be concatenated."
   ]
  },
  {
   "cell_type": "code",
   "execution_count": 385,
   "metadata": {},
   "outputs": [
    {
     "data": {
      "text/plain": [
       "array([101,  10,   1, ...,   1,   1,   1], dtype=int64)"
      ]
     },
     "execution_count": 385,
     "metadata": {},
     "output_type": "execute_result"
    }
   ],
   "source": [
    "#sum matrix\n",
    "matrix_total = np.asarray(matrix.sum(axis=0))[0]\n",
    "matrix_total"
   ]
  },
  {
   "cell_type": "code",
   "execution_count": 423,
   "metadata": {},
   "outputs": [
    {
     "data": {
      "image/png": "[encoded data removed]",
      "text/plain": [
       "<Figure size 1200x800 with 1 Axes>"
      ]
     },
     "metadata": {
      "needs_background": "light"
     },
     "output_type": "display_data"
    }
   ],
   "source": [
    "#make figure bigger\n",
    "figure(figsize=(15, 10), dpi=80)\n",
    "\n",
    "#sort matrix by highest number\n",
    "x = np.sort(matrix_total)\n",
    "#sort words by highest number in matrix\n",
    "y = [x for _, x in sorted(zip(matrix_total,np.asarray(bag_of_words)))]\n",
    "\n",
    "#use top 50 words to make bar diagram\n",
    "plt.barh(y[-50:], x[-50:])\n",
    "#add x grid with steps of 2500\n",
    "plt.grid(axis=\"x\")\n",
    "plt.xticks(range(0,max(matrix_total),2500))\n",
    "\n",
    "plt.show()"
   ]
  },
  {
   "cell_type": "code",
   "execution_count": 387,
   "metadata": {
    "scrolled": true
   },
   "outputs": [],
   "source": [
    "#make copy of review df\n",
    "negative = df_review[:N]\n",
    "#get NEGATIVE\n",
    "negative = negative[negative['sentiment'] == 'NEGATIVE']\n",
    "#make matrix with excisting vectorizer (words)\n",
    "neg_matrix = vect.transform(negative['reviewText'])\n",
    "#sum matrix\n",
    "neg_matrix = np.asarray(neg_matrix.sum(axis=0))[0]\n",
    "\n",
    "\n",
    "#make copy of review df\n",
    "positive = df_review[:N]\n",
    "#get POSITIVE\n",
    "positive = positive[positive['sentiment'] == 'POSITIVE']\n",
    "#make matrix with excisting vectorizer (words)\n",
    "pos_matrix = vect.transform(positive['reviewText'])\n",
    "#sum matrix\n",
    "pos_matrix = np.asarray(pos_matrix.sum(axis=0))[0]"
   ]
  },
  {
   "cell_type": "code",
   "execution_count": 420,
   "metadata": {},
   "outputs": [
    {
     "name": "stderr",
     "output_type": "stream",
     "text": [
      "<ipython-input-420-c649c0987bcb>:24: UserWarning: FixedFormatter should only be used together with FixedLocator\n",
      "  ax.set_yticklabels(labels)\n"
     ]
    },
    {
     "data": {
      "image/png": "[encoded data removed]",
      "text/plain": [
       "<Figure size 1080x1440 with 1 Axes>"
      ]
     },
     "metadata": {
      "needs_background": "light"
     },
     "output_type": "display_data"
    }
   ],
   "source": [
    "#sort words by highest number in total matrix\n",
    "labels = [x for _, x in sorted(zip(matrix_total,np.asarray(bag_of_words)))][-50:]\n",
    "\n",
    "#sort pos and neg counts by highest number in total matrix\n",
    "pos_counts = [x for _, x in sorted(zip(matrix_total,np.asarray(pos_matrix)))][-50:]\n",
    "neg_counts = [x for _, x in sorted(zip(matrix_total,np.asarray(neg_matrix)))][-50:]\n",
    "\n",
    "x = np.arange(len(labels))  # the label locations\n",
    "width = 0.35  # the width of the bars\n",
    "\n",
    "fig, ax = plt.subplots()\n",
    "\n",
    "#size\n",
    "fig.set_figheight(20)\n",
    "fig.set_figwidth(15)\n",
    "\n",
    "\n",
    "negative = ax.barh(x + width/2, neg_counts, width, label='Negative', color= 'red')\n",
    "positive = ax.barh(x - width/2, pos_counts, width, label='Positive', color= 'green')\n",
    "\n",
    "# Add some text for labels, title and custom x-axis tick labels, etc.\n",
    "ax.set_title('Word count by sentiment')\n",
    "ax.set_ylabel('Words')\n",
    "ax.set_yticklabels(labels)\n",
    "ax.set_xlabel('Count')\n",
    "ax.set_yticks(x)\n",
    "ax.legend()\n",
    "\n",
    "\n",
    "plt.xticks(range(0,max(neg_counts),2500))\n",
    "plt.grid(axis=\"x\")\n",
    "\n",
    "fig.tight_layout()\n",
    "#make copy of review df\n",
    "negative = df_review[:N]\n",
    "#get NEGATIVE\n",
    "negative = negative[negative['sentiment'] == 'NEGATIVE']\n",
    "#make matrix with excisting vectorizer (words)\n",
    "neg_matrix = vect.transform(negative['reviewText'])\n",
    "#sum matrix\n",
    "neg_matrix = np.asarray(neg_matrix.sum(axis=0))[0]plt.show()"
   ]
  },
  {
   "cell_type": "code",
   "execution_count": 404,
   "metadata": {
    "scrolled": true
   },
   "outputs": [],
   "source": [
    "#make copy of review df\n",
    "hotel = df_review[:N]\n",
    "#get HOTEL\n",
    "hotel = hotel[hotel['source'] == 'HOTEL']\n",
    "#make matrix with excisting vectorizer (words)\n",
    "hotel = vect.transform(hotel['reviewText'])\n",
    "#sum matrix\n",
    "hotel = np.asarray(hotel.sum(axis=0))[0]\n",
    "\n",
    "#make copy of review df\n",
    "amazon = df_review[:N]\n",
    "#get AMAZON\n",
    "amazon = amazon[amazon['source'] == 'AMAZON']\n",
    "#make matrix with excisting vectorizer (words)\n",
    "amazon = vect.transform(amazon['reviewText'])\n",
    "#sum matrix\n",
    "amazon = np.asarray(amazon.sum(axis=0))[0]\n",
    "\n",
    "#make copy of review df\n",
    "movie = df_review[:N]\n",
    "#get HOTEL\n",
    "movie = movie[movie['source'] == 'HOTEL']\n",
    "#make matrix with excisting vectorizer (words)\n",
    "movie = vect.transform(movie['reviewText'])\n",
    "#sum matrix\n",
    "movie = np.asarray(movie.sum(axis=0))[0]"
   ]
  },
  {
   "cell_type": "code",
   "execution_count": 421,
   "metadata": {},
   "outputs": [
    {
     "name": "stderr",
     "output_type": "stream",
     "text": [
      "<ipython-input-421-d848c8509717>:26: UserWarning: FixedFormatter should only be used together with FixedLocator\n",
      "  ax.set_yticklabels(labels)\n"
     ]
    },
    {
     "data": {
      "image/png": "[encoded data removed]",
      "text/plain": [
       "<Figure size 1080x1440 with 1 Axes>"
      ]
     },
     "metadata": {
      "needs_background": "light"
     },
     "output_type": "display_data"
    }
   ],
   "source": [
    "#Order labels by total count\n",
    "labels = [x for _, x in sorted(zip(matrix_total,np.asarray(bag_of_words)))][-50:]\n",
    "\n",
    "#Order pos and neg counts by total count\n",
    "hot_counts = [x for _, x in sorted(zip(matrix_total,np.asarray(hotel)))][-50:]\n",
    "ama_counts = [x for _, x in sorted(zip(matrix_total,np.asarray(amazon)))][-50:]\n",
    "mov_counts = [x for _, x in sorted(zip(matrix_total,np.asarray(movie)))][-50:]\n",
    "\n",
    "x = np.arange(len(labels))  # the label locations\n",
    "width = 0.25  # the width of the bars\n",
    "\n",
    "fig, ax = plt.subplots()\n",
    "\n",
    "#size\n",
    "fig.set_figheight(20)\n",
    "fig.set_figwidth(15)\n",
    "\n",
    "\n",
    "amazon_bar = ax.barh(x + width, ama_counts, width, label='amazon', color= 'red')\n",
    "hotel_bar = ax.barh(x , hot_counts, width, label='hotel', color= 'blue')\n",
    "movie_bar = ax.barh(x - width, mov_counts, width, label='movie', color= 'green')\n",
    "\n",
    "# Add some text for labels, title and custom x-axis tick labels, etc.\n",
    "ax.set_title('Word count by sentiment')\n",
    "ax.set_ylabel('Words')\n",
    "ax.set_yticklabels(labels)\n",
    "ax.set_xlabel('Count')\n",
    "ax.set_yticks(x)\n",
    "ax.legend()\n",
    "\n",
    "plt.xticks(range(0,max(ama_counts),2500))\n",
    "plt.grid(axis=\"x\")\n",
    "\n",
    "fig.tight_layout()\n",
    "\n",
    "plt.show()"
   ]
  },
  {
   "cell_type": "markdown",
   "metadata": {},
   "source": [
    "# Modeling phase\n",
    "To start machine learning, we must first split the data into test and training data."
   ]
  },
  {
   "cell_type": "code",
   "execution_count": 389,
   "metadata": {},
   "outputs": [],
   "source": [
    "from sklearn.model_selection import train_test_split\n",
    "\n",
    "matrix_train, matrix_test, df_train, df_test =  train_test_split(matrix,\n",
    "                                                                 df_review[:N],\n",
    "                                                                 test_size=0.33,\n",
    "                                                                 random_state=42)\n",
    "\n",
    "sentiment_train = np.array(df_train['sentiment'])\n",
    "review_train = np.array(df_train['reviewText'])\n",
    "source_train = np.array(df_train['source'])\n",
    "\n",
    "sentiment_test = np.array(df_test['sentiment'])\n",
    "review_test = np.array(df_test['reviewText'])\n",
    "source_test = np.array(df_test['source'])\n",
    "\n"
   ]
  },
  {
   "cell_type": "code",
   "execution_count": 390,
   "metadata": {},
   "outputs": [
    {
     "data": {
      "text/plain": [
       "SVC(kernel='linear')"
      ]
     },
     "execution_count": 390,
     "metadata": {},
     "output_type": "execute_result"
    }
   ],
   "source": [
    "from sklearn import svm\n",
    "\n",
    "clf_svm = svm.SVC(kernel='linear')\n",
    "\n",
    "clf_svm.fit(matrix_train, sentiment_train)"
   ]
  },
  {
   "cell_type": "code",
   "execution_count": 391,
   "metadata": {},
   "outputs": [
    {
     "name": "stdout",
     "output_type": "stream",
     "text": [
      "custom sentences:\n",
      "sentence: I am totally not happy with this\n",
      "prediction: NEGATIVE\n",
      "sentence: It tasted very good. I would like to eat here more often\n",
      "prediction: POSITIVE\n",
      "sentence: do not buy this\n",
      "prediction: NEGATIVE\n",
      "sentence: I totally agree with this politician. He is clear and honest\n",
      "prediction: POSITIVE\n",
      "sentence: this is really nonsense, this was of no use to us\n",
      "prediction: NEGATIVE\n",
      "\n",
      "from dataset:\n",
      "sentence: not soft and cuddley at all and expensive for what you get. we returned it\n",
      "prediction: NEGATIVE actual: NEGATIVE\n",
      "sentence: Fantastic concept and works great! The staking cups are a great design. My 10 month old loves it and no longer stands in the tub because she is so engaged with spout!\n",
      "prediction: POSITIVE actual: POSITIVE\n",
      "sentence:  noise level from upper level resident and street noise level\n",
      "prediction: NEGATIVE actual: NEGATIVE\n",
      "sentence:  We booked two rooms adjoined but did not realise that we had booked old tired rooms looked at title pics and thought that is what we were getting possibly a booking com issue and our 13 year old son was not happy with his room and felt unconformable also the toilet was not clean in one of our initial rooms we spoke to front desk and they were very helpful and happy to upgrade for another 25 for each room the issue was that they were not connected so my wife had to be with our son and I was on the opposite side of the corridor the new rooms 602 603 were really nice and modern and very clean the only issue was the shower which was more of a trickle and for some strange reason the lifts were freezing cold It was a hassle and I probably would not want to go back but in fairness my wife really liked the new rooms and she would go back The front desk staff were very good and could not have been more helpful \n",
      "prediction: NEGATIVE actual: NEGATIVE\n",
      "sentence: Love them, my grandson wants to order more.\n",
      "prediction: POSITIVE actual: POSITIVE\n"
     ]
    }
   ],
   "source": [
    "def predict_custom_review(review):\n",
    "    if(type(review) == int):\n",
    "        vector = vect.transform([df_review['reviewText'][review]])        \n",
    "        result = clf_svm.predict(vector)\n",
    "        return \"sentence: \" + df_review['reviewText'][review] + '\\nprediction: ' + result[0] + ' actual: ' + df_review['sentiment'][review]\n",
    "        return review\n",
    "    elif(type(review) == str):\n",
    "        vector = vect.transform([review])\n",
    "        result = clf_svm.predict(vector)\n",
    "        return \"sentence: \" + review + '\\nprediction: ' + result[0]\n",
    "    else:\n",
    "        return \"Please use an index or custom sentence\"\n",
    "\n",
    "print('custom sentences:')\n",
    "print(predict_custom_review(\"I am totally not happy with this\"))\n",
    "print(predict_custom_review(\"It tasted very good. I would like to eat here more often\"))\n",
    "print(predict_custom_review(\"do not buy this\"))\n",
    "print(predict_custom_review(\"I totally agree with this politician. He is clear and honest\"))\n",
    "print(predict_custom_review(\"this is really nonsense, this was of no use to us\"))\n",
    "\n",
    "print(\"\\nfrom dataset:\")\n",
    "for i in range(5):\n",
    "    print(predict_custom_review(N+i))"
   ]
  },
  {
   "cell_type": "code",
   "execution_count": 392,
   "metadata": {},
   "outputs": [],
   "source": [
    "# import pickle\n",
    "# with open('PICKLE_NAME.pkl', 'wb') as f:\n",
    "#     pickle.dump(clf_svm, f)\n",
    "\n",
    "# with open('PICKLE_NAME.pkl', 'rb') as f:\n",
    "#     clf_svm = pickle.load(f)\n",
    "\n"
   ]
  },
  {
   "cell_type": "code",
   "execution_count": 393,
   "metadata": {},
   "outputs": [
    {
     "data": {
      "text/plain": [
       "0.8903030303030303"
      ]
     },
     "execution_count": 393,
     "metadata": {},
     "output_type": "execute_result"
    }
   ],
   "source": [
    "from sklearn.metrics import accuracy_score\n",
    "\n",
    "pred = clf_svm.predict(matrix_test)\n",
    "\n",
    "accuracy_score(pred , sentiment_test)"
   ]
  },
  {
   "cell_type": "code",
   "execution_count": 394,
   "metadata": {},
   "outputs": [
    {
     "data": {
      "text/plain": [
       "(array([  14,   28,   40,   46,   47,   53,   56,   84,  103,  106,  113,\n",
       "         138,  141,  145,  146,  155,  162,  169,  179,  192,  199,  209,\n",
       "         215,  217,  225,  228,  234,  238,  247,  249,  252,  275,  289,\n",
       "         294,  296,  308,  309,  317,  331,  340,  349,  373,  379,  382,\n",
       "         395,  403,  407,  411,  416,  422,  425,  438,  460,  464,  473,\n",
       "         487,  491,  502,  512,  516,  542,  551,  559,  562,  567,  570,\n",
       "         574,  578,  589,  611,  629,  633,  658,  662,  663,  680,  681,\n",
       "         701,  704,  705,  720,  723,  745,  750,  758,  766,  778,  782,\n",
       "         783,  784,  792,  822,  833,  846,  853,  854,  856,  860,  868,\n",
       "         870,  893,  898,  919,  931,  939,  945,  953,  957,  963,  967,\n",
       "         968,  980,  994, 1013, 1018, 1034, 1039, 1085, 1086, 1087, 1103,\n",
       "        1117, 1135, 1149, 1184, 1186, 1200, 1210, 1260, 1268, 1273, 1291,\n",
       "        1296, 1301, 1302, 1303, 1331, 1338, 1339, 1347, 1362, 1366, 1367,\n",
       "        1374, 1377, 1383, 1384, 1389, 1394, 1414, 1418, 1424, 1429, 1441,\n",
       "        1443, 1447, 1456, 1459, 1461, 1489, 1509, 1513, 1532, 1548, 1550,\n",
       "        1555, 1569, 1580, 1586, 1609, 1618, 1619, 1624, 1633, 1635, 1641,\n",
       "        1654, 1670, 1682, 1684, 1708, 1727, 1738, 1756, 1762, 1773, 1777,\n",
       "        1784, 1789, 1806, 1813, 1815, 1818, 1824, 1828, 1834, 1847, 1865,\n",
       "        1868, 1882, 1885, 1887, 1899, 1907, 1908, 1917, 1918, 1919, 1920,\n",
       "        1932, 1946, 1969, 1971, 1972, 1974, 1981, 1983, 1998, 1999, 2009,\n",
       "        2026, 2048, 2049, 2050, 2056, 2063, 2064, 2071, 2083, 2086, 2088,\n",
       "        2089, 2102, 2107, 2122, 2133, 2151, 2156, 2169, 2172, 2173, 2176,\n",
       "        2198, 2202, 2220, 2221, 2232, 2244, 2253, 2260, 2265, 2268, 2278,\n",
       "        2284, 2293, 2295, 2296, 2299, 2309, 2331, 2335, 2352, 2356, 2367,\n",
       "        2368, 2373, 2377, 2383, 2388, 2390, 2437, 2442, 2444, 2446, 2451,\n",
       "        2466, 2476, 2497, 2498, 2508, 2514, 2516, 2517, 2529, 2531, 2550,\n",
       "        2561, 2562, 2575, 2576, 2577, 2578, 2583, 2588, 2599, 2602, 2620,\n",
       "        2641, 2659, 2670, 2672, 2686, 2702, 2708, 2727, 2734, 2746, 2778,\n",
       "        2780, 2786, 2795, 2799, 2812, 2815, 2818, 2822, 2828, 2833, 2836,\n",
       "        2855, 2863, 2870, 2872, 2886, 2899, 2934, 2942, 2951, 2963, 2978,\n",
       "        2979, 2992, 3005, 3034, 3035, 3038, 3048, 3052, 3075, 3082, 3085,\n",
       "        3093, 3126, 3127, 3130, 3135, 3140, 3147, 3153, 3169, 3171, 3197,\n",
       "        3206, 3219, 3220, 3253, 3272, 3274, 3282, 3296, 3327, 3353, 3358,\n",
       "        3359, 3366, 3367, 3377, 3388, 3392, 3403, 3423, 3426, 3432, 3442,\n",
       "        3449, 3464, 3468, 3469, 3471, 3475, 3486, 3503, 3512, 3539, 3545,\n",
       "        3549, 3559, 3564, 3584, 3586, 3597, 3605, 3606, 3612, 3617, 3633,\n",
       "        3634, 3638, 3652, 3657, 3679, 3685, 3688, 3722, 3728, 3742, 3746,\n",
       "        3754, 3756, 3759, 3770, 3774, 3784, 3785, 3789, 3812, 3816, 3827,\n",
       "        3850, 3861, 3865, 3868, 3870, 3871, 3876, 3885, 3887, 3900, 3910,\n",
       "        3918, 3921, 3936, 3940, 3961, 3976, 3982, 3986, 3996, 4016, 4040,\n",
       "        4048, 4053, 4054, 4059, 4062, 4063, 4064, 4079, 4090, 4095, 4097,\n",
       "        4102, 4108, 4109, 4116, 4117, 4119, 4123, 4126, 4127, 4135, 4136,\n",
       "        4143, 4149, 4153, 4156, 4164, 4187, 4202, 4215, 4216, 4219, 4229,\n",
       "        4252, 4266, 4274, 4275, 4295, 4314, 4320, 4326, 4332, 4356, 4361,\n",
       "        4369, 4373, 4376, 4395, 4396, 4399, 4407, 4424, 4427, 4430, 4440,\n",
       "        4448, 4458, 4459, 4476, 4477, 4480, 4485, 4486, 4489, 4492, 4497,\n",
       "        4498, 4505, 4510, 4518, 4535, 4538, 4542, 4550, 4570, 4574, 4578,\n",
       "        4589, 4591, 4599, 4600, 4611, 4614, 4629, 4630, 4632, 4636, 4666,\n",
       "        4674, 4679, 4685, 4694, 4701, 4704, 4707, 4711, 4715, 4752, 4761,\n",
       "        4769, 4773, 4790, 4797, 4810, 4816, 4834, 4854, 4879, 4884, 4889,\n",
       "        4896, 4905, 4925, 4940, 4960, 4974, 4993, 5005, 5017, 5027, 5042,\n",
       "        5053, 5056, 5061, 5086, 5099, 5106, 5112, 5113, 5130, 5137, 5143,\n",
       "        5147, 5162, 5172, 5182, 5192, 5197, 5215, 5238, 5240, 5262, 5264,\n",
       "        5272, 5276, 5280, 5283, 5294, 5305, 5326, 5328, 5330, 5341, 5345,\n",
       "        5353, 5357, 5367, 5371, 5377, 5378, 5401, 5403, 5412, 5424, 5427,\n",
       "        5432, 5446, 5453, 5456, 5467, 5484, 5488, 5491, 5521, 5523, 5535,\n",
       "        5547, 5569, 5572, 5575, 5581, 5582, 5587, 5612, 5619, 5624, 5632,\n",
       "        5635, 5642, 5656, 5673, 5690, 5697, 5698, 5699, 5702, 5716, 5731,\n",
       "        5747, 5770, 5776, 5782, 5794, 5798, 5807, 5809, 5823, 5833, 5842,\n",
       "        5850, 5856, 5860, 5872, 5882, 5891, 5925, 5943, 5972, 5978, 5988,\n",
       "        5993, 6003, 6016, 6019, 6047, 6060, 6061, 6062, 6076, 6078, 6079,\n",
       "        6092, 6095, 6102, 6111, 6117, 6123, 6129, 6138, 6145, 6154, 6163,\n",
       "        6166, 6175, 6189, 6193, 6196, 6202, 6207, 6231, 6232, 6240, 6251,\n",
       "        6253, 6261, 6307, 6323, 6330, 6334, 6355, 6361, 6362, 6370, 6374,\n",
       "        6390, 6403, 6418, 6427, 6430, 6447, 6456, 6458, 6463, 6464, 6482,\n",
       "        6483, 6487, 6492, 6538, 6543, 6555, 6556, 6594, 6595], dtype=int64),)"
      ]
     },
     "execution_count": 394,
     "metadata": {},
     "output_type": "execute_result"
    }
   ],
   "source": [
    "misclassified = np.where(pred != sentiment_test)\n",
    "misclassified"
   ]
  },
  {
   "cell_type": "code",
   "execution_count": 395,
   "metadata": {
    "scrolled": false
   },
   "outputs": [
    {
     "name": "stdout",
     "output_type": "stream",
     "text": [
      "review:  in my eyes NOTHING everything was excellent 100 per cent excellent \n",
      "actual: NEGATIVE  | misclassified as: POSITIVE \n",
      "\n",
      "review:  Felt welcome service excellent Would definitely book there again \n",
      "actual: POSITIVE  | misclassified as: NEGATIVE \n",
      "\n",
      "review: Just the right hight for my almost 3 year old, but not too small--should last us years of fun. Magnetic white board on one side. Read a review on a Melissa and Doug easel that said the chalkboard side didn't work, that is partly why I picked this one... the chalk board side works great! \n",
      "actual: POSITIVE  | misclassified as: NEGATIVE \n",
      "\n",
      "review:  Accessibilty to the venue Roads were blocked \n",
      "actual: NEGATIVE  | misclassified as: POSITIVE \n",
      "\n",
      "review:  Too far away from city centre and not so clean and beautiful to be a 4 stars \n",
      "actual: POSITIVE  | misclassified as: NEGATIVE \n",
      "\n"
     ]
    }
   ],
   "source": [
    "\n",
    "\n",
    "misclassified_sentiment_array = sentiment_test[misclassified[0]]\n",
    "misclassified_review_array = review_test[misclassified[0]]\n",
    "misclassified_source_array = source_test[misclassified[0]]\n",
    "misclassified_pred_array = pred[misclassified[0]]\n",
    "\n",
    "for index in range(5):\n",
    "    print( 'review:',\n",
    "          misclassified_review_array[index],\n",
    "          '\\nactual:',\n",
    "          misclassified_sentiment_array[index],\n",
    "          ' | misclassified as:',\n",
    "          misclassified_pred_array[index],\n",
    "          '\\n'\n",
    "         )"
   ]
  },
  {
   "cell_type": "code",
   "execution_count": 399,
   "metadata": {},
   "outputs": [
    {
     "name": "stdout",
     "output_type": "stream",
     "text": [
      "Movie: 91\n",
      "amazon: 424\n",
      "hotel: 209\n",
      "total: 724\n"
     ]
    }
   ],
   "source": [
    "print(\"Movie:\", np.count_nonzero(misclassified_source_array == \"MOVIE\"))\n",
    "print(\"amazon:\", np.count_nonzero(misclassified_source_array == \"AMAZON\"))\n",
    "print(\"hotel:\", np.count_nonzero(misclassified_source_array == \"HOTEL\"))\n",
    "print(\"total:\", len(misclassified_source_array))"
   ]
  },
  {
   "cell_type": "code",
   "execution_count": 401,
   "metadata": {},
   "outputs": [
    {
     "data": {
      "image/png": "[encoded data removed]",
      "text/plain": [
       "<Figure size 432x288 with 1 Axes>"
      ]
     },
     "metadata": {},
     "output_type": "display_data"
    }
   ],
   "source": [
    "labels = ['MOVIE', 'AMAZON', 'HOTEL']\n",
    "sizes = [\n",
    "        np.count_nonzero(misclassified_source_array == \"MOVIE\"), \n",
    "        np.count_nonzero(misclassified_source_array == \"AMAZON\"),\n",
    "        np.count_nonzero(misclassified_source_array == \"HOTEL\")\n",
    "        ]\n",
    "\n",
    "\n",
    "plt.pie(sizes, labels=labels, autopct='%1.1f%%', startangle=90)\n",
    "plt.axis('equal') \n",
    "plt.title(\"Source of data\")\n",
    "plt.show()"
   ]
  }
 ],
 "metadata": {
  "kernelspec": {
   "display_name": "Python 3",
   "language": "python",
   "name": "python3"
  },
  "language_info": {
   "codemirror_mode": {
    "name": "ipython",
    "version": 3
   },
   "file_extension": ".py",
   "mimetype": "text/x-python",
   "name": "python",
   "nbconvert_exporter": "python",
   "pygments_lexer": "ipython3",
   "version": "3.8.5"
  }
 },
 "nbformat": 4,
 "nbformat_minor": 4
}
