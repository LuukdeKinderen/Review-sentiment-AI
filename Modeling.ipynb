{
 "cells": [
  {
   "cell_type": "markdown",
   "metadata": {},
   "source": [
    "# Modeling\n",
    "## Project\n",
    "Several sites allow you to post a comment or opinion about a product, place, or event. Think of Facebook, Instagram, Youtube, or Reddit. However, on not all of these sites, you can see at a glance how many of these comments are written with a positive or negative mindset. \n",
    "\n",
    "For many people or companies, it is useful to know what percentage of the reactions are positive or negative. You can't always tell this by looking at a Like system. The main question you should be able to answer with the help of this project is; Is a piece of text positive or negative?\n",
    "## Document goal\n",
    "In this paper, I want to show the best model to classify text sentiment. I am going to look at how accurate the models are and substantiate why models achieve these scores. Then I will choose the best one to use for the deployment phase. "
   ]
  },
  {
   "cell_type": "code",
   "execution_count": 1,
   "metadata": {},
   "outputs": [],
   "source": [
    "import pandas as pd\n",
    "import numpy as np\n",
    "import matplotlib.pyplot as plt\n",
    "import pickle"
   ]
  },
  {
   "cell_type": "code",
   "execution_count": 33,
   "metadata": {},
   "outputs": [],
   "source": [
    "with open('obj/object_array.pkl', 'rb') as f:\n",
    "    vect, matrix, bag_of_words, df_combined = pickle.load(f)  \n"
   ]
  },
  {
   "cell_type": "code",
   "execution_count": 4,
   "metadata": {},
   "outputs": [],
   "source": [
    "N = 5000 #sample\n",
    "\n",
    "from sklearn.model_selection import train_test_split\n",
    "\n",
    "matrix_train, matrix_test, df_train, df_test =  train_test_split(matrix[:N],\n",
    "                                                                 df_combined[:N],\n",
    "                                                                 test_size=0.33,\n",
    "                                                                 random_state=42)\n",
    "\n",
    "sentiment_train = np.array(df_train['sentiment'])\n",
    "review_train = np.array(df_train['reviewText'])\n",
    "source_train = np.array(df_train['source'])\n",
    "\n",
    "sentiment_test = np.array(df_test['sentiment'])\n",
    "review_test = np.array(df_test['reviewText'])\n",
    "source_test = np.array(df_test['source'])"
   ]
  },
  {
   "cell_type": "code",
   "execution_count": 10,
   "metadata": {},
   "outputs": [
    {
     "name": "stdout",
     "output_type": "stream",
     "text": [
      "Wall time: 3.79 s\n"
     ]
    },
    {
     "data": {
      "text/plain": [
       "0.6636363636363637"
      ]
     },
     "execution_count": 10,
     "metadata": {},
     "output_type": "execute_result"
    }
   ],
   "source": [
    "%%time\n",
    "from sklearn.naive_bayes import GaussianNB\n",
    "clf_nb = GaussianNB()\n",
    "clf_nb.fit(matrix_train.toarray(), sentiment_train)"
   ]
  },
  {
   "cell_type": "code",
   "execution_count": 11,
   "metadata": {},
   "outputs": [
    {
     "name": "stdout",
     "output_type": "stream",
     "text": [
      "Wall time: 1.28 s\n"
     ]
    },
    {
     "data": {
      "text/plain": [
       "0.8472727272727273"
      ]
     },
     "execution_count": 11,
     "metadata": {},
     "output_type": "execute_result"
    }
   ],
   "source": [
    "%%time\n",
    "from sklearn import svm\n",
    "clf_svm_lin = svm.SVC(kernel='linear')\n",
    "clf_svm_lin.fit(matrix_train, sentiment_train)"
   ]
  },
  {
   "cell_type": "code",
   "execution_count": 12,
   "metadata": {},
   "outputs": [
    {
     "name": "stdout",
     "output_type": "stream",
     "text": [
      "Wall time: 2.47 s\n"
     ]
    },
    {
     "data": {
      "text/plain": [
       "0.6187878787878788"
      ]
     },
     "execution_count": 12,
     "metadata": {},
     "output_type": "execute_result"
    }
   ],
   "source": [
    "%%time\n",
    "clf_svm_poly = svm.SVC(kernel='poly')\n",
    "clf_svm_poly.fit(matrix_train, sentiment_train)"
   ]
  },
  {
   "cell_type": "code",
   "execution_count": 13,
   "metadata": {},
   "outputs": [
    {
     "name": "stdout",
     "output_type": "stream",
     "text": [
      "Wall time: 2.04 s\n"
     ]
    },
    {
     "data": {
      "text/plain": [
       "0.8484848484848485"
      ]
     },
     "execution_count": 13,
     "metadata": {},
     "output_type": "execute_result"
    }
   ],
   "source": [
    "%%time\n",
    "clf_svm_rbf = svm.SVC(kernel='rbf')\n",
    "clf_svm_rbf.fit(matrix_train, sentiment_train)"
   ]
  },
  {
   "cell_type": "code",
   "execution_count": 14,
   "metadata": {
    "scrolled": false
   },
   "outputs": [
    {
     "name": "stdout",
     "output_type": "stream",
     "text": [
      "Classification report for classifier GaussianNB():\n",
      "              precision    recall  f1-score   support\n",
      "\n",
      "    NEGATIVE       0.73      0.50      0.59       810\n",
      "    POSITIVE       0.63      0.82      0.71       840\n",
      "\n",
      "    accuracy                           0.66      1650\n",
      "   macro avg       0.68      0.66      0.65      1650\n",
      "weighted avg       0.68      0.66      0.65      1650\n",
      "\n",
      "\n",
      "Classification report for classifier SVC(kernel='linear'):\n",
      "              precision    recall  f1-score   support\n",
      "\n",
      "    NEGATIVE       0.84      0.85      0.84       810\n",
      "    POSITIVE       0.85      0.85      0.85       840\n",
      "\n",
      "    accuracy                           0.85      1650\n",
      "   macro avg       0.85      0.85      0.85      1650\n",
      "weighted avg       0.85      0.85      0.85      1650\n",
      "\n",
      "\n",
      "Classification report for classifier SVC(kernel='poly'):\n",
      "              precision    recall  f1-score   support\n",
      "\n",
      "    NEGATIVE       0.86      0.27      0.41       810\n",
      "    POSITIVE       0.58      0.96      0.72       840\n",
      "\n",
      "    accuracy                           0.62      1650\n",
      "   macro avg       0.72      0.61      0.56      1650\n",
      "weighted avg       0.71      0.62      0.57      1650\n",
      "\n",
      "\n",
      "Classification report for classifier SVC():\n",
      "              precision    recall  f1-score   support\n",
      "\n",
      "    NEGATIVE       0.80      0.92      0.86       810\n",
      "    POSITIVE       0.91      0.78      0.84       840\n",
      "\n",
      "    accuracy                           0.85      1650\n",
      "   macro avg       0.86      0.85      0.85      1650\n",
      "weighted avg       0.86      0.85      0.85      1650\n",
      "\n",
      "\n"
     ]
    },
    {
     "data": {
      "image/png": "[encoded data removed]",
      "text/plain": [
       "<Figure size 432x288 with 2 Axes>"
      ]
     },
     "metadata": {
      "needs_background": "light"
     },
     "output_type": "display_data"
    },
    {
     "data": {
      "image/png": "[encoded data removed]",
      "text/plain": [
       "<Figure size 432x288 with 2 Axes>"
      ]
     },
     "metadata": {
      "needs_background": "light"
     },
     "output_type": "display_data"
    },
    {
     "data": {
      "image/png": "[encoded data removed]",
      "text/plain": [
       "<Figure size 432x288 with 2 Axes>"
      ]
     },
     "metadata": {
      "needs_background": "light"
     },
     "output_type": "display_data"
    },
    {
     "data": {
      "image/png": "[encoded data removed]",
      "text/plain": [
       "<Figure size 432x288 with 2 Axes>"
      ]
     },
     "metadata": {
      "needs_background": "light"
     },
     "output_type": "display_data"
    }
   ],
   "source": [
    "from sklearn.metrics import classification_report\n",
    "from sklearn.metrics import plot_confusion_matrix\n",
    "\n",
    "clfs = [clf_nb, clf_svm_lin, clf_svm_poly, clf_svm_rbf]\n",
    "\n",
    "\n",
    "for clf, pred  in zip(clfs,preds):    \n",
    "    if(type(clf) == type(GaussianNB())):\n",
    "        matrix = matrix_test.toarray()\n",
    "    else:\n",
    "        matrix = matrix_test\n",
    "    \n",
    "    pred = clf.predict(matrix)\n",
    "    \n",
    "    print(f\"Classification report for classifier {clf}:\\n\"\n",
    "    f\"{classification_report(sentiment_test, pred)}\\n\")\n",
    "    \n",
    "    disp = plot_confusion_matrix(clf, matrix, sentiment_test,\n",
    "                          cmap=plt.cm.Blues,\n",
    "                          normalize=None\n",
    "                     )\n",
    "    disp.ax_.set_title(clf)\n",
    "plt.show()"
   ]
  },
  {
   "cell_type": "code",
   "execution_count": 15,
   "metadata": {},
   "outputs": [],
   "source": [
    "from sklearn.model_selection import GridSearchCV"
   ]
  },
  {
   "cell_type": "code",
   "execution_count": 29,
   "metadata": {},
   "outputs": [
    {
     "name": "stdout",
     "output_type": "stream",
     "text": [
      "Wall time: 31min 33s\n"
     ]
    },
    {
     "data": {
      "text/plain": [
       "GridSearchCV(estimator=SVC(),\n",
       "             param_grid={'C': array([1.00000000e-02, 2.15443469e-01, 4.64158883e+00, 1.00000000e+02,\n",
       "       2.15443469e+03, 4.64158883e+04, 1.00000000e+06, 2.15443469e+07,\n",
       "       4.64158883e+08, 1.00000000e+10]),\n",
       "                         'gamma': array([1.00000000e-09, 2.15443469e-08, 4.64158883e-07, 1.00000000e-05,\n",
       "       2.15443469e-04, 4.64158883e-03, 1.00000000e-01, 2.15443469e+00,\n",
       "       4.64158883e+01, 1.00000000e+03]),\n",
       "                         'kernel': ('linear', 'rbf', 'poly')})"
      ]
     },
     "execution_count": 29,
     "metadata": {},
     "output_type": "execute_result"
    }
   ],
   "source": [
    "%%time\n",
    "\n",
    "parameters = {'kernel': ('linear', 'rbf', 'poly'), 'C': np.logspace(-2, 10, 10), 'gamma': np.logspace(-9, 3, 10)}\n",
    "\n",
    "svc = svm.SVC()\n",
    "clf = GridSearchCV(svc, parameters)\n",
    "clf.fit(matrix_train, sentiment_train)"
   ]
  },
  {
   "cell_type": "code",
   "execution_count": 30,
   "metadata": {},
   "outputs": [
    {
     "data": {
      "text/plain": [
       "0.8666666666666667"
      ]
     },
     "execution_count": 30,
     "metadata": {},
     "output_type": "execute_result"
    }
   ],
   "source": [
    "clf.score(matrix_test, sentiment_test)"
   ]
  },
  {
   "cell_type": "code",
   "execution_count": 31,
   "metadata": {},
   "outputs": [
    {
     "data": {
      "text/plain": [
       "{'C': 4.6415888336127775, 'gamma': 0.004641588833612773, 'kernel': 'rbf'}"
      ]
     },
     "execution_count": 31,
     "metadata": {},
     "output_type": "execute_result"
    }
   ],
   "source": [
    "clf.best_params_"
   ]
  },
  {
   "cell_type": "code",
   "execution_count": 38,
   "metadata": {},
   "outputs": [],
   "source": [
    "N = 100000 #sample out of 815804 ~12.2%\n",
    "\n",
    "from sklearn.model_selection import train_test_split\n",
    "\n",
    "matrix_train, matrix_test, df_train, df_test =  train_test_split(matrix[:N],\n",
    "                                                                 df_combined[:N],\n",
    "                                                                 test_size=0.33,\n",
    "                                                                 random_state=42)\n",
    "\n",
    "sentiment_train = np.array(df_train['sentiment'])\n",
    "review_train = np.array(df_train['reviewText'])\n",
    "source_train = np.array(df_train['source'])\n",
    "\n",
    "sentiment_test = np.array(df_test['sentiment'])\n",
    "review_test = np.array(df_test['reviewText'])\n",
    "source_test = np.array(df_test['source'])"
   ]
  },
  {
   "cell_type": "code",
   "execution_count": 39,
   "metadata": {},
   "outputs": [
    {
     "name": "stdout",
     "output_type": "stream",
     "text": [
      "Wall time: 14min 20s\n"
     ]
    },
    {
     "data": {
      "text/plain": [
       "0.9029090909090909"
      ]
     },
     "execution_count": 39,
     "metadata": {},
     "output_type": "execute_result"
    }
   ],
   "source": [
    "%%time\n",
    "\n",
    "clf_svm_rbf_c_g = svm.SVC(kernel='rbf', C=4.6415888336127775, gamma=0.004641588833612773)\n",
    "\n",
    "clf_svm_rbf_c_g.fit(matrix_train, sentiment_train)\n",
    "\n",
    "clf_svm_rbf_c_g.score(matrix_test, sentiment_test)"
   ]
  },
  {
   "cell_type": "code",
   "execution_count": 40,
   "metadata": {},
   "outputs": [],
   "source": [
    "pred_rbf_c_g = clf_svm_rbf_c_g.predict(matrix_test)"
   ]
  },
  {
   "cell_type": "code",
   "execution_count": 42,
   "metadata": {},
   "outputs": [
    {
     "name": "stdout",
     "output_type": "stream",
     "text": [
      "Classification report for classifier SVC(C=4.6415888336127775, gamma=0.004641588833612773):\n",
      "              precision    recall  f1-score   support\n",
      "\n",
      "    NEGATIVE       0.88      0.93      0.91     16589\n",
      "    POSITIVE       0.93      0.87      0.90     16411\n",
      "\n",
      "    accuracy                           0.90     33000\n",
      "   macro avg       0.90      0.90      0.90     33000\n",
      "weighted avg       0.90      0.90      0.90     33000\n",
      "\n",
      "\n"
     ]
    }
   ],
   "source": [
    "print(f\"Classification report for classifier {clf_svm_rbf_c_g}:\\n\"\n",
    "    f\"{classification_report(sentiment_test, pred_rbf_c_g)}\\n\")"
   ]
  },
  {
   "cell_type": "code",
   "execution_count": 51,
   "metadata": {},
   "outputs": [
    {
     "data": {
      "text/plain": [
       "Text(0.5, 1.0, 'SVC(C=4.6415888336127775, gamma=0.004641588833612773)')"
      ]
     },
     "execution_count": 51,
     "metadata": {},
     "output_type": "execute_result"
    },
    {
     "data": {
      "image/png": "[encoded data removed]",
      "text/plain": [
       "<Figure size 432x288 with 2 Axes>"
      ]
     },
     "metadata": {
      "needs_background": "light"
     },
     "output_type": "display_data"
    }
   ],
   "source": [
    "disp = plot_confusion_matrix(clf_svm_rbf_c_g, matrix_test, sentiment_test,\n",
    "                          cmap=plt.cm.Blues,\n",
    "                          normalize=None\n",
    "                     )\n",
    "disp.ax_.set_title(clf_svm_rbf_c_g)"
   ]
  },
  {
   "cell_type": "code",
   "execution_count": 68,
   "metadata": {},
   "outputs": [
    {
     "name": "stdout",
     "output_type": "stream",
     "text": [
      "sentence: I am totally not happy with this\n",
      "prediction: NEGATIVE\n",
      "\n",
      "sentence: It was good. next time will want this again\n",
      "prediction: POSITIVE\n",
      "\n",
      "sentence: do not buy this\n",
      "prediction: NEGATIVE\n",
      "\n",
      "sentence: I totally agree with this politician. He is clear and honest\n",
      "prediction: POSITIVE\n",
      "\n",
      "sentence: this is really nonsense, this was of no use to us\n",
      "prediction: NEGATIVE\n",
      "\n",
      "sentence: It's actually not very useful to be honest.\n",
      "prediction: NEGATIVE\n",
      "\n",
      "sentence: this semester which is really no fun at all \n",
      "prediction: NEGATIVE\n",
      "\n",
      "sentence: The semester was super easy and very helpful\n",
      "prediction: POSITIVE\n",
      "\n",
      "sentence: drugs are bad mmmokay\n",
      "prediction: NEGATIVE\n",
      "\n"
     ]
    }
   ],
   "source": [
    "def predict_custom_review( clf, review):\n",
    "    if(type(review) == str):\n",
    "        vector = vect.transform([review])\n",
    "        result = clf.predict(vector.toarray())\n",
    "        return \"sentence: \" + review + '\\nprediction: ' + result[0] +'\\n'\n",
    "    else:\n",
    "        return \"Please use a valid sentence\\n\"\n",
    "\n",
    "sentences = [\n",
    "    \"I am totally not happy with this\",\n",
    "    \"It was good. next time will want this again\",\n",
    "    \"do not buy this\",\n",
    "    \"I totally agree with this politician. He is clear and honest\",\n",
    "    \"this is really nonsense, this was of no use to us\",\n",
    "    \"It's actually not very useful to be honest.\",\n",
    "    \"this semester which is really no fun at all \",\n",
    "    \"The semester was super easy and very helpful\",\n",
    "    \"drugs are bad mmmokay\"\n",
    "]\n",
    "\n",
    "for sentence in sentences:\n",
    "    print(predict_custom_review(clf_svm_rbf_c_g,sentence))"
   ]
  },
  {
   "cell_type": "code",
   "execution_count": 67,
   "metadata": {},
   "outputs": [
    {
     "data": {
      "text/plain": [
       "<function __main__.predict_custom_review(clf, review)>"
      ]
     },
     "execution_count": 67,
     "metadata": {},
     "output_type": "execute_result"
    }
   ],
   "source": [
    "predict_custom_review\n",
    "\n",
    "vect\n",
    "\n",
    "clf_svm_rbf_c_g"
   ]
  }
 ],
 "metadata": {
  "kernelspec": {
   "display_name": "Python 3",
   "language": "python",
   "name": "python3"
  },
  "language_info": {
   "codemirror_mode": {
    "name": "ipython",
    "version": 3
   },
   "file_extension": ".py",
   "mimetype": "text/x-python",
   "name": "python",
   "nbconvert_exporter": "python",
   "pygments_lexer": "ipython3",
   "version": "3.8.5"
  }
 },
 "nbformat": 4,
 "nbformat_minor": 4
}
